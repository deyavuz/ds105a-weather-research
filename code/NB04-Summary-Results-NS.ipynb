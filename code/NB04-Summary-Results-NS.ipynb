{
 "cells": [
  {
   "cell_type": "markdown",
   "metadata": {},
   "source": [
    "## <b> NB04 - Summary, Results, and Next Steps </b>"
   ]
  },
  {
   "cell_type": "markdown",
   "metadata": {},
   "source": [
    "Primarily, to recall our two hypotheses:\n",
    "\n",
    "<b> H0: </b> London is no different than any other generally-rainy city, in terms of raininess\n",
    "\n",
    "<b> H1: </b> London is as rainy as the movies make it out to be, defined by how it compares to other cities on raininess"
   ]
  },
  {
   "cell_type": "markdown",
   "metadata": {},
   "source": [
    "Looking at the data from NB03, Kyoto had the highest frequency of number 1 ranks in raininess, taking the leadership with 283 days, while London only had 171 number 1 ranks, which placed it 4/5 rainiest city based on rain sum between January 2021 and January 2024. "
   ]
  },
  {
   "cell_type": "markdown",
   "metadata": {},
   "source": [
    "### Future Research"
   ]
  },
  {
   "cell_type": "markdown",
   "metadata": {},
   "source": [
    "Based on what I have found, it is clear that London is not the rainiest city out of all. However, this is not a direct answer to the question \"Is London really as rainy as the movies make it out to be?\", as it would take a whole different data source (e.g., IMDB API) to properly tackle it. So, instead, I chose to approach it from a \"Is London really as rainy as the movies make it out to be (or is it less rainy than other rainy cities portrayed in movies?)\""
   ]
  },
  {
   "cell_type": "markdown",
   "metadata": {},
   "source": [
    "Thus, having concluded that no, it is not as rainy as most other rainy, movie-featured cities, a next step in exploratory data analysis would be to consider other variables that could be giving London its rainy reputation."
   ]
  },
  {
   "cell_type": "markdown",
   "metadata": {},
   "source": [
    "For this, I am proposing the variable <b> cloud_cover </b> and the hypothesis:\n",
    "\n",
    "<b> H2: </b> London is not rainy but cloudy, which gives it a rainy reputation"
   ]
  },
  {
   "cell_type": "markdown",
   "metadata": {},
   "source": [
    "Of course, H2 cannot be directly proven due to the many, many extraneous factors that go into making a statement like that. \n",
    "\n",
    "My personal theory is that the gloomy, cloudy weather might be playing a role in the rainy reputation of London, which is why I still chose to use cloud cover as a variable and included it in my hypothesis."
   ]
  }
 ],
 "metadata": {
  "kernelspec": {
   "display_name": "base",
   "language": "python",
   "name": "python3"
  },
  "language_info": {
   "codemirror_mode": {
    "name": "ipython",
    "version": 3
   },
   "file_extension": ".py",
   "mimetype": "text/x-python",
   "name": "python",
   "nbconvert_exporter": "python",
   "pygments_lexer": "ipython3",
   "version": "3.11.8"
  }
 },
 "nbformat": 4,
 "nbformat_minor": 2
}
