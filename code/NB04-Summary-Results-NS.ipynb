{
 "cells": [
  {
   "cell_type": "markdown",
   "metadata": {},
   "source": [
    "## <b> NB04 - Summary, Results, and Next Steps </b>"
   ]
  },
  {
   "cell_type": "markdown",
   "metadata": {},
   "source": [
    "Primarily, to recall our two hypotheses:\n",
    "\n",
    "<b> H0: </b> London's raininess is no different than any other generally-rainy city\n",
    "\n",
    "<b> H1: </b> London is rainier than the other selected cities"
   ]
  },
  {
   "cell_type": "markdown",
   "metadata": {},
   "source": [
    "Based on what I have found, it is clear that London is not the rainiest city out of all. However, this is not a direct answer to the question \"Is London really as rainy as the movies make it out to be?\", as it would take a whole different data source (e.g., IMDB API) to properly tackle it. So, instead, I chose to approach it from a \"Is London really as rainy as the movies make it out to be (or is it less rainy than other rainy cities portrayed in movies?)\""
   ]
  },
  {
   "cell_type": "markdown",
   "metadata": {},
   "source": [
    "Looking at the data from NB03, Kyoto had the highest frequency of number 1 ranks in raininess, taking the leadership with 283 days, while London only had 171 number 1 ranks, which placed it 4/5 rainiest city based on rain sum between January 2021 and January 2024. "
   ]
  },
  {
   "cell_type": "markdown",
   "metadata": {},
   "source": [
    "### Limitations and Future Research"
   ]
  },
  {
   "cell_type": "markdown",
   "metadata": {},
   "source": [
    "The primary limitation while conducting this research were the parameters I could use. As my primary source of data was the OpenMeteo API, I was limited to their data, which covered a set period of time and a pre-decided set of variables (e.g., rain sum, snow sum, etc.). I would have liked to incorporate a longer time period to have a wider range of data, alongside somehow taking rain in movies into consideration in my research, as that was the starting point of the research."
   ]
  },
  {
   "cell_type": "markdown",
   "metadata": {},
   "source": [
    "Having concluded that no, London is not as rainy as most other rainy, movie-featured cities, a next step in exploratory data analysis would be to consider other variables that could be giving London its rainy reputation."
   ]
  },
  {
   "cell_type": "markdown",
   "metadata": {},
   "source": [
    "For this, I am proposing the variable <b> cloud_cover </b> and the hypothesis:\n",
    "\n",
    "<b> H2: </b> London is not rainy but cloudy, which gives it a rainy reputation"
   ]
  },
  {
   "cell_type": "markdown",
   "metadata": {},
   "source": [
    "Of course, a direct correlation between cloud cover/cloudiness and London's rainy reputation cannot be proven due to the many, many extraneous factors that go into making a statement like that; however, accompanied by survey or interview responses from Londoners, the relationship could be further clarified. "
   ]
  },
  {
   "cell_type": "markdown",
   "metadata": {},
   "source": [
    "Additionally, as I have mentioned, using a movie database such as IMDB or TMDB and collecting data through their API could also add an interesting perspective and layer to the research and help us in answering the question \"Is London really as rainy as the movies make it out to be?\""
   ]
  }
 ],
 "metadata": {
  "kernelspec": {
   "display_name": "base",
   "language": "python",
   "name": "python3"
  },
  "language_info": {
   "codemirror_mode": {
    "name": "ipython",
    "version": 3
   },
   "file_extension": ".py",
   "mimetype": "text/x-python",
   "name": "python",
   "nbconvert_exporter": "python",
   "pygments_lexer": "ipython3",
   "version": "3.11.8"
  }
 },
 "nbformat": 4,
 "nbformat_minor": 2
}
