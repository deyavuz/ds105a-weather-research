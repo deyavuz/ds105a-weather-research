{
 "cells": [
  {
   "cell_type": "markdown",
   "metadata": {},
   "source": [
    "## <b> NB02 - Raininess Index </b>"
   ]
  },
  {
   "cell_type": "markdown",
   "metadata": {},
   "source": [
    "My Raininiess Index (RI) will be composed of the variable <b> rain sum </b>\n",
    "\n",
    "This will help me make deductions regarding my two hypotheses:\n",
    "\n",
    "<b> H0: </b>  London is no different than any other generally-rainy city\n",
    "\n",
    "<b> H1: </b> London is as rainy as the movies make it out to be\n",
    "\n",
    "However, I have a third hypothesis:\n",
    "\n",
    "<b> H2: </b> London is not rainy but cloudy, which gives it a rainy reputation\n",
    "\n",
    "Of course, H2 cannot be directly proven due to the many, many extraneous factors that go into making a statement like that. This is why I'm leaving \"cloud cover\" separate from my RI but still using it to make comparisons.\n",
    "\n",
    "My personal theory is that the gloomy, cloudy weather might be playing a role in the rainy reputation of London, which is why I still chose to use cloud cover as a variable and included it in my hypothesis."
   ]
  },
  {
   "cell_type": "code",
   "execution_count": 8,
   "metadata": {},
   "outputs": [
    {
     "data": {
      "text/html": [
       "\n",
       "            <div id=\"3JLMSv\"></div>\n",
       "            <script type=\"text/javascript\" data-lets-plot-script=\"library\">\n",
       "                if(!window.letsPlotCallQueue) {\n",
       "                    window.letsPlotCallQueue = [];\n",
       "                }; \n",
       "                window.letsPlotCall = function(f) {\n",
       "                    window.letsPlotCallQueue.push(f);\n",
       "                };\n",
       "                (function() {\n",
       "                    var script = document.createElement(\"script\");\n",
       "                    script.type = \"text/javascript\";\n",
       "                    script.src = \"https://cdn.jsdelivr.net/gh/JetBrains/lets-plot@v4.4.1/js-package/distr/lets-plot.min.js\";\n",
       "                    script.onload = function() {\n",
       "                        window.letsPlotCall = function(f) {f();};\n",
       "                        window.letsPlotCallQueue.forEach(function(f) {f();});\n",
       "                        window.letsPlotCallQueue = [];\n",
       "                        \n",
       "                    };\n",
       "                    script.onerror = function(event) {\n",
       "                        window.letsPlotCall = function(f) {};    // noop\n",
       "                        window.letsPlotCallQueue = [];\n",
       "                        var div = document.createElement(\"div\");\n",
       "                        div.style.color = 'darkred';\n",
       "                        div.textContent = 'Error loading Lets-Plot JS';\n",
       "                        document.getElementById(\"3JLMSv\").appendChild(div);\n",
       "                    };\n",
       "                    var e = document.getElementById(\"3JLMSv\");\n",
       "                    e.appendChild(script);\n",
       "                })()\n",
       "            </script>\n",
       "            "
      ]
     },
     "metadata": {},
     "output_type": "display_data"
    }
   ],
   "source": [
    "import pandas as pd\n",
    "import os\n",
    "import json\n",
    "import requests\n",
    "import numpy as np\n",
    "\n",
    "from functions import *\n",
    "\n",
    "from lets_plot import *\n",
    "LetsPlot.setup_html()"
   ]
  },
  {
   "cell_type": "code",
   "execution_count": 9,
   "metadata": {},
   "outputs": [],
   "source": [
    "daily_rain_df = pd.read_json('../data/daily_rain.json')\n",
    "\n",
    "daily_rain_df = daily_rain_df.rename(columns={'rain_sum': 'raininess'})\n",
    "\n",
    "daily_rain_df.to_csv('../data/london_rain.csv', index=False)"
   ]
  },
  {
   "cell_type": "code",
   "execution_count": 10,
   "metadata": {},
   "outputs": [],
   "source": [
    "all_city_rain_df = pd.read_csv('../data/historical_city_rain_data.csv')\n",
    "\n",
    "all_city_rain_df = all_city_rain_df.rename(columns={'rain_sum': 'raininess'})\n",
    "\n",
    "all_city_rain_df.to_csv('../data/historical_city_rain_data.csv', index=False)"
   ]
  },
  {
   "cell_type": "code",
   "execution_count": 14,
   "metadata": {},
   "outputs": [
    {
     "data": {
      "text/html": [
       "<div>\n",
       "<style scoped>\n",
       "    .dataframe tbody tr th:only-of-type {\n",
       "        vertical-align: middle;\n",
       "    }\n",
       "\n",
       "    .dataframe tbody tr th {\n",
       "        vertical-align: top;\n",
       "    }\n",
       "\n",
       "    .dataframe thead th {\n",
       "        text-align: right;\n",
       "    }\n",
       "</style>\n",
       "<table border=\"1\" class=\"dataframe\">\n",
       "  <thead>\n",
       "    <tr style=\"text-align: right;\">\n",
       "      <th></th>\n",
       "      <th>country</th>\n",
       "      <th>city</th>\n",
       "      <th>date</th>\n",
       "      <th>raininess</th>\n",
       "    </tr>\n",
       "  </thead>\n",
       "  <tbody>\n",
       "    <tr>\n",
       "      <th>0</th>\n",
       "      <td>GB</td>\n",
       "      <td>London</td>\n",
       "      <td>2021-01-01</td>\n",
       "      <td>0.4</td>\n",
       "    </tr>\n",
       "    <tr>\n",
       "      <th>1</th>\n",
       "      <td>GB</td>\n",
       "      <td>London</td>\n",
       "      <td>2021-01-02</td>\n",
       "      <td>0.0</td>\n",
       "    </tr>\n",
       "    <tr>\n",
       "      <th>2</th>\n",
       "      <td>GB</td>\n",
       "      <td>London</td>\n",
       "      <td>2021-01-03</td>\n",
       "      <td>0.6</td>\n",
       "    </tr>\n",
       "    <tr>\n",
       "      <th>3</th>\n",
       "      <td>GB</td>\n",
       "      <td>London</td>\n",
       "      <td>2021-01-04</td>\n",
       "      <td>2.3</td>\n",
       "    </tr>\n",
       "    <tr>\n",
       "      <th>4</th>\n",
       "      <td>GB</td>\n",
       "      <td>London</td>\n",
       "      <td>2021-01-05</td>\n",
       "      <td>2.1</td>\n",
       "    </tr>\n",
       "  </tbody>\n",
       "</table>\n",
       "</div>"
      ],
      "text/plain": [
       "  country    city        date  raininess\n",
       "0      GB  London  2021-01-01        0.4\n",
       "1      GB  London  2021-01-02        0.0\n",
       "2      GB  London  2021-01-03        0.6\n",
       "3      GB  London  2021-01-04        2.3\n",
       "4      GB  London  2021-01-05        2.1"
      ]
     },
     "execution_count": 14,
     "metadata": {},
     "output_type": "execute_result"
    }
   ],
   "source": [
    "data = pd.read_csv('../data/historical_city_rain_data.csv')\n",
    "\n",
    "df = pd.DataFrame(data)\n",
    "\n",
    "df.head()"
   ]
  },
  {
   "cell_type": "markdown",
   "metadata": {},
   "source": [
    "Onto the data analysis, I will be ranking the cities by:\n",
    "- every single day, number 1 in raininess\n",
    "\n",
    "And then:\n",
    "- calculating how many times London is number 1\n",
    "\n",
    "Click [here]() to navigate to NB03 - Rankings!"
   ]
  },
  {
   "cell_type": "markdown",
   "metadata": {},
   "source": []
  }
 ],
 "metadata": {
  "kernelspec": {
   "display_name": "base",
   "language": "python",
   "name": "python3"
  },
  "language_info": {
   "codemirror_mode": {
    "name": "ipython",
    "version": 3
   },
   "file_extension": ".py",
   "mimetype": "text/x-python",
   "name": "python",
   "nbconvert_exporter": "python",
   "pygments_lexer": "ipython3",
   "version": "3.11.8"
  }
 },
 "nbformat": 4,
 "nbformat_minor": 2
}
