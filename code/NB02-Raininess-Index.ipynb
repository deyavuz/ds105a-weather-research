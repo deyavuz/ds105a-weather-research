{
 "cells": [
  {
   "cell_type": "markdown",
   "metadata": {},
   "source": [
    "## <b> NB02 - Raininess Index </b>"
   ]
  },
  {
   "cell_type": "markdown",
   "metadata": {},
   "source": [
    "My Raininiess Index (RI) will be composed of the variable <b> rain sum </b>, as I am trying to see whether London is as rainy as the movies make it out to be (and in general, how rainy it is compared to other rainy cities). So, using rain sum to decide on the raininess makes more sense than using a variable such as precipitation sum, which also includes snow.\n",
    "\n",
    "#### This will help me make deductions regarding my two hypotheses:\n",
    "\n",
    "<b> H0: </b> London is no different than any other generally-rainy city, in terms of raininess\n",
    "\n",
    "<b> H1: </b> London is as rainy as the movies make it out to be, defined by how it compares to other cities on raininess"
   ]
  },
  {
   "cell_type": "code",
   "execution_count": 222,
   "metadata": {},
   "outputs": [
    {
     "data": {
      "text/html": [
       "\n",
       "            <div id=\"tUUSfv\"></div>\n",
       "            <script type=\"text/javascript\" data-lets-plot-script=\"library\">\n",
       "                if(!window.letsPlotCallQueue) {\n",
       "                    window.letsPlotCallQueue = [];\n",
       "                }; \n",
       "                window.letsPlotCall = function(f) {\n",
       "                    window.letsPlotCallQueue.push(f);\n",
       "                };\n",
       "                (function() {\n",
       "                    var script = document.createElement(\"script\");\n",
       "                    script.type = \"text/javascript\";\n",
       "                    script.src = \"https://cdn.jsdelivr.net/gh/JetBrains/lets-plot@v4.4.1/js-package/distr/lets-plot.min.js\";\n",
       "                    script.onload = function() {\n",
       "                        window.letsPlotCall = function(f) {f();};\n",
       "                        window.letsPlotCallQueue.forEach(function(f) {f();});\n",
       "                        window.letsPlotCallQueue = [];\n",
       "                        \n",
       "                    };\n",
       "                    script.onerror = function(event) {\n",
       "                        window.letsPlotCall = function(f) {};    // noop\n",
       "                        window.letsPlotCallQueue = [];\n",
       "                        var div = document.createElement(\"div\");\n",
       "                        div.style.color = 'darkred';\n",
       "                        div.textContent = 'Error loading Lets-Plot JS';\n",
       "                        document.getElementById(\"tUUSfv\").appendChild(div);\n",
       "                    };\n",
       "                    var e = document.getElementById(\"tUUSfv\");\n",
       "                    e.appendChild(script);\n",
       "                })()\n",
       "            </script>\n",
       "            "
      ]
     },
     "metadata": {},
     "output_type": "display_data"
    }
   ],
   "source": [
    "## Importing packages\n",
    "import pandas as pd\n",
    "import os\n",
    "import json\n",
    "import requests\n",
    "import numpy as np\n",
    "\n",
    "from functions import *\n",
    "\n",
    "from lets_plot import *\n",
    "LetsPlot.setup_html()\n",
    "\n",
    "import geopandas as gpd\n",
    "\n",
    "from lets_plot.geo_data import *\n",
    "\n",
    "import geodatasets\n",
    "\n",
    "from IPython.display import HTML"
   ]
  },
  {
   "cell_type": "code",
   "execution_count": 223,
   "metadata": {},
   "outputs": [],
   "source": [
    "## Reading London data and renaming rain_sum as raininess (as a test-run)\n",
    "daily_rain_df = pd.read_json('../data/daily_rain.json')\n",
    "\n",
    "daily_rain_df = daily_rain_df.rename(columns={'rain_sum': 'raininess'})\n",
    "\n",
    "daily_rain_df.to_csv('../data/london_rain.csv', index=False)"
   ]
  },
  {
   "cell_type": "code",
   "execution_count": 224,
   "metadata": {},
   "outputs": [],
   "source": [
    "## Reading the complete city data and renaming rain_sum as raininess\n",
    "all_city_rain_df = pd.read_csv('../data/historical_city_rain_data.csv')\n",
    "\n",
    "all_city_rain_df = all_city_rain_df.rename(columns={'rain_sum': 'raininess'})\n",
    "\n",
    "all_city_rain_df.to_csv('../data/historical_city_rain_data.csv', index=False)"
   ]
  },
  {
   "cell_type": "code",
   "execution_count": 225,
   "metadata": {},
   "outputs": [
    {
     "data": {
      "text/html": [
       "<div>\n",
       "<style scoped>\n",
       "    .dataframe tbody tr th:only-of-type {\n",
       "        vertical-align: middle;\n",
       "    }\n",
       "\n",
       "    .dataframe tbody tr th {\n",
       "        vertical-align: top;\n",
       "    }\n",
       "\n",
       "    .dataframe thead th {\n",
       "        text-align: right;\n",
       "    }\n",
       "</style>\n",
       "<table border=\"1\" class=\"dataframe\">\n",
       "  <thead>\n",
       "    <tr style=\"text-align: right;\">\n",
       "      <th></th>\n",
       "      <th>country</th>\n",
       "      <th>city</th>\n",
       "      <th>date</th>\n",
       "      <th>raininess</th>\n",
       "    </tr>\n",
       "  </thead>\n",
       "  <tbody>\n",
       "    <tr>\n",
       "      <th>0</th>\n",
       "      <td>GB</td>\n",
       "      <td>London</td>\n",
       "      <td>2021-01-01</td>\n",
       "      <td>0.4</td>\n",
       "    </tr>\n",
       "    <tr>\n",
       "      <th>1</th>\n",
       "      <td>GB</td>\n",
       "      <td>London</td>\n",
       "      <td>2021-01-02</td>\n",
       "      <td>0.0</td>\n",
       "    </tr>\n",
       "    <tr>\n",
       "      <th>2</th>\n",
       "      <td>GB</td>\n",
       "      <td>London</td>\n",
       "      <td>2021-01-03</td>\n",
       "      <td>0.6</td>\n",
       "    </tr>\n",
       "    <tr>\n",
       "      <th>3</th>\n",
       "      <td>GB</td>\n",
       "      <td>London</td>\n",
       "      <td>2021-01-04</td>\n",
       "      <td>2.3</td>\n",
       "    </tr>\n",
       "    <tr>\n",
       "      <th>4</th>\n",
       "      <td>GB</td>\n",
       "      <td>London</td>\n",
       "      <td>2021-01-05</td>\n",
       "      <td>2.1</td>\n",
       "    </tr>\n",
       "  </tbody>\n",
       "</table>\n",
       "</div>"
      ],
      "text/plain": [
       "  country    city        date  raininess\n",
       "0      GB  London  2021-01-01        0.4\n",
       "1      GB  London  2021-01-02        0.0\n",
       "2      GB  London  2021-01-03        0.6\n",
       "3      GB  London  2021-01-04        2.3\n",
       "4      GB  London  2021-01-05        2.1"
      ]
     },
     "execution_count": 225,
     "metadata": {},
     "output_type": "execute_result"
    }
   ],
   "source": [
    "## Converting the data into a pandas table and calling the first 5 rows\n",
    "data = pd.read_csv('../data/historical_city_rain_data.csv')\n",
    "\n",
    "df = pd.DataFrame(data)\n",
    "\n",
    "df.head()"
   ]
  },
  {
   "cell_type": "code",
   "execution_count": 226,
   "metadata": {},
   "outputs": [
    {
     "name": "stdout",
     "output_type": "stream",
     "text": [
      "        city  monthly_mean_raininess year_month\n",
      "0      Kyoto                2.209677    2021-01\n",
      "1      Kyoto                2.303571    2021-02\n",
      "2      Kyoto                4.651613    2021-03\n",
      "3      Kyoto                7.000000    2021-04\n",
      "4      Kyoto                9.970968    2021-05\n",
      "..       ...                     ...        ...\n",
      "180  Seattle                2.620000    2023-09\n",
      "181  Seattle                2.754839    2023-10\n",
      "182  Seattle                4.773333    2023-11\n",
      "183  Seattle                6.887097    2023-12\n",
      "184  Seattle                0.000000    2024-01\n",
      "\n",
      "[185 rows x 3 columns]\n"
     ]
    },
    {
     "name": "stderr",
     "output_type": "stream",
     "text": [
      "/tmp/ipykernel_7108/2048725223.py:29: UserWarning: Could not infer format, so each element will be parsed individually, falling back to `dateutil`. To ensure parsing is consistent and as-expected, please specify a format.\n",
      "  df['year_month'] = pd.to_datetime(df['month_name'] + ' ' + df['year'].astype(str))\n"
     ]
    }
   ],
   "source": [
    "df['date'] = pd.to_datetime(df['date'])\n",
    "\n",
    "df = df.set_index('date')\n",
    "\n",
    "## Grouping by city and resampling to get monthly raininess means\n",
    "df = df.groupby('city').resample('ME')['raininess'].mean().reset_index()\n",
    "\n",
    "## Converting the date column to datetime\n",
    "df['date'] = pd.to_datetime(df['date'])\n",
    "\n",
    "## Extracting month names\n",
    "df['month_name'] = df['date'].dt.month_name()\n",
    "\n",
    "## Dropping the date column because I only want months\n",
    "df.drop(columns=['date'], inplace=True)\n",
    "\n",
    "## Renaming the 'mean_raininess' column to 'monthly mean raininess'\n",
    "df.rename(columns={'raininess': 'monthly_mean_raininess'}, inplace=True)\n",
    "\n",
    "## Here, I've tested an seen that I require years too, so:\n",
    "## Creating a year list\n",
    "year = [2021] * 12 + [2022] * 12 + [2023] * 12 + [2024] * 1 + [2021] * 12 + [2022] * 12 + [2023] * 12 + [2024] * 1 + [2021] * 12 + [2022] * 12 + [2023] * 12 + [2024] * 1 + [2021] * 12 + [2022] * 12 + [2023] * 12 + [2024] * 1 + [2021] * 12 + [2022] * 12 + [2023] * 12 + [2024] * 1\n",
    "\n",
    "## Adding the year list as a new column to the dataframe\n",
    "df['year'] = year\n",
    "\n",
    "## Creating a year_month column with month names and years\n",
    "df['year_month'] = pd.to_datetime(df['month_name'] + ' ' + df['year'].astype(str))\n",
    "\n",
    "## Formatting year_month\n",
    "df['year_month'] = df['year_month'].dt.strftime('%Y-%m')\n",
    "\n",
    "## Dropping the separate month_name and year columns as they are now redundant\n",
    "df.drop(columns=['month_name', 'year'], inplace=True)\n",
    "\n",
    "## Printing df to check for errors\n",
    "print(df)"
   ]
  },
  {
   "cell_type": "code",
   "execution_count": 227,
   "metadata": {},
   "outputs": [],
   "source": [
    "df.to_csv('../data/monthly_avg.csv', index=False)\n",
    "monthly_avg = pd.read_csv('/files/ds105a-2024-w06-summative-deyavuz/data/monthly_avg.csv')"
   ]
  },
  {
   "cell_type": "code",
   "execution_count": 228,
   "metadata": {},
   "outputs": [
    {
     "name": "stdout",
     "output_type": "stream",
     "text": [
      "Empty DataFrame\n",
      "Columns: [city, monthly_mean_raininess, year_month]\n",
      "Index: []\n"
     ]
    }
   ],
   "source": [
    "monthly_avg['year_month'] = pd.to_datetime(monthly_avg['year_month'], format='%Y-%m', errors='coerce')\n",
    "\n",
    "print(monthly_avg[monthly_avg['year_month'].isnull()])\n",
    "\n",
    "monthly_avg.sort_values('year_month', inplace=True)"
   ]
  },
  {
   "cell_type": "code",
   "execution_count": 245,
   "metadata": {},
   "outputs": [
    {
     "data": {
      "text/html": [
       "   <div id=\"xekAci\"></div>\n",
       "   <script type=\"text/javascript\" data-lets-plot-script=\"plot\">\n",
       "       (function() {\n",
       "           var plotSpec={\n",
       "\"data\":{\n",
       "\"city\":[\"Kyoto\",\"Oslo\",\"Seattle\",\"London\",\"Munich\",\"Seattle\",\"Munich\",\"Oslo\",\"Kyoto\",\"London\",\"London\",\"Kyoto\",\"Oslo\",\"Munich\",\"Seattle\",\"Seattle\",\"London\",\"Oslo\",\"Kyoto\",\"Munich\",\"Munich\",\"Kyoto\",\"Seattle\",\"London\",\"Oslo\",\"Munich\",\"London\",\"Oslo\",\"Seattle\",\"Kyoto\",\"Munich\",\"London\",\"Seattle\",\"Oslo\",\"Kyoto\",\"Oslo\",\"Munich\",\"London\",\"Kyoto\",\"Seattle\",\"Munich\",\"Oslo\",\"London\",\"Kyoto\",\"Seattle\",\"Oslo\",\"Kyoto\",\"Munich\",\"Seattle\",\"London\",\"Seattle\",\"Munich\",\"London\",\"Kyoto\",\"Oslo\",\"Kyoto\",\"Munich\",\"Seattle\",\"London\",\"Oslo\",\"Oslo\",\"London\",\"Kyoto\",\"Munich\",\"Seattle\",\"Kyoto\",\"Munich\",\"Seattle\",\"London\",\"Oslo\",\"Seattle\",\"Munich\",\"London\",\"Kyoto\",\"Oslo\",\"Seattle\",\"Munich\",\"Kyoto\",\"Oslo\",\"London\",\"Munich\",\"London\",\"Oslo\",\"Kyoto\",\"Seattle\",\"Oslo\",\"Kyoto\",\"Seattle\",\"London\",\"Munich\",\"Oslo\",\"Seattle\",\"Munich\",\"Kyoto\",\"London\",\"Munich\",\"Seattle\",\"London\",\"Oslo\",\"Kyoto\",\"Kyoto\",\"Seattle\",\"Munich\",\"Oslo\",\"London\",\"Oslo\",\"Munich\",\"London\",\"Kyoto\",\"Seattle\",\"Oslo\",\"London\",\"Kyoto\",\"Munich\",\"Seattle\",\"Seattle\",\"Oslo\",\"Munich\",\"London\",\"Kyoto\",\"Oslo\",\"London\",\"Seattle\",\"Kyoto\",\"Munich\",\"Oslo\",\"London\",\"Kyoto\",\"Seattle\",\"Munich\",\"Seattle\",\"Kyoto\",\"London\",\"Oslo\",\"Munich\",\"Seattle\",\"Kyoto\",\"Oslo\",\"Munich\",\"London\",\"Kyoto\",\"Seattle\",\"London\",\"Munich\",\"Oslo\",\"London\",\"Munich\",\"Kyoto\",\"Oslo\",\"Seattle\",\"London\",\"Kyoto\",\"Seattle\",\"Munich\",\"Oslo\",\"Kyoto\",\"Seattle\",\"Munich\",\"Oslo\",\"London\",\"Munich\",\"London\",\"Kyoto\",\"Seattle\",\"Oslo\",\"London\",\"Kyoto\",\"Munich\",\"Seattle\",\"Oslo\",\"London\",\"Kyoto\",\"Munich\",\"Seattle\",\"Oslo\",\"Seattle\",\"London\",\"Kyoto\",\"Oslo\",\"Munich\",\"Munich\",\"London\",\"Kyoto\",\"Oslo\",\"Seattle\"],\n",
       "\"monthly_mean_raininess\":[2.2096774193548385,0.967741935483871,7.948387096774193,3.5354838709677416,0.996774193548387,3.871428571428571,1.325,0.4321428571428571,2.3035714285714284,1.2964285714285713,1.058064516129032,4.651612903225806,0.4580645161290322,0.9483870967741936,2.7419354838709675,1.2733333333333334,0.3333333333333333,0.19,7.0,1.0233333333333332,5.374193548387097,9.970967741935484,1.170967741935484,2.7838709677419358,3.6322580645161286,4.966666666666667,3.3,2.12,2.0733333333333333,6.62,4.95483870967742,2.8096774193548386,0.1096774193548387,6.183870967741935,10.50967741935484,0.9193548387096774,5.770967741935484,1.7903225806451613,13.77741935483871,0.6193548387096774,2.013333333333333,3.0933333333333333,1.5666666666666669,7.826666666666666,2.91,5.125806451612903,2.548387096774193,1.216129032258065,5.316129032258064,3.9516129032258074,8.81,1.3966666666666667,0.31,2.4366666666666665,2.393333333333333,3.5129032258064514,1.735483870967742,4.232258064516129,2.3548387096774195,0.0516129032258064,0.0838709677419354,0.6129032258064516,1.0032258064516129,0.7612903225806452,5.429032258064517,0.7392857142857142,1.8285714285714287,3.557142857142857,2.082142857142857,1.275,2.841935483870968,0.6387096774193549,1.4741935483870967,3.335483870967742,0.2612903225806451,2.8866666666666663,2.7066666666666666,4.17,0.2366666666666666,0.7233333333333333,2.958064516129032,2.8483870967741933,2.532258064516129,5.225806451612903,3.858064516129032,3.333333333333333,6.093333333333333,2.606666666666667,2.0966666666666667,5.406666666666667,2.6,0.2709677419354839,2.1516129032258067,10.112903225806452,0.4516129032258064,4.906451612903226,0.4838709677419355,0.9225806451612903,1.5580645161290323,6.987096774193549,9.006666666666666,0.35,4.44,3.5733333333333333,1.6866666666666668,3.325806451612903,3.3225806451612905,2.532258064516129,3.941935483870968,2.7225806451612904,3.893333333333333,4.6433333333333335,3.6533333333333338,2.1166666666666667,3.673333333333333,5.525806451612904,1.2032258064516128,1.3387096774193548,1.7645161290322582,0.970967741935484,1.283870967741935,1.8451612903225807,3.645161290322581,0.9193548387096774,0.5967741935483871,0.5107142857142857,0.425,1.385714285714286,1.864285714285714,1.4714285714285715,2.570967741935484,4.067741935483871,2.8870967741935485,0.7225806451612903,1.8387096774193548,4.08,6.086666666666667,3.943333333333333,3.636666666666667,2.373333333333333,7.116129032258065,0.6580645161290323,1.1806451612903226,3.480645161290323,0.5032258064516129,1.3166666666666669,1.06,9.896666666666668,1.8133333333333328,1.1033333333333333,2.903225806451613,4.070967741935484,0.1612903225806451,3.3741935483870966,6.145161290322581,7.141935483870967,0.9548387096774192,5.980645161290322,8.561290322580644,1.803225806451613,1.8133333333333328,1.923333333333333,3.303333333333333,2.62,4.863333333333333,2.9645161290322584,1.9096774193548387,1.8225806451612905,2.7548387096774194,0.9483870967741936,2.9966666666666666,3.243333333333333,5.416666666666667,4.7733333333333325,1.8333333333333333,6.887096774193548,2.52258064516129,1.7451612903225806,0.0580645161290322,3.4000000000000004,0.2,10.5,2.9,0.0,0.0],\n",
       "\"year_month\":[1.6094592E12,1.6094592E12,1.6094592E12,1.6094592E12,1.6094592E12,1.6121376E12,1.6121376E12,1.6121376E12,1.6121376E12,1.6121376E12,1.6145568E12,1.6145568E12,1.6145568E12,1.6145568E12,1.6145568E12,1.6172352E12,1.6172352E12,1.6172352E12,1.6172352E12,1.6172352E12,1.6198272E12,1.6198272E12,1.6198272E12,1.6198272E12,1.6198272E12,1.6225056E12,1.6225056E12,1.6225056E12,1.6225056E12,1.6225056E12,1.6250976E12,1.6250976E12,1.6250976E12,1.6250976E12,1.6250976E12,1.627776E12,1.627776E12,1.627776E12,1.627776E12,1.627776E12,1.6304544E12,1.6304544E12,1.6304544E12,1.6304544E12,1.6304544E12,1.6330464E12,1.6330464E12,1.6330464E12,1.6330464E12,1.6330464E12,1.6357248E12,1.6357248E12,1.6357248E12,1.6357248E12,1.6357248E12,1.6383168E12,1.6383168E12,1.6383168E12,1.6383168E12,1.6383168E12,1.6409952E12,1.6409952E12,1.6409952E12,1.6409952E12,1.6409952E12,1.6436736E12,1.6436736E12,1.6436736E12,1.6436736E12,1.6436736E12,1.6460928E12,1.6460928E12,1.6460928E12,1.6460928E12,1.6460928E12,1.6487712E12,1.6487712E12,1.6487712E12,1.6487712E12,1.6487712E12,1.6513632E12,1.6513632E12,1.6513632E12,1.6513632E12,1.6513632E12,1.6540416E12,1.6540416E12,1.6540416E12,1.6540416E12,1.6540416E12,1.6566336E12,1.6566336E12,1.6566336E12,1.6566336E12,1.6566336E12,1.659312E12,1.659312E12,1.659312E12,1.659312E12,1.659312E12,1.6619904E12,1.6619904E12,1.6619904E12,1.6619904E12,1.6619904E12,1.6645824E12,1.6645824E12,1.6645824E12,1.6645824E12,1.6645824E12,1.6672608E12,1.6672608E12,1.6672608E12,1.6672608E12,1.6672608E12,1.6698528E12,1.6698528E12,1.6698528E12,1.6698528E12,1.6698528E12,1.6725312E12,1.6725312E12,1.6725312E12,1.6725312E12,1.6725312E12,1.6752096E12,1.6752096E12,1.6752096E12,1.6752096E12,1.6752096E12,1.6776288E12,1.6776288E12,1.6776288E12,1.6776288E12,1.6776288E12,1.6803072E12,1.6803072E12,1.6803072E12,1.6803072E12,1.6803072E12,1.6828992E12,1.6828992E12,1.6828992E12,1.6828992E12,1.6828992E12,1.6855776E12,1.6855776E12,1.6855776E12,1.6855776E12,1.6855776E12,1.6881696E12,1.6881696E12,1.6881696E12,1.6881696E12,1.6881696E12,1.690848E12,1.690848E12,1.690848E12,1.690848E12,1.690848E12,1.6935264E12,1.6935264E12,1.6935264E12,1.6935264E12,1.6935264E12,1.6961184E12,1.6961184E12,1.6961184E12,1.6961184E12,1.6961184E12,1.6987968E12,1.6987968E12,1.6987968E12,1.6987968E12,1.6987968E12,1.7013888E12,1.7013888E12,1.7013888E12,1.7013888E12,1.7013888E12,1.7040672E12,1.7040672E12,1.7040672E12,1.7040672E12,1.7040672E12]\n",
       "},\n",
       "\"mapping\":{\n",
       "\"x\":\"year_month\",\n",
       "\"y\":\"monthly_mean_raininess\",\n",
       "\"group\":\"city\"\n",
       "},\n",
       "\"data_meta\":{\n",
       "\"series_annotations\":[{\n",
       "\"type\":\"str\",\n",
       "\"column\":\"city\"\n",
       "},{\n",
       "\"type\":\"float\",\n",
       "\"column\":\"monthly_mean_raininess\"\n",
       "},{\n",
       "\"type\":\"datetime\",\n",
       "\"column\":\"year_month\"\n",
       "}]\n",
       "},\n",
       "\"guides\":{\n",
       "\"x\":{\n",
       "\"title\":\"Year and Month\"\n",
       "},\n",
       "\"y\":{\n",
       "\"title\":\"Monthly Mean Raininess\"\n",
       "}\n",
       "},\n",
       "\"ggtitle\":{\n",
       "\"text\":\"Monthly Mean Raininess for Each City Between 2021-2024\"\n",
       "},\n",
       "\"kind\":\"plot\",\n",
       "\"scales\":[],\n",
       "\"layers\":[{\n",
       "\"geom\":\"line\",\n",
       "\"mapping\":{\n",
       "\"color\":\"city\"\n",
       "},\n",
       "\"data_meta\":{\n",
       "},\n",
       "\"size\":1.0,\n",
       "\"alpha\":0.5,\n",
       "\"data\":{\n",
       "}\n",
       "}],\n",
       "\"metainfo_list\":[]\n",
       "};\n",
       "           var plotContainer = document.getElementById(\"xekAci\");\n",
       "           window.letsPlotCall(function() {{\n",
       "               LetsPlot.buildPlotFromProcessedSpecs(plotSpec, -1, -1, plotContainer);\n",
       "           }});\n",
       "       })();\n",
       "   </script>"
      ],
      "text/plain": [
       "<lets_plot.plot.core.PlotSpec at 0x7fda325bd390>"
      ]
     },
     "execution_count": 245,
     "metadata": {},
     "output_type": "execute_result"
    }
   ],
   "source": [
    "ggplot(monthly_avg, aes(x='year_month', y='monthly_mean_raininess', group='city')) + \\\n",
    "    geom_line(aes(color='city'), size=1, alpha=0.5) + \\\n",
    "    xlab('Year and Month') + \\\n",
    "    ylab('Monthly Mean Raininess') + \\\n",
    "        ggtitle('Monthly Mean Raininess for Each City Between 2021-2024')"
   ]
  },
  {
   "cell_type": "code",
   "execution_count": 232,
   "metadata": {},
   "outputs": [
    {
     "name": "stdout",
     "output_type": "stream",
     "text": [
      "      city  mean_raininess\n",
      "0    Kyoto        5.004197\n",
      "1   London        2.016423\n",
      "2   Munich        2.731934\n",
      "3     Oslo        2.245985\n",
      "4  Seattle        2.977190\n"
     ]
    }
   ],
   "source": [
    "## Calculating the mean raininess of each city, to map out the cities' raininess\n",
    "df = pd.read_csv('../data/historical_city_rain_data.csv')\n",
    "\n",
    "mean_raininess_per_city = df.groupby('city')['raininess'].mean().reset_index()\n",
    "\n",
    "mean_raininess_per_city.columns = ['city', 'mean_raininess']\n",
    "\n",
    "print(mean_raininess_per_city)"
   ]
  },
  {
   "cell_type": "code",
   "execution_count": 233,
   "metadata": {},
   "outputs": [],
   "source": [
    "## Saving mean raininess data\n",
    "mean_raininess_per_city.to_csv('../data/mean_raininess_per_city.csv', index=False)"
   ]
  },
  {
   "cell_type": "code",
   "execution_count": 234,
   "metadata": {},
   "outputs": [
    {
     "data": {
      "text/html": [
       "   <div id=\"wX7lCr\"></div>\n",
       "   <script type=\"text/javascript\" data-lets-plot-script=\"plot\">\n",
       "       (function() {\n",
       "           var plotSpec={\n",
       "\"mapping\":{\n",
       "},\n",
       "\"data_meta\":{\n",
       "},\n",
       "\"ggsize\":{\n",
       "\"width\":800.0,\n",
       "\"height\":500.0\n",
       "},\n",
       "\"kind\":\"plot\",\n",
       "\"scales\":[],\n",
       "\"layers\":[{\n",
       "\"geom\":\"livemap\",\n",
       "\"mapping\":{\n",
       "},\n",
       "\"data_meta\":{\n",
       "},\n",
       "\"zoom\":2.75,\n",
       "\"tiles\":{\n",
       "\"kind\":\"vector_lets_plot\",\n",
       "\"url\":\"wss://tiles.datalore.jetbrains.com\",\n",
       "\"theme\":\"color\",\n",
       "\"attribution\":\"<a href=\\\"https://lets-plot.org\\\">© Lets-Plot</a>, map data: <a href=\\\"https://www.openstreetmap.org/copyright\\\">© OpenStreetMap contributors</a>.\"\n",
       "},\n",
       "\"geocoding\":{\n",
       "\"url\":\"https://geo2.datalore.jetbrains.com/map_data/geocoding\"\n",
       "},\n",
       "\"data\":{\n",
       "}\n",
       "},{\n",
       "\"geom\":\"hline\",\n",
       "\"mapping\":{\n",
       "\"yintercept\":\"yintercept\"\n",
       "},\n",
       "\"data_meta\":{\n",
       "},\n",
       "\"color\":\"#e0218a\",\n",
       "\"linetype\":2.0,\n",
       "\"size\":1.0,\n",
       "\"data\":{\n",
       "\"yintercept\":[0.0,0.0,0.0,0.0]\n",
       "}\n",
       "},{\n",
       "\"geom\":\"point\",\n",
       "\"data\":{\n",
       "\"city\":[\"Kyoto\",\"London\",\"Munich\",\"Oslo\",\"Seattle\"],\n",
       "\"mean_raininess\":[5.004197080291971,2.0164233576642334,2.731934306569343,2.245985401459854,2.977189781021898]\n",
       "},\n",
       "\"mapping\":{\n",
       "\"size\":\"mean_raininess\",\n",
       "\"color\":\"city\"\n",
       "},\n",
       "\"show_legend\":true,\n",
       "\"tooltips\":{\n",
       "\"formats\":[],\n",
       "\"title\":\"@city\"\n",
       "},\n",
       "\"data_meta\":{\n",
       "\"series_annotations\":[{\n",
       "\"type\":\"str\",\n",
       "\"column\":\"city\"\n",
       "},{\n",
       "\"type\":\"float\",\n",
       "\"column\":\"mean_raininess\"\n",
       "}]\n",
       "},\n",
       "\"map\":{\n",
       "\"city\":[\"Kyoto\",\"London\",\"Munich\",\"Oslo\",\"Seattle\"],\n",
       "\"found name\":[\"Kyoto\",\"London\",\"Munich\",\"Oslo\",\"Seattle\"],\n",
       "\"geometry\":[\"{\\\"type\\\": \\\"Point\\\", \\\"coordinates\\\": [135.755607113242, 35.0210405141115]}\",\"{\\\"type\\\": \\\"Point\\\", \\\"coordinates\\\": [-0.144055305103075, 51.4893338084221]}\",\"{\\\"type\\\": \\\"Point\\\", \\\"coordinates\\\": [-98.8321342270712, 48.6698875576258]}\",\"{\\\"type\\\": \\\"Point\\\", \\\"coordinates\\\": [10.775728858116, 59.9723978340626]}\",\"{\\\"type\\\": \\\"Point\\\", \\\"coordinates\\\": [-122.313062421052, 47.6189685612917]}\"]\n",
       "},\n",
       "\"map_join\":[[\"city\"],[\"city\"]],\n",
       "\"map_data_meta\":{\n",
       "\"geodataframe\":{\n",
       "\"geometry\":\"geometry\"\n",
       "}\n",
       "}\n",
       "}],\n",
       "\"metainfo_list\":[]\n",
       "};\n",
       "           var plotContainer = document.getElementById(\"wX7lCr\");\n",
       "           window.letsPlotCall(function() {{\n",
       "               LetsPlot.buildPlotFromProcessedSpecs(plotSpec, -1, -1, plotContainer);\n",
       "           }});\n",
       "       })();\n",
       "   </script>"
      ],
      "text/plain": [
       "<lets_plot.plot.core.PlotSpec at 0x7fda3285bb90>"
      ]
     },
     "execution_count": 234,
     "metadata": {},
     "output_type": "execute_result"
    }
   ],
   "source": [
    "## Plotting mean raininess data on a livemap\n",
    "data = pd.read_csv('/files/ds105a-2024-w06-summative-deyavuz/data/mean_raininess_per_city.csv')\n",
    "\n",
    "centroids = geocode_cities(data[\"city\"]).get_centroids()\n",
    "\n",
    "lats = [0 * y for y in range(4)]\n",
    "\n",
    "p = ggplot() + ggsize(800, 500)\n",
    "\n",
    "plot = (\n",
    "    p + \n",
    "    geom_livemap(zoom=2.75) +\n",
    "    geom_hline(aes(yintercept=lats), color='#e0218a', linetype=2, size=1) +\n",
    "    geom_point(aes(size='mean_raininess', color='city'), \n",
    "               show_legend=True,  \n",
    "               data=data,\n",
    "               map=centroids, \n",
    "               map_join=\"city\", \n",
    "               tooltips=layer_tooltips().title(\"@city\"))\n",
    ")\n",
    "\n",
    "plot"
   ]
  },
  {
   "cell_type": "markdown",
   "metadata": {},
   "source": [
    "To analyze the data, I will be ranking the cities by:\n",
    "- every single day, number 1 in raininess\n",
    "\n",
    "And then:\n",
    "- calculating how many times London is number 1\n",
    "\n",
    "Click [here](https://github.com/lse-ds105/ds105a-2024-w06-summative-deyavuz/blob/58b6e8a429c921efab90234ebc7dba23f7571c37/code/NB03-Rankings.ipynb) to navigate to NB03 - Rankings!"
   ]
  }
 ],
 "metadata": {
  "kernelspec": {
   "display_name": "base",
   "language": "python",
   "name": "python3"
  },
  "language_info": {
   "codemirror_mode": {
    "name": "ipython",
    "version": 3
   },
   "file_extension": ".py",
   "mimetype": "text/x-python",
   "name": "python",
   "nbconvert_exporter": "python",
   "pygments_lexer": "ipython3",
   "version": "3.11.8"
  }
 },
 "nbformat": 4,
 "nbformat_minor": 2
}
