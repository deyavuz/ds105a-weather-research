{
 "cells": [
  {
   "cell_type": "markdown",
   "metadata": {},
   "source": [
    "## 🌧<b> NB02 - Raininess Index </b>"
   ]
  },
  {
   "cell_type": "markdown",
   "metadata": {},
   "source": [
    "My Raininiess Index (RI) will be composed of the variable <b> rain sum </b>, as I am trying to see whether London is as rainy as the movies make it out to be (and in general, how rainy it is compared to other rainy cities). So, using rain sum to decide on the raininess makes more sense than using a variable such as precipitation sum, which also includes snow.\n",
    "\n",
    "#### This will help me make deductions regarding my two hypotheses:\n",
    "\n",
    "<b> H0: </b> London's raininess is no different than any other generally-rainy city\n",
    "\n",
    "<b> H1: </b> London is rainier than the other selected cities"
   ]
  },
  {
   "cell_type": "code",
   "execution_count": 30,
   "metadata": {},
   "outputs": [
    {
     "data": {
      "text/html": [
       "\n",
       "            <div id=\"WO1g9g\"></div>\n",
       "            <script type=\"text/javascript\" data-lets-plot-script=\"library\">\n",
       "                if(!window.letsPlotCallQueue) {\n",
       "                    window.letsPlotCallQueue = [];\n",
       "                }; \n",
       "                window.letsPlotCall = function(f) {\n",
       "                    window.letsPlotCallQueue.push(f);\n",
       "                };\n",
       "                (function() {\n",
       "                    var script = document.createElement(\"script\");\n",
       "                    script.type = \"text/javascript\";\n",
       "                    script.src = \"https://cdn.jsdelivr.net/gh/JetBrains/lets-plot@v4.4.1/js-package/distr/lets-plot.min.js\";\n",
       "                    script.onload = function() {\n",
       "                        window.letsPlotCall = function(f) {f();};\n",
       "                        window.letsPlotCallQueue.forEach(function(f) {f();});\n",
       "                        window.letsPlotCallQueue = [];\n",
       "                        \n",
       "                    };\n",
       "                    script.onerror = function(event) {\n",
       "                        window.letsPlotCall = function(f) {};    // noop\n",
       "                        window.letsPlotCallQueue = [];\n",
       "                        var div = document.createElement(\"div\");\n",
       "                        div.style.color = 'darkred';\n",
       "                        div.textContent = 'Error loading Lets-Plot JS';\n",
       "                        document.getElementById(\"WO1g9g\").appendChild(div);\n",
       "                    };\n",
       "                    var e = document.getElementById(\"WO1g9g\");\n",
       "                    e.appendChild(script);\n",
       "                })()\n",
       "            </script>\n",
       "            "
      ]
     },
     "metadata": {},
     "output_type": "display_data"
    }
   ],
   "source": [
    "## Importing packages\n",
    "import pandas as pd\n",
    "import os\n",
    "import json\n",
    "import requests\n",
    "import numpy as np\n",
    "\n",
    "from functions import *\n",
    "\n",
    "from lets_plot import *\n",
    "LetsPlot.setup_html()\n",
    "\n",
    "import geopandas as gpd\n",
    "\n",
    "from lets_plot.geo_data import *\n",
    "\n",
    "import geodatasets\n",
    "\n",
    "from IPython.display import HTML\n",
    "from IPython.display import *\n",
    "from shapely.geometry import Point"
   ]
  },
  {
   "cell_type": "code",
   "execution_count": 10,
   "metadata": {},
   "outputs": [
    {
     "data": {
      "text/html": [
       "<div>\n",
       "<style scoped>\n",
       "    .dataframe tbody tr th:only-of-type {\n",
       "        vertical-align: middle;\n",
       "    }\n",
       "\n",
       "    .dataframe tbody tr th {\n",
       "        vertical-align: top;\n",
       "    }\n",
       "\n",
       "    .dataframe thead th {\n",
       "        text-align: right;\n",
       "    }\n",
       "</style>\n",
       "<table border=\"1\" class=\"dataframe\">\n",
       "  <thead>\n",
       "    <tr style=\"text-align: right;\">\n",
       "      <th></th>\n",
       "      <th>country</th>\n",
       "      <th>city</th>\n",
       "      <th>date</th>\n",
       "      <th>raininess</th>\n",
       "    </tr>\n",
       "  </thead>\n",
       "  <tbody>\n",
       "    <tr>\n",
       "      <th>0</th>\n",
       "      <td>GB</td>\n",
       "      <td>London</td>\n",
       "      <td>2021-01-01</td>\n",
       "      <td>0.4</td>\n",
       "    </tr>\n",
       "    <tr>\n",
       "      <th>1</th>\n",
       "      <td>GB</td>\n",
       "      <td>London</td>\n",
       "      <td>2021-01-02</td>\n",
       "      <td>0.0</td>\n",
       "    </tr>\n",
       "    <tr>\n",
       "      <th>2</th>\n",
       "      <td>GB</td>\n",
       "      <td>London</td>\n",
       "      <td>2021-01-03</td>\n",
       "      <td>0.6</td>\n",
       "    </tr>\n",
       "    <tr>\n",
       "      <th>3</th>\n",
       "      <td>GB</td>\n",
       "      <td>London</td>\n",
       "      <td>2021-01-04</td>\n",
       "      <td>2.3</td>\n",
       "    </tr>\n",
       "    <tr>\n",
       "      <th>4</th>\n",
       "      <td>GB</td>\n",
       "      <td>London</td>\n",
       "      <td>2021-01-05</td>\n",
       "      <td>2.1</td>\n",
       "    </tr>\n",
       "  </tbody>\n",
       "</table>\n",
       "</div>"
      ],
      "text/plain": [
       "  country    city        date  raininess\n",
       "0      GB  London  2021-01-01        0.4\n",
       "1      GB  London  2021-01-02        0.0\n",
       "2      GB  London  2021-01-03        0.6\n",
       "3      GB  London  2021-01-04        2.3\n",
       "4      GB  London  2021-01-05        2.1"
      ]
     },
     "execution_count": 10,
     "metadata": {},
     "output_type": "execute_result"
    }
   ],
   "source": [
    "## Reading London data and renaming rain_sum as raininess (as a test-run, to see if it works)\n",
    "daily_rain_df = pd.read_json('../data/daily_rain.json')\n",
    "\n",
    "daily_rain_df = daily_rain_df.rename(columns={'rain_sum': 'raininess'})\n",
    "\n",
    "daily_rain_df.to_csv('../data/london_rain.csv', index=False)\n",
    "\n",
    "## Reading the complete city data and renaming rain_sum as raininess\n",
    "all_city_rain_df = pd.read_csv('../data/historical_city_rain_data.csv')\n",
    "\n",
    "all_city_rain_df = all_city_rain_df.rename(columns={'rain_sum': 'raininess'})\n",
    "\n",
    "all_city_rain_df.to_csv('../data/raininess_historical_data.csv', index=False)\n",
    "\n",
    "## Converting the data into a pandas table and calling the first 5 rows\n",
    "all_city_rain_df.head()"
   ]
  },
  {
   "cell_type": "code",
   "execution_count": 11,
   "metadata": {},
   "outputs": [
    {
     "name": "stdout",
     "output_type": "stream",
     "text": [
      "        city year_month  monthly_mean_raininess\n",
      "0      Kyoto    2021-01                2.209677\n",
      "1      Kyoto    2021-02                2.303571\n",
      "2      Kyoto    2021-03                4.651613\n",
      "3      Kyoto    2021-04                7.000000\n",
      "4      Kyoto    2021-05                9.970968\n",
      "..       ...        ...                     ...\n",
      "180  Seattle    2023-09                2.620000\n",
      "181  Seattle    2023-10                2.754839\n",
      "182  Seattle    2023-11                4.773333\n",
      "183  Seattle    2023-12                6.887097\n",
      "184  Seattle    2024-01                0.000000\n",
      "\n",
      "[185 rows x 3 columns]\n"
     ]
    }
   ],
   "source": [
    "all_city_rain_df['date'] = pd.to_datetime(all_city_rain_df['date'], errors='coerce')\n",
    "\n",
    "all_city_rain_df['year_month'] = all_city_rain_df['date'].dt.to_period('M') \n",
    "\n",
    "monthly_avg = all_city_rain_df.groupby(['city', 'year_month'])['raininess'].mean().reset_index()\n",
    "\n",
    "monthly_avg.rename(columns={'raininess': 'monthly_mean_raininess'}, inplace=True)\n",
    "\n",
    "## Printing df to check for errors\n",
    "print(monthly_avg)\n",
    "\n",
    "monthly_avg.to_csv('../data/monthly_avg.csv', index=False)\n",
    "monthly_avg = pd.read_csv('/files/ds105a-2024-w06-summative-deyavuz/data/monthly_avg.csv')"
   ]
  },
  {
   "cell_type": "markdown",
   "metadata": {},
   "source": [
    "To visualize the monthly mean raininess of all 5 cities, I plotted them on the below line graph. However, as it didn't provide a clear, comprehensive picture of the situation, I decided to compare Kyoto, which has the visually obvious outliers, and Oslo, which is similar to London's pattern, with London, our research focus."
   ]
  },
  {
   "cell_type": "code",
   "execution_count": 13,
   "metadata": {},
   "outputs": [
    {
     "data": {
      "text/html": [
       "   <div id=\"kieKYy\"></div>\n",
       "   <script type=\"text/javascript\" data-lets-plot-script=\"plot\">\n",
       "       (function() {\n",
       "           var plotSpec={\n",
       "\"data\":{\n",
       "\"city\":[\"Kyoto\",\"Kyoto\",\"Kyoto\",\"Kyoto\",\"Kyoto\",\"Kyoto\",\"Kyoto\",\"Kyoto\",\"Kyoto\",\"Kyoto\",\"Kyoto\",\"Kyoto\",\"Kyoto\",\"Kyoto\",\"Kyoto\",\"Kyoto\",\"Kyoto\",\"Kyoto\",\"Kyoto\",\"Kyoto\",\"Kyoto\",\"Kyoto\",\"Kyoto\",\"Kyoto\",\"Kyoto\",\"Kyoto\",\"Kyoto\",\"Kyoto\",\"Kyoto\",\"Kyoto\",\"Kyoto\",\"Kyoto\",\"Kyoto\",\"Kyoto\",\"Kyoto\",\"Kyoto\",\"Kyoto\",\"London\",\"London\",\"London\",\"London\",\"London\",\"London\",\"London\",\"London\",\"London\",\"London\",\"London\",\"London\",\"London\",\"London\",\"London\",\"London\",\"London\",\"London\",\"London\",\"London\",\"London\",\"London\",\"London\",\"London\",\"London\",\"London\",\"London\",\"London\",\"London\",\"London\",\"London\",\"London\",\"London\",\"London\",\"London\",\"London\",\"London\",\"Munich\",\"Munich\",\"Munich\",\"Munich\",\"Munich\",\"Munich\",\"Munich\",\"Munich\",\"Munich\",\"Munich\",\"Munich\",\"Munich\",\"Munich\",\"Munich\",\"Munich\",\"Munich\",\"Munich\",\"Munich\",\"Munich\",\"Munich\",\"Munich\",\"Munich\",\"Munich\",\"Munich\",\"Munich\",\"Munich\",\"Munich\",\"Munich\",\"Munich\",\"Munich\",\"Munich\",\"Munich\",\"Munich\",\"Munich\",\"Munich\",\"Munich\",\"Munich\",\"Oslo\",\"Oslo\",\"Oslo\",\"Oslo\",\"Oslo\",\"Oslo\",\"Oslo\",\"Oslo\",\"Oslo\",\"Oslo\",\"Oslo\",\"Oslo\",\"Oslo\",\"Oslo\",\"Oslo\",\"Oslo\",\"Oslo\",\"Oslo\",\"Oslo\",\"Oslo\",\"Oslo\",\"Oslo\",\"Oslo\",\"Oslo\",\"Oslo\",\"Oslo\",\"Oslo\",\"Oslo\",\"Oslo\",\"Oslo\",\"Oslo\",\"Oslo\",\"Oslo\",\"Oslo\",\"Oslo\",\"Oslo\",\"Oslo\",\"Seattle\",\"Seattle\",\"Seattle\",\"Seattle\",\"Seattle\",\"Seattle\",\"Seattle\",\"Seattle\",\"Seattle\",\"Seattle\",\"Seattle\",\"Seattle\",\"Seattle\",\"Seattle\",\"Seattle\",\"Seattle\",\"Seattle\",\"Seattle\",\"Seattle\",\"Seattle\",\"Seattle\",\"Seattle\",\"Seattle\",\"Seattle\",\"Seattle\",\"Seattle\",\"Seattle\",\"Seattle\",\"Seattle\",\"Seattle\",\"Seattle\",\"Seattle\",\"Seattle\",\"Seattle\",\"Seattle\",\"Seattle\",\"Seattle\"],\n",
       "\"year_month\":[\"2021-01\",\"2021-02\",\"2021-03\",\"2021-04\",\"2021-05\",\"2021-06\",\"2021-07\",\"2021-08\",\"2021-09\",\"2021-10\",\"2021-11\",\"2021-12\",\"2022-01\",\"2022-02\",\"2022-03\",\"2022-04\",\"2022-05\",\"2022-06\",\"2022-07\",\"2022-08\",\"2022-09\",\"2022-10\",\"2022-11\",\"2022-12\",\"2023-01\",\"2023-02\",\"2023-03\",\"2023-04\",\"2023-05\",\"2023-06\",\"2023-07\",\"2023-08\",\"2023-09\",\"2023-10\",\"2023-11\",\"2023-12\",\"2024-01\",\"2021-01\",\"2021-02\",\"2021-03\",\"2021-04\",\"2021-05\",\"2021-06\",\"2021-07\",\"2021-08\",\"2021-09\",\"2021-10\",\"2021-11\",\"2021-12\",\"2022-01\",\"2022-02\",\"2022-03\",\"2022-04\",\"2022-05\",\"2022-06\",\"2022-07\",\"2022-08\",\"2022-09\",\"2022-10\",\"2022-11\",\"2022-12\",\"2023-01\",\"2023-02\",\"2023-03\",\"2023-04\",\"2023-05\",\"2023-06\",\"2023-07\",\"2023-08\",\"2023-09\",\"2023-10\",\"2023-11\",\"2023-12\",\"2024-01\",\"2021-01\",\"2021-02\",\"2021-03\",\"2021-04\",\"2021-05\",\"2021-06\",\"2021-07\",\"2021-08\",\"2021-09\",\"2021-10\",\"2021-11\",\"2021-12\",\"2022-01\",\"2022-02\",\"2022-03\",\"2022-04\",\"2022-05\",\"2022-06\",\"2022-07\",\"2022-08\",\"2022-09\",\"2022-10\",\"2022-11\",\"2022-12\",\"2023-01\",\"2023-02\",\"2023-03\",\"2023-04\",\"2023-05\",\"2023-06\",\"2023-07\",\"2023-08\",\"2023-09\",\"2023-10\",\"2023-11\",\"2023-12\",\"2024-01\",\"2021-01\",\"2021-02\",\"2021-03\",\"2021-04\",\"2021-05\",\"2021-06\",\"2021-07\",\"2021-08\",\"2021-09\",\"2021-10\",\"2021-11\",\"2021-12\",\"2022-01\",\"2022-02\",\"2022-03\",\"2022-04\",\"2022-05\",\"2022-06\",\"2022-07\",\"2022-08\",\"2022-09\",\"2022-10\",\"2022-11\",\"2022-12\",\"2023-01\",\"2023-02\",\"2023-03\",\"2023-04\",\"2023-05\",\"2023-06\",\"2023-07\",\"2023-08\",\"2023-09\",\"2023-10\",\"2023-11\",\"2023-12\",\"2024-01\",\"2021-01\",\"2021-02\",\"2021-03\",\"2021-04\",\"2021-05\",\"2021-06\",\"2021-07\",\"2021-08\",\"2021-09\",\"2021-10\",\"2021-11\",\"2021-12\",\"2022-01\",\"2022-02\",\"2022-03\",\"2022-04\",\"2022-05\",\"2022-06\",\"2022-07\",\"2022-08\",\"2022-09\",\"2022-10\",\"2022-11\",\"2022-12\",\"2023-01\",\"2023-02\",\"2023-03\",\"2023-04\",\"2023-05\",\"2023-06\",\"2023-07\",\"2023-08\",\"2023-09\",\"2023-10\",\"2023-11\",\"2023-12\",\"2024-01\"],\n",
       "\"monthly_mean_raininess\":[2.2096774193548385,2.3035714285714284,4.651612903225806,7.0,9.970967741935484,6.62,10.50967741935484,13.77741935483871,7.826666666666666,2.548387096774193,2.4366666666666665,3.5129032258064514,1.0032258064516129,0.7392857142857142,3.335483870967742,4.17,5.225806451612903,6.093333333333333,10.112903225806452,6.987096774193549,9.006666666666666,3.941935483870968,3.6533333333333338,0.970967741935484,0.9193548387096774,1.385714285714286,4.067741935483871,6.086666666666667,7.116129032258065,9.896666666666668,4.070967741935484,7.141935483870967,3.303333333333333,1.9096774193548387,3.243333333333333,1.7451612903225806,2.9,3.5354838709677416,1.2964285714285713,1.058064516129032,0.3333333333333333,2.7838709677419358,3.3,2.8096774193548386,1.7903225806451613,1.5666666666666669,3.9516129032258074,0.31,2.3548387096774195,0.6129032258064516,2.082142857142857,1.4741935483870967,0.7233333333333333,2.8483870967741933,2.0966666666666667,0.4516129032258064,0.9225806451612903,1.6866666666666668,2.532258064516129,4.6433333333333335,1.7645161290322582,1.8451612903225807,0.425,2.8870967741935485,2.373333333333333,1.1806451612903226,1.3166666666666669,2.903225806451613,1.803225806451613,1.923333333333333,2.9645161290322584,2.9966666666666666,2.52258064516129,10.5,0.996774193548387,1.325,0.9483870967741936,1.0233333333333332,5.374193548387097,4.966666666666667,4.95483870967742,5.770967741935484,2.013333333333333,1.216129032258065,1.3966666666666667,1.735483870967742,0.7612903225806452,1.8285714285714287,0.6387096774193549,2.7066666666666666,2.958064516129032,5.406666666666667,2.1516129032258067,4.906451612903226,4.44,3.3225806451612905,2.1166666666666667,1.3387096774193548,0.5967741935483871,1.4714285714285715,1.8387096774193548,3.636666666666667,3.480645161290323,1.06,3.3741935483870966,5.980645161290322,1.8133333333333328,1.8225806451612905,5.416666666666667,3.4000000000000004,0.2,0.967741935483871,0.4321428571428571,0.4580645161290322,0.19,3.6322580645161286,2.12,6.183870967741935,0.9193548387096774,3.0933333333333333,5.125806451612903,2.393333333333333,0.0516129032258064,0.0838709677419354,1.275,0.2612903225806451,0.2366666666666666,2.532258064516129,3.333333333333333,2.6,1.5580645161290323,3.5733333333333333,3.325806451612903,3.893333333333333,1.2032258064516128,1.283870967741935,0.5107142857142857,0.7225806451612903,3.943333333333333,0.5032258064516129,1.8133333333333328,6.145161290322581,8.561290322580644,4.863333333333333,0.9483870967741936,1.8333333333333333,0.0580645161290322,0.0,7.961290322580645,3.842857142857143,2.7419354838709675,1.2733333333333334,1.170967741935484,2.0733333333333333,0.1096774193548387,0.6193548387096774,2.91,5.316129032258065,8.81,4.232258064516128,5.429032258064517,3.582142857142857,2.819354838709677,2.8866666666666663,3.858064516129032,2.606666666666667,0.2709677419354839,0.4838709677419355,0.35,2.7225806451612904,3.673333333333333,5.525806451612904,3.645161290322581,1.864285714285714,2.570967741935484,4.08,0.6580645161290323,1.1033333333333333,0.1612903225806451,0.9548387096774192,2.62,2.7548387096774194,4.773333333333334,6.887096774193548,0.0]\n",
       "},\n",
       "\"mapping\":{\n",
       "\"x\":\"year_month\",\n",
       "\"y\":\"monthly_mean_raininess\",\n",
       "\"group\":\"city\"\n",
       "},\n",
       "\"data_meta\":{\n",
       "\"series_annotations\":[{\n",
       "\"type\":\"str\",\n",
       "\"column\":\"city\"\n",
       "},{\n",
       "\"type\":\"str\",\n",
       "\"column\":\"year_month\"\n",
       "},{\n",
       "\"type\":\"float\",\n",
       "\"column\":\"monthly_mean_raininess\"\n",
       "}]\n",
       "},\n",
       "\"guides\":{\n",
       "\"x\":{\n",
       "\"title\":\"Year and Month\"\n",
       "},\n",
       "\"y\":{\n",
       "\"title\":\"Monthly Mean Raininess\"\n",
       "}\n",
       "},\n",
       "\"ggtitle\":{\n",
       "\"text\":\"Monthly Mean Raininess for Each City Between 2021-2024\"\n",
       "},\n",
       "\"kind\":\"plot\",\n",
       "\"scales\":[],\n",
       "\"layers\":[{\n",
       "\"geom\":\"line\",\n",
       "\"mapping\":{\n",
       "\"color\":\"city\"\n",
       "},\n",
       "\"data_meta\":{\n",
       "},\n",
       "\"size\":1.0,\n",
       "\"alpha\":0.5,\n",
       "\"data\":{\n",
       "}\n",
       "}],\n",
       "\"metainfo_list\":[]\n",
       "};\n",
       "           var plotContainer = document.getElementById(\"kieKYy\");\n",
       "           window.letsPlotCall(function() {{\n",
       "               LetsPlot.buildPlotFromProcessedSpecs(plotSpec, -1, -1, plotContainer);\n",
       "           }});\n",
       "       })();\n",
       "   </script>"
      ],
      "text/plain": [
       "<lets_plot.plot.core.PlotSpec at 0x7f75bb142c10>"
      ]
     },
     "execution_count": 13,
     "metadata": {},
     "output_type": "execute_result"
    }
   ],
   "source": [
    "ggplot(monthly_avg, aes(x='year_month', y='monthly_mean_raininess', group='city')) + \\\n",
    "    geom_line(aes(color='city'), size=1, alpha=0.5) + \\\n",
    "    xlab('Year and Month') + \\\n",
    "    ylab('Monthly Mean Raininess') + \\\n",
    "        ggtitle('Monthly Mean Raininess for Each City Between 2021-2024')"
   ]
  },
  {
   "cell_type": "code",
   "execution_count": 27,
   "metadata": {},
   "outputs": [
    {
     "data": {
      "text/html": [
       "   <div id=\"6BtZGU\"></div>\n",
       "   <script type=\"text/javascript\" data-lets-plot-script=\"plot\">\n",
       "       (function() {\n",
       "           var plotSpec={\n",
       "\"data\":{\n",
       "\"city\":[\"Kyoto\",\"Kyoto\",\"Kyoto\",\"Kyoto\",\"Kyoto\",\"Kyoto\",\"Kyoto\",\"Kyoto\",\"Kyoto\",\"Kyoto\",\"Kyoto\",\"Kyoto\",\"Kyoto\",\"Kyoto\",\"Kyoto\",\"Kyoto\",\"Kyoto\",\"Kyoto\",\"Kyoto\",\"Kyoto\",\"Kyoto\",\"Kyoto\",\"Kyoto\",\"Kyoto\",\"Kyoto\",\"Kyoto\",\"Kyoto\",\"Kyoto\",\"Kyoto\",\"Kyoto\",\"Kyoto\",\"Kyoto\",\"Kyoto\",\"Kyoto\",\"Kyoto\",\"Kyoto\",\"Kyoto\",\"London\",\"London\",\"London\",\"London\",\"London\",\"London\",\"London\",\"London\",\"London\",\"London\",\"London\",\"London\",\"London\",\"London\",\"London\",\"London\",\"London\",\"London\",\"London\",\"London\",\"London\",\"London\",\"London\",\"London\",\"London\",\"London\",\"London\",\"London\",\"London\",\"London\",\"London\",\"London\",\"London\",\"London\",\"London\",\"London\",\"London\"],\n",
       "\"year_month\":[\"2021-01\",\"2021-02\",\"2021-03\",\"2021-04\",\"2021-05\",\"2021-06\",\"2021-07\",\"2021-08\",\"2021-09\",\"2021-10\",\"2021-11\",\"2021-12\",\"2022-01\",\"2022-02\",\"2022-03\",\"2022-04\",\"2022-05\",\"2022-06\",\"2022-07\",\"2022-08\",\"2022-09\",\"2022-10\",\"2022-11\",\"2022-12\",\"2023-01\",\"2023-02\",\"2023-03\",\"2023-04\",\"2023-05\",\"2023-06\",\"2023-07\",\"2023-08\",\"2023-09\",\"2023-10\",\"2023-11\",\"2023-12\",\"2024-01\",\"2021-01\",\"2021-02\",\"2021-03\",\"2021-04\",\"2021-05\",\"2021-06\",\"2021-07\",\"2021-08\",\"2021-09\",\"2021-10\",\"2021-11\",\"2021-12\",\"2022-01\",\"2022-02\",\"2022-03\",\"2022-04\",\"2022-05\",\"2022-06\",\"2022-07\",\"2022-08\",\"2022-09\",\"2022-10\",\"2022-11\",\"2022-12\",\"2023-01\",\"2023-02\",\"2023-03\",\"2023-04\",\"2023-05\",\"2023-06\",\"2023-07\",\"2023-08\",\"2023-09\",\"2023-10\",\"2023-11\",\"2023-12\",\"2024-01\"],\n",
       "\"monthly_mean_raininess\":[2.2096774193548385,2.3035714285714284,4.651612903225806,7.0,9.970967741935484,6.62,10.50967741935484,13.77741935483871,7.826666666666666,2.548387096774193,2.4366666666666665,3.5129032258064514,1.0032258064516129,0.7392857142857142,3.335483870967742,4.17,5.225806451612903,6.093333333333333,10.112903225806452,6.987096774193549,9.006666666666666,3.941935483870968,3.6533333333333338,0.970967741935484,0.9193548387096774,1.385714285714286,4.067741935483871,6.086666666666667,7.116129032258065,9.896666666666668,4.070967741935484,7.141935483870967,3.303333333333333,1.9096774193548387,3.243333333333333,1.7451612903225806,2.9,3.5354838709677416,1.2964285714285713,1.058064516129032,0.3333333333333333,2.7838709677419358,3.3,2.8096774193548386,1.7903225806451613,1.5666666666666669,3.9516129032258074,0.31,2.3548387096774195,0.6129032258064516,2.082142857142857,1.4741935483870967,0.7233333333333333,2.8483870967741933,2.0966666666666667,0.4516129032258064,0.9225806451612903,1.6866666666666668,2.532258064516129,4.6433333333333335,1.7645161290322582,1.8451612903225807,0.425,2.8870967741935485,2.373333333333333,1.1806451612903226,1.3166666666666669,2.903225806451613,1.803225806451613,1.923333333333333,2.9645161290322584,2.9966666666666666,2.52258064516129,10.5]\n",
       "},\n",
       "\"mapping\":{\n",
       "\"x\":\"year_month\",\n",
       "\"y\":\"monthly_mean_raininess\",\n",
       "\"color\":\"city\"\n",
       "},\n",
       "\"data_meta\":{\n",
       "\"series_annotations\":[{\n",
       "\"type\":\"str\",\n",
       "\"column\":\"city\"\n",
       "},{\n",
       "\"type\":\"str\",\n",
       "\"column\":\"year_month\"\n",
       "},{\n",
       "\"type\":\"float\",\n",
       "\"column\":\"monthly_mean_raininess\"\n",
       "}]\n",
       "},\n",
       "\"ggtitle\":{\n",
       "\"text\":\"Monthly Mean Raininess: Kyoto vs. London (2021-2024)\"\n",
       "},\n",
       "\"guides\":{\n",
       "\"x\":{\n",
       "\"title\":\"Date\"\n",
       "},\n",
       "\"y\":{\n",
       "\"title\":\"Monthly Mean Raininess\"\n",
       "}\n",
       "},\n",
       "\"kind\":\"plot\",\n",
       "\"scales\":[],\n",
       "\"layers\":[{\n",
       "\"geom\":\"line\",\n",
       "\"mapping\":{\n",
       "},\n",
       "\"data_meta\":{\n",
       "},\n",
       "\"size\":1.0,\n",
       "\"alpha\":0.5,\n",
       "\"data\":{\n",
       "}\n",
       "}],\n",
       "\"metainfo_list\":[]\n",
       "};\n",
       "           var plotContainer = document.getElementById(\"6BtZGU\");\n",
       "           window.letsPlotCall(function() {{\n",
       "               LetsPlot.buildPlotFromProcessedSpecs(plotSpec, -1, -1, plotContainer);\n",
       "           }});\n",
       "       })();\n",
       "   </script>"
      ],
      "text/plain": [
       "<lets_plot.plot.core.PlotSpec at 0x7f75ba85f990>"
      ]
     },
     "execution_count": 27,
     "metadata": {},
     "output_type": "execute_result"
    }
   ],
   "source": [
    "kyoto_data = get_city_data(monthly_avg, 'Kyoto')\n",
    "london_data = get_city_data(monthly_avg, 'London')\n",
    "plot1_data = pd.concat([kyoto_data, london_data], ignore_index=True)\n",
    "\n",
    "plot1 = (\n",
    "    ggplot(plot1_data) +\n",
    "    aes(x='year_month', y='monthly_mean_raininess', color='city') +\n",
    "    geom_line(size=1, alpha=0.5) +\n",
    "    ggtitle(f'Monthly Mean Raininess: Kyoto vs. London (2021-2024)') +\n",
    "    xlab('Date') +\n",
    "    ylab('Monthly Mean Raininess'))\n",
    "\n",
    "plot1"
   ]
  },
  {
   "cell_type": "code",
   "execution_count": 14,
   "metadata": {},
   "outputs": [
    {
     "name": "stdout",
     "output_type": "stream",
     "text": [
      "  country     city  mean_raininess\n",
      "0      DE   Munich        2.731934\n",
      "1      GB   London        2.016423\n",
      "2      JP    Kyoto        5.004197\n",
      "3      NO     Oslo        2.245985\n",
      "4      US  Seattle        2.976825\n"
     ]
    }
   ],
   "source": [
    "## Calculating the mean raininess of each city, to map out the cities' raininess\n",
    "df = pd.read_csv('../data/historical_city_rain_data.csv')\n",
    "\n",
    "mean_raininess_per_city = df.groupby(['country','city'])['raininess'].mean().reset_index()\n",
    "\n",
    "mean_raininess_per_city.columns = ['country', 'city', 'mean_raininess']\n",
    "\n",
    "print(mean_raininess_per_city)\n",
    "## Saving mean raininess data\n",
    "mean_raininess_per_city.to_csv('../data/mean_raininess_per_city.csv', index=False)"
   ]
  },
  {
   "cell_type": "code",
   "execution_count": 12,
   "metadata": {},
   "outputs": [
    {
     "name": "stdout",
     "output_type": "stream",
     "text": [
      "      city found name                                     geometry country  \\\n",
      "0   Munich     Munich                     POINT (11.5258 48.15457)      DE   \n",
      "1   London     London  POINT (-0.144055305103075 51.4893338084221)      GB   \n",
      "2    Kyoto      Kyoto    POINT (135.755607113242 35.0210405141115)      JP   \n",
      "3     Oslo       Oslo     POINT (10.775728858116 59.9723978340626)      NO   \n",
      "4  Seattle    Seattle   POINT (-122.313062421052 47.6189685612917)      US   \n",
      "\n",
      "   mean_raininess  \n",
      "0        2.731934  \n",
      "1        2.016423  \n",
      "2        5.004197  \n",
      "3        2.245985  \n",
      "4        2.976825  \n"
     ]
    }
   ],
   "source": [
    "cen = pd.read_csv('../data/centroid_data.csv')\n",
    "mean_rain = pd.read_csv('../data/mean_raininess_per_city.csv')\n",
    "\n",
    "combined_df = pd.merge(cen, mean_rain, on='city', how='inner')\n",
    "\n",
    "# Display the combined DataFrame\n",
    "print(combined_df)\n",
    "\n",
    "combined_df.to_csv('../data/combined_df.csv', index=False)"
   ]
  },
  {
   "cell_type": "code",
   "execution_count": 37,
   "metadata": {},
   "outputs": [
    {
     "data": {
      "text/html": [
       "   <div id=\"DwB5f3\"></div>\n",
       "   <script type=\"text/javascript\" data-lets-plot-script=\"plot\">\n",
       "       (function() {\n",
       "           var plotSpec={\n",
       "\"mapping\":{\n",
       "},\n",
       "\"data_meta\":{\n",
       "},\n",
       "\"ggsize\":{\n",
       "\"width\":800.0,\n",
       "\"height\":500.0\n",
       "},\n",
       "\"kind\":\"plot\",\n",
       "\"scales\":[],\n",
       "\"layers\":[{\n",
       "\"geom\":\"livemap\",\n",
       "\"mapping\":{\n",
       "},\n",
       "\"data_meta\":{\n",
       "},\n",
       "\"zoom\":2.75,\n",
       "\"tiles\":{\n",
       "\"kind\":\"vector_lets_plot\",\n",
       "\"url\":\"wss://tiles.datalore.jetbrains.com\",\n",
       "\"theme\":\"color\",\n",
       "\"attribution\":\"<a href=\\\"https://lets-plot.org\\\">© Lets-Plot</a>, map data: <a href=\\\"https://www.openstreetmap.org/copyright\\\">© OpenStreetMap contributors</a>.\"\n",
       "},\n",
       "\"geocoding\":{\n",
       "\"url\":\"https://geo2.datalore.jetbrains.com/map_data/geocoding\"\n",
       "},\n",
       "\"data\":{\n",
       "}\n",
       "},{\n",
       "\"geom\":\"hline\",\n",
       "\"mapping\":{\n",
       "\"yintercept\":\"yintercept\"\n",
       "},\n",
       "\"data_meta\":{\n",
       "},\n",
       "\"color\":\"#e0218a\",\n",
       "\"linetype\":2.0,\n",
       "\"size\":1.0,\n",
       "\"data\":{\n",
       "\"yintercept\":[0.0,0.0,0.0,0.0]\n",
       "}\n",
       "},{\n",
       "\"geom\":\"point\",\n",
       "\"data\":{\n",
       "\"city\":[\"Munich\",\"London\",\"Kyoto\",\"Oslo\",\"Seattle\"],\n",
       "\"mean_raininess\":[2.731934306569343,2.0164233576642334,5.004197080291971,2.245985401459854,2.976824817518248]\n",
       "},\n",
       "\"mapping\":{\n",
       "\"size\":\"mean_raininess\",\n",
       "\"color\":\"city\"\n",
       "},\n",
       "\"show_legend\":true,\n",
       "\"tooltips\":{\n",
       "\"formats\":[],\n",
       "\"title\":\"@city\"\n",
       "},\n",
       "\"data_meta\":{\n",
       "\"series_annotations\":[{\n",
       "\"type\":\"str\",\n",
       "\"column\":\"city\"\n",
       "},{\n",
       "\"type\":\"str\",\n",
       "\"column\":\"found name\"\n",
       "},{\n",
       "\"type\":\"str\",\n",
       "\"column\":\"geometry\"\n",
       "},{\n",
       "\"type\":\"str\",\n",
       "\"column\":\"country\"\n",
       "},{\n",
       "\"type\":\"float\",\n",
       "\"column\":\"mean_raininess\"\n",
       "}]\n",
       "},\n",
       "\"map\":{\n",
       "\"city\":[\"Munich\",\"London\",\"Kyoto\",\"Oslo\",\"Seattle\"],\n",
       "\"found name\":[\"Munich\",\"London\",\"Kyoto\",\"Oslo\",\"Seattle\"],\n",
       "\"geometry\":[\"{\\\"type\\\": \\\"Point\\\", \\\"coordinates\\\": [11.5258, 48.15457]}\",\"{\\\"type\\\": \\\"Point\\\", \\\"coordinates\\\": [-0.144055305103075, 51.4893338084221]}\",\"{\\\"type\\\": \\\"Point\\\", \\\"coordinates\\\": [135.755607113242, 35.0210405141115]}\",\"{\\\"type\\\": \\\"Point\\\", \\\"coordinates\\\": [10.775728858116, 59.9723978340626]}\",\"{\\\"type\\\": \\\"Point\\\", \\\"coordinates\\\": [-122.313062421052, 47.6189685612917]}\"]\n",
       "},\n",
       "\"map_join\":[[\"city\"],[\"city\"]],\n",
       "\"map_data_meta\":{\n",
       "\"geodataframe\":{\n",
       "\"geometry\":\"geometry\"\n",
       "}\n",
       "}\n",
       "}],\n",
       "\"metainfo_list\":[]\n",
       "};\n",
       "           var plotContainer = document.getElementById(\"DwB5f3\");\n",
       "           window.letsPlotCall(function() {{\n",
       "               LetsPlot.buildPlotFromProcessedSpecs(plotSpec, -1, -1, plotContainer);\n",
       "           }});\n",
       "       })();\n",
       "   </script>"
      ],
      "text/plain": [
       "<lets_plot.plot.core.PlotSpec at 0x7fd7ff5b3590>"
      ]
     },
     "execution_count": 37,
     "metadata": {},
     "output_type": "execute_result"
    }
   ],
   "source": [
    "## Plotting mean raininess data on a livemap\n",
    "centroids = geocode_cities(combined_df['city']).get_centroids()\n",
    "\n",
    "centroids.loc[centroids['city'] == 'Munich', 'geometry'] = Point(11.5258, 48.15457)\n",
    "\n",
    "lats = [0 * y for y in range(4)]\n",
    "\n",
    "p = ggplot() + ggsize(800, 500)\n",
    "\n",
    "plot = (\n",
    "    p + \n",
    "    geom_livemap(zoom=2.75) +\n",
    "    geom_hline(aes(yintercept=lats), color='#e0218a', linetype=2, size=1) +\n",
    "    geom_point(aes(size='mean_raininess', color='city'), \n",
    "               show_legend=True,  \n",
    "               data=combined_df,\n",
    "               map=centroids, \n",
    "               map_join=\"city\", \n",
    "               tooltips=layer_tooltips().title(\"@city\"))\n",
    ")\n",
    "\n",
    "plot"
   ]
  },
  {
   "cell_type": "code",
   "execution_count": 38,
   "metadata": {},
   "outputs": [
    {
     "data": {
      "text/plain": [
       "'/files/ds105a-2024-w06-summative-deyavuz/figures/raininess_map.html'"
      ]
     },
     "execution_count": 38,
     "metadata": {},
     "output_type": "execute_result"
    }
   ],
   "source": [
    "ggsave(plot, filename='raininess_map.html', path='/files/ds105a-2024-w06-summative-deyavuz/figures')"
   ]
  },
  {
   "cell_type": "markdown",
   "metadata": {},
   "source": [
    "In the next notebook, to analyze the data, I will be ranking the cities by:\n",
    "- every single day, number 1 in raininess\n",
    "\n",
    "And then:\n",
    "- calculating how many times London is number 1\n",
    "\n",
    "Click [here](https://github.com/lse-ds105/ds105a-2024-w06-summative-deyavuz/blob/58b6e8a429c921efab90234ebc7dba23f7571c37/code/NB03-Rankings.ipynb) to navigate to NB03 - Rankings!"
   ]
  }
 ],
 "metadata": {
  "kernelspec": {
   "display_name": "base",
   "language": "python",
   "name": "python3"
  },
  "language_info": {
   "codemirror_mode": {
    "name": "ipython",
    "version": 3
   },
   "file_extension": ".py",
   "mimetype": "text/x-python",
   "name": "python",
   "nbconvert_exporter": "python",
   "pygments_lexer": "ipython3",
   "version": "3.11.8"
  }
 },
 "nbformat": 4,
 "nbformat_minor": 2
}
