{
 "cells": [
  {
   "cell_type": "markdown",
   "metadata": {},
   "source": [
    "## <b> NB02 - Raininess Index </b>"
   ]
  },
  {
   "cell_type": "markdown",
   "metadata": {},
   "source": [
    "My Raininiess Index (RI) will be composed of the variable <b> rain sum </b>\n",
    "\n",
    "This will help me make deductions regarding my two hypotheses:\n",
    "\n",
    "<b> H0: </b>  London is no different than any other generally-rainy city\n",
    "\n",
    "<b> H1: </b> London is as rainy as the movies make it out to be\n",
    "\n",
    "However, I have a third hypothesis:\n",
    "\n",
    "<b> H2: </b> London is not rainy but cloudy, which gives it a rainy reputation\n",
    "\n",
    "Of course, H2 cannot be directly proven due to the many, many extraneous factors that go into making a statement like that. This is why I'm leaving \"cloud cover\" separate from my RI but still using it to make comparisons.\n",
    "\n",
    "My personal theory is that the gloomy, cloudy weather might be playing a role in the rainy reputation of London, which is why I still chose to use cloud cover as a variable and included it in my hypothesis."
   ]
  },
  {
   "cell_type": "code",
   "execution_count": 2,
   "metadata": {},
   "outputs": [
    {
     "data": {
      "text/html": [
       "\n",
       "            <div id=\"nLgfEj\"></div>\n",
       "            <script type=\"text/javascript\" data-lets-plot-script=\"library\">\n",
       "                if(!window.letsPlotCallQueue) {\n",
       "                    window.letsPlotCallQueue = [];\n",
       "                }; \n",
       "                window.letsPlotCall = function(f) {\n",
       "                    window.letsPlotCallQueue.push(f);\n",
       "                };\n",
       "                (function() {\n",
       "                    var script = document.createElement(\"script\");\n",
       "                    script.type = \"text/javascript\";\n",
       "                    script.src = \"https://cdn.jsdelivr.net/gh/JetBrains/lets-plot@v4.4.1/js-package/distr/lets-plot.min.js\";\n",
       "                    script.onload = function() {\n",
       "                        window.letsPlotCall = function(f) {f();};\n",
       "                        window.letsPlotCallQueue.forEach(function(f) {f();});\n",
       "                        window.letsPlotCallQueue = [];\n",
       "                        \n",
       "                    };\n",
       "                    script.onerror = function(event) {\n",
       "                        window.letsPlotCall = function(f) {};    // noop\n",
       "                        window.letsPlotCallQueue = [];\n",
       "                        var div = document.createElement(\"div\");\n",
       "                        div.style.color = 'darkred';\n",
       "                        div.textContent = 'Error loading Lets-Plot JS';\n",
       "                        document.getElementById(\"nLgfEj\").appendChild(div);\n",
       "                    };\n",
       "                    var e = document.getElementById(\"nLgfEj\");\n",
       "                    e.appendChild(script);\n",
       "                })()\n",
       "            </script>\n",
       "            "
      ]
     },
     "metadata": {},
     "output_type": "display_data"
    }
   ],
   "source": [
    "import pandas as pd\n",
    "import os\n",
    "import json\n",
    "import requests\n",
    "import numpy as np\n",
    "\n",
    "from functions import *\n",
    "\n",
    "from lets_plot import *\n",
    "LetsPlot.setup_html()"
   ]
  },
  {
   "cell_type": "code",
   "execution_count": 3,
   "metadata": {},
   "outputs": [],
   "source": [
    "daily_rain_df = pd.read_json('../data/daily_rain.json')\n",
    "\n",
    "daily_rain_df = daily_rain_df.rename(columns={'rain_sum': 'raininess'})\n",
    "\n",
    "daily_rain_df.to_csv('../data/london_rain.csv', index=False)"
   ]
  },
  {
   "cell_type": "code",
   "execution_count": 5,
   "metadata": {},
   "outputs": [],
   "source": [
    "all_city_rain_df = pd.read_csv('../data/historical_city_rain_data.csv')\n",
    "\n",
    "all_city_rain_df = all_city_rain_df.rename(columns={'rain_sum': 'raininess'})\n",
    "\n",
    "all_city_rain_df.to_csv('../data/historical_city_rain_data.csv')"
   ]
  },
  {
   "cell_type": "markdown",
   "metadata": {},
   "source": [
    "you can rank it\n",
    "- every single day, what is the city no 1\n",
    "- how many times London 1"
   ]
  },
  {
   "cell_type": "markdown",
   "metadata": {},
   "source": []
  }
 ],
 "metadata": {
  "kernelspec": {
   "display_name": "base",
   "language": "python",
   "name": "python3"
  },
  "language_info": {
   "codemirror_mode": {
    "name": "ipython",
    "version": 3
   },
   "file_extension": ".py",
   "mimetype": "text/x-python",
   "name": "python",
   "nbconvert_exporter": "python",
   "pygments_lexer": "ipython3",
   "version": "3.11.8"
  }
 },
 "nbformat": 4,
 "nbformat_minor": 2
}
