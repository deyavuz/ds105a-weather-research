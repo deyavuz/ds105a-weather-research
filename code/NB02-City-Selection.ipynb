{
 "cells": [
  {
   "cell_type": "markdown",
   "metadata": {},
   "source": [
    "## <b> NB02 - City Selection </b>"
   ]
  },
  {
   "cell_type": "markdown",
   "metadata": {},
   "source": [
    "Selection criteria\n",
    "| What | Why and How |\n",
    "| :--: | :--: |\n",
    "| In the Northern Hemisphere | to somewhat standardize climate in my chosen time period (i.e., the seasons would relatively be the same in my chosen cities) |\n",
    "| Have a reputation for being rainy | this will be decided upon intuitively/through general searches on infamous rainy movie scenes (e.g., \"It rains nine months a year in Seattle\", Sleepless in Seattle) |\n",
    "| 5 cities in total | to have a big enough sample size to be able to comprehensively compare between cities, yet not have the number of cities be overwhelming |"
   ]
  },
  {
   "cell_type": "markdown",
   "metadata": {},
   "source": [
    "Based on my criteria, these are the cities I have chosen:\n",
    "1) London, UK\n",
    "2) Oslo, Norway\n",
    "3) Seattle, USA\n",
    "4) Munich, Germany\n",
    "5) Kyoto, Japan\n",
    "\n",
    "The movies that prominently feature rain in these cities respectively are:\n",
    "1) Notting Hill/Bridget Jones' Diary/Four Weddings and a Funeral\n",
    "2) Oslo, August 31st (<u> NOTE: </u> Mostly no rain in the movie but it rains a lot in Oslo/Norway, which is why it's on the list!)\n",
    "3) Sleepless in Seattle\n",
    "4) Suspiria\n",
    "5) Rashomon"
   ]
  },
  {
   "cell_type": "code",
   "execution_count": 10,
   "metadata": {},
   "outputs": [
    {
     "data": {
      "text/html": [
       "\n",
       "            <div id=\"1upCCv\"></div>\n",
       "            <script type=\"text/javascript\" data-lets-plot-script=\"library\">\n",
       "                if(!window.letsPlotCallQueue) {\n",
       "                    window.letsPlotCallQueue = [];\n",
       "                }; \n",
       "                window.letsPlotCall = function(f) {\n",
       "                    window.letsPlotCallQueue.push(f);\n",
       "                };\n",
       "                (function() {\n",
       "                    var script = document.createElement(\"script\");\n",
       "                    script.type = \"text/javascript\";\n",
       "                    script.src = \"https://cdn.jsdelivr.net/gh/JetBrains/lets-plot@v4.4.1/js-package/distr/lets-plot.min.js\";\n",
       "                    script.onload = function() {\n",
       "                        window.letsPlotCall = function(f) {f();};\n",
       "                        window.letsPlotCallQueue.forEach(function(f) {f();});\n",
       "                        window.letsPlotCallQueue = [];\n",
       "                        \n",
       "                    };\n",
       "                    script.onerror = function(event) {\n",
       "                        window.letsPlotCall = function(f) {};    // noop\n",
       "                        window.letsPlotCallQueue = [];\n",
       "                        var div = document.createElement(\"div\");\n",
       "                        div.style.color = 'darkred';\n",
       "                        div.textContent = 'Error loading Lets-Plot JS';\n",
       "                        document.getElementById(\"1upCCv\").appendChild(div);\n",
       "                    };\n",
       "                    var e = document.getElementById(\"1upCCv\");\n",
       "                    e.appendChild(script);\n",
       "                })()\n",
       "            </script>\n",
       "            "
      ]
     },
     "metadata": {},
     "output_type": "display_data"
    }
   ],
   "source": [
    "## I'm importing the packages that I'll be using throughout this assignment\n",
    "import pandas as pd\n",
    "import os\n",
    "import json\n",
    "import requests\n",
    "import numpy as np\n",
    "import pandas as pd\n",
    "\n",
    "from lets_plot import *\n",
    "LetsPlot.setup_html()"
   ]
  },
  {
   "cell_type": "code",
   "execution_count": 11,
   "metadata": {},
   "outputs": [],
   "source": [
    "def get_lat_lon(country_code, city):\n",
    "    \n",
    "    filepath = '../data/world_cities.csv'\n",
    "    world_cities = pd.read_csv(filepath)\n",
    "\n",
    "    city_data = world_cities[(world_cities['country'] == country_code) & \n",
    "                             (world_cities['name'] == city)]\n",
    "    \n",
    "    city_data = city_data.to_dict('records')\n",
    "    \n",
    "    if len(city_data) == 0:\n",
    "        raise ValueError(f\"No records found for {city}, {country_code} in {filepath}\")\n",
    "\n",
    "    latitude = city_data[0]['lat']\n",
    "    longitude = city_data[0]['lng']\n",
    "\n",
    "    return latitude, longitude"
   ]
  },
  {
   "cell_type": "code",
   "execution_count": 12,
   "metadata": {},
   "outputs": [],
   "source": [
    "selected_country = 'GB'\n",
    "selected_city    = 'London'"
   ]
  },
  {
   "cell_type": "code",
   "execution_count": 13,
   "metadata": {},
   "outputs": [
    {
     "name": "stdout",
     "output_type": "stream",
     "text": [
      "The latitude & longitude of London (GB) are: (51.50853, -0.12574)\n"
     ]
    }
   ],
   "source": [
    "latitude, longitude = get_lat_lon(selected_country, selected_city)\n",
    "print(f\"The latitude & longitude of {selected_city} ({selected_country}) are: ({latitude}, {longitude})\")"
   ]
  },
  {
   "cell_type": "code",
   "execution_count": 14,
   "metadata": {},
   "outputs": [
    {
     "name": "stdout",
     "output_type": "stream",
     "text": [
      "The latitude & longitude of Oslo (NO) are: (59.91273, 10.74609)\n"
     ]
    }
   ],
   "source": [
    "selected_country2 = 'NO'\n",
    "selected_city2    = 'Oslo'\n",
    "latitude, longitude = get_lat_lon(selected_country2, selected_city2)\n",
    "print(f\"The latitude & longitude of {selected_city2} ({selected_country2}) are: ({latitude}, {longitude})\")"
   ]
  },
  {
   "cell_type": "code",
   "execution_count": 15,
   "metadata": {},
   "outputs": [
    {
     "name": "stdout",
     "output_type": "stream",
     "text": [
      "The latitude & longitude of Seattle (US) are: (47.60621, -122.33207)\n"
     ]
    }
   ],
   "source": [
    "selected_country3 = 'US'\n",
    "selected_city3    = 'Seattle'\n",
    "latitude, longitude = get_lat_lon(selected_country3, selected_city3)\n",
    "print(f\"The latitude & longitude of {selected_city3} ({selected_country3}) are: ({latitude}, {longitude})\")"
   ]
  },
  {
   "cell_type": "code",
   "execution_count": 16,
   "metadata": {},
   "outputs": [
    {
     "name": "stdout",
     "output_type": "stream",
     "text": [
      "The latitude & longitude of Munich (DE) are: (48.13743, 11.57549)\n"
     ]
    }
   ],
   "source": [
    "selected_country4 = 'DE'\n",
    "selected_city4    = 'Munich'\n",
    "latitude, longitude = get_lat_lon(selected_country4, selected_city4)\n",
    "print(f\"The latitude & longitude of {selected_city4} ({selected_country4}) are: ({latitude}, {longitude})\")"
   ]
  },
  {
   "cell_type": "code",
   "execution_count": 17,
   "metadata": {},
   "outputs": [
    {
     "name": "stdout",
     "output_type": "stream",
     "text": [
      "The latitude & longitude of Kyoto (JP) are: (35.02107, 135.75385)\n"
     ]
    }
   ],
   "source": [
    "selected_country5 = 'JP'\n",
    "selected_city5    = 'Kyoto'\n",
    "latitude, longitude = get_lat_lon(selected_country5, selected_city5)\n",
    "print(f\"The latitude & longitude of {selected_city5} ({selected_country5}) are: ({latitude}, {longitude})\")"
   ]
  }
 ],
 "metadata": {
  "kernelspec": {
   "display_name": "base",
   "language": "python",
   "name": "python3"
  },
  "language_info": {
   "codemirror_mode": {
    "name": "ipython",
    "version": 3
   },
   "file_extension": ".py",
   "mimetype": "text/x-python",
   "name": "python",
   "nbconvert_exporter": "python",
   "pygments_lexer": "ipython3",
   "version": "3.11.8"
  }
 },
 "nbformat": 4,
 "nbformat_minor": 2
}
