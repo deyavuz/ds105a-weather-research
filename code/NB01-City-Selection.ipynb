{
 "cells": [
  {
   "cell_type": "markdown",
   "metadata": {},
   "source": [
    "## <b> NB01 - City Selection </b>"
   ]
  },
  {
   "cell_type": "markdown",
   "metadata": {},
   "source": [
    "Selection criteria\n",
    "| What | Why and How |\n",
    "| :--: | :--: |\n",
    "| In the Northern Hemisphere | to somewhat standardize climate in my chosen time period (i.e., the seasons would relatively be the same in my chosen cities) |\n",
    "| Have a reputation for being rainy | this will be decided upon intuitively/through general searches on infamous rainy movie scenes (e.g., \"It rains nine months a year in Seattle\", Sleepless in Seattle) |\n",
    "| 5 cities in total | to have a big enough sample size to be able to comprehensively compare between cities, yet not have the number of cities be overwhelming |"
   ]
  },
  {
   "cell_type": "markdown",
   "metadata": {},
   "source": [
    "Based on my criteria, these are the cities I have chosen:\n",
    "1) London, UK 🇬🇧\n",
    "2) Oslo, Norway 🇳🇴\n",
    "3) Seattle, USA 🇺🇸\n",
    "4) Munich, Germany 🇩🇪\n",
    "5) Kyoto, Japan 🇯🇵\n",
    "\n",
    "The movies that prominently feature rain in these cities respectively are:\n",
    "1) Notting Hill/Bridget Jones' Diary/Four Weddings and a Funeral 📔💐\n",
    "2) Oslo, August 31st (<u> NOTE: </u> Mostly no rain in the movie but it rains a lot in Oslo/Norway, which is why it's on the list!) 🚲🗓\n",
    "3) Sleepless in Seattle ☎️📻\n",
    "4) Suspiria 💃🩸\n",
    "5) Rashomon ⚔️💧"
   ]
  },
  {
   "cell_type": "code",
   "execution_count": 1,
   "metadata": {},
   "outputs": [
    {
     "data": {
      "text/html": [
       "\n",
       "            <div id=\"vXvnlV\"></div>\n",
       "            <script type=\"text/javascript\" data-lets-plot-script=\"library\">\n",
       "                if(!window.letsPlotCallQueue) {\n",
       "                    window.letsPlotCallQueue = [];\n",
       "                }; \n",
       "                window.letsPlotCall = function(f) {\n",
       "                    window.letsPlotCallQueue.push(f);\n",
       "                };\n",
       "                (function() {\n",
       "                    var script = document.createElement(\"script\");\n",
       "                    script.type = \"text/javascript\";\n",
       "                    script.src = \"https://cdn.jsdelivr.net/gh/JetBrains/lets-plot@v4.4.1/js-package/distr/lets-plot.min.js\";\n",
       "                    script.onload = function() {\n",
       "                        window.letsPlotCall = function(f) {f();};\n",
       "                        window.letsPlotCallQueue.forEach(function(f) {f();});\n",
       "                        window.letsPlotCallQueue = [];\n",
       "                        \n",
       "                    };\n",
       "                    script.onerror = function(event) {\n",
       "                        window.letsPlotCall = function(f) {};    // noop\n",
       "                        window.letsPlotCallQueue = [];\n",
       "                        var div = document.createElement(\"div\");\n",
       "                        div.style.color = 'darkred';\n",
       "                        div.textContent = 'Error loading Lets-Plot JS';\n",
       "                        document.getElementById(\"vXvnlV\").appendChild(div);\n",
       "                    };\n",
       "                    var e = document.getElementById(\"vXvnlV\");\n",
       "                    e.appendChild(script);\n",
       "                })()\n",
       "            </script>\n",
       "            "
      ]
     },
     "metadata": {},
     "output_type": "display_data"
    },
    {
     "name": "stdout",
     "output_type": "stream",
     "text": [
      "The geodata is provided by © OpenStreetMap contributors and is made available here under the Open Database License (ODbL).\n"
     ]
    },
    {
     "data": {
      "text/html": [
       "\n",
       "            <div id=\"jdLViX\"></div>\n",
       "            <script type=\"text/javascript\" data-lets-plot-script=\"library\">\n",
       "                if(!window.letsPlotCallQueue) {\n",
       "                    window.letsPlotCallQueue = [];\n",
       "                }; \n",
       "                window.letsPlotCall = function(f) {\n",
       "                    window.letsPlotCallQueue.push(f);\n",
       "                };\n",
       "                (function() {\n",
       "                    var script = document.createElement(\"script\");\n",
       "                    script.type = \"text/javascript\";\n",
       "                    script.src = \"https://cdn.jsdelivr.net/gh/JetBrains/lets-plot@v4.4.1/js-package/distr/lets-plot.min.js\";\n",
       "                    script.onload = function() {\n",
       "                        window.letsPlotCall = function(f) {f();};\n",
       "                        window.letsPlotCallQueue.forEach(function(f) {f();});\n",
       "                        window.letsPlotCallQueue = [];\n",
       "                        \n",
       "                    };\n",
       "                    script.onerror = function(event) {\n",
       "                        window.letsPlotCall = function(f) {};    // noop\n",
       "                        window.letsPlotCallQueue = [];\n",
       "                        var div = document.createElement(\"div\");\n",
       "                        div.style.color = 'darkred';\n",
       "                        div.textContent = 'Error loading Lets-Plot JS';\n",
       "                        document.getElementById(\"jdLViX\").appendChild(div);\n",
       "                    };\n",
       "                    var e = document.getElementById(\"jdLViX\");\n",
       "                    e.appendChild(script);\n",
       "                })()\n",
       "            </script>\n",
       "            "
      ]
     },
     "metadata": {},
     "output_type": "display_data"
    }
   ],
   "source": [
    "## I'm importing the packages that I'll be using throughout this assignment\n",
    "import pandas as pd\n",
    "import os\n",
    "import json\n",
    "import requests\n",
    "import numpy as np\n",
    "\n",
    "from lets_plot import *\n",
    "LetsPlot.setup_html()\n",
    "\n",
    "#!pip install geopandas\n",
    "\n",
    "import geopandas as gpd\n",
    "from lets_plot.geo_data import *\n",
    "\n",
    "from lets_plot import *\n",
    "LetsPlot.setup_html()\n",
    "\n",
    "from functions import *\n",
    "\n",
    "#!pip install geodatasets\n",
    "import geodatasets\n",
    "\n",
    "from IPython.display import *"
   ]
  },
  {
   "cell_type": "markdown",
   "metadata": {},
   "source": [
    "I have created a function to print out the output from \"get_lat_lon\", so I have imported that and will be using it to efficiently get the latitude and longitudes for all five of my cities!"
   ]
  },
  {
   "cell_type": "code",
   "execution_count": 2,
   "metadata": {},
   "outputs": [
    {
     "name": "stdout",
     "output_type": "stream",
     "text": [
      "The latitude and longitude of GB, London is (51.50853, -0.12574)\n"
     ]
    }
   ],
   "source": [
    "print_location_lat_lon('GB', 'London')"
   ]
  },
  {
   "cell_type": "code",
   "execution_count": 3,
   "metadata": {},
   "outputs": [
    {
     "name": "stdout",
     "output_type": "stream",
     "text": [
      "The latitude and longitude of NO, Oslo is (59.91273, 10.74609)\n"
     ]
    }
   ],
   "source": [
    "print_location_lat_lon('NO', 'Oslo')"
   ]
  },
  {
   "cell_type": "code",
   "execution_count": 4,
   "metadata": {},
   "outputs": [
    {
     "name": "stdout",
     "output_type": "stream",
     "text": [
      "The latitude and longitude of US, Seattle is (47.60621, -122.33207)\n"
     ]
    }
   ],
   "source": [
    "print_location_lat_lon('US', 'Seattle')"
   ]
  },
  {
   "cell_type": "code",
   "execution_count": 5,
   "metadata": {},
   "outputs": [
    {
     "name": "stdout",
     "output_type": "stream",
     "text": [
      "The latitude and longitude of DE, Munich is (48.13743, 11.57549)\n"
     ]
    }
   ],
   "source": [
    "print_location_lat_lon('DE', 'Munich')"
   ]
  },
  {
   "cell_type": "code",
   "execution_count": 6,
   "metadata": {},
   "outputs": [
    {
     "name": "stdout",
     "output_type": "stream",
     "text": [
      "The latitude and longitude of JP, Kyoto is (35.02107, 135.75385)\n"
     ]
    }
   ],
   "source": [
    "print_location_lat_lon('JP', 'Kyoto')"
   ]
  },
  {
   "cell_type": "markdown",
   "metadata": {},
   "source": [
    "I am creating a CSV dataframe to hold city data between January 01, 2021 and January 01, 2024. I am doing this to achieve a neater working environment but also to limit my API calls, which has a daily cap. It's more convenient to be working with data in a local environment."
   ]
  },
  {
   "cell_type": "code",
   "execution_count": 7,
   "metadata": {},
   "outputs": [],
   "source": [
    "## Creating a list with my chosen country codes and cities\n",
    "cities = [\n",
    "    (\"GB\", \"London\"),\n",
    "    (\"JP\", \"Kyoto\"),\n",
    "    (\"DE\", \"Munich\"),\n",
    "    (\"US\", \"Seattle\"),\n",
    "    (\"NO\", \"Oslo\")\n",
    "]\n",
    "\n",
    "## Defining start and end dates\n",
    "start_date = '2021-01-01'\n",
    "end_date = '2024-01-01'\n",
    "\n",
    "## Creating an empty list to hold the data\n",
    "all_city_data = []\n",
    "\n",
    "## Creating loop for calling country codes, city names, times and rain sum data and storing it in the JSON format\n",
    "for country_code, city_name in cities:\n",
    "    json_data = get_historical_data(country_code, city_name, start_date, end_date)\n",
    "    \n",
    "    city_data = {\n",
    "        \"country\": country_code,\n",
    "        \"city\": city_name,\n",
    "        \"date\": json_data['daily']['time'],\n",
    "        \"rain_sum\": json_data['daily']['rain_sum']\n",
    "    }\n",
    "    \n",
    "    city_df = pd.DataFrame(city_data)\n",
    "    all_city_data.append(city_df)\n",
    "\n",
    "## Combining city rain sum data into a dataframe\n",
    "final_df = pd.concat(all_city_data, ignore_index=True)\n",
    "## Saving dataframe into the data file as CSV\n",
    "final_df.to_csv('../data/historical_city_rain_data.csv', index=False)"
   ]
  },
  {
   "cell_type": "markdown",
   "metadata": {},
   "source": [
    "## Map graph"
   ]
  },
  {
   "cell_type": "code",
   "execution_count": 9,
   "metadata": {},
   "outputs": [
    {
     "data": {
      "text/html": [
       "   <div id=\"AZs2KZ\"></div>\n",
       "   <script type=\"text/javascript\" data-lets-plot-script=\"plot\">\n",
       "       (function() {\n",
       "           var plotSpec={\n",
       "\"mapping\":{\n",
       "},\n",
       "\"data_meta\":{\n",
       "},\n",
       "\"ggsize\":{\n",
       "\"width\":800.0,\n",
       "\"height\":500.0\n",
       "},\n",
       "\"kind\":\"plot\",\n",
       "\"scales\":[],\n",
       "\"layers\":[{\n",
       "\"geom\":\"livemap\",\n",
       "\"mapping\":{\n",
       "},\n",
       "\"data_meta\":{\n",
       "},\n",
       "\"zoom\":2.0,\n",
       "\"tiles\":{\n",
       "\"kind\":\"vector_lets_plot\",\n",
       "\"url\":\"wss://tiles.datalore.jetbrains.com\",\n",
       "\"theme\":\"color\",\n",
       "\"attribution\":\"<a href=\\\"https://lets-plot.org\\\">© Lets-Plot</a>, map data: <a href=\\\"https://www.openstreetmap.org/copyright\\\">© OpenStreetMap contributors</a>.\"\n",
       "},\n",
       "\"geocoding\":{\n",
       "\"url\":\"https://geo2.datalore.jetbrains.com/map_data/geocoding\"\n",
       "},\n",
       "\"data\":{\n",
       "}\n",
       "},{\n",
       "\"geom\":\"hline\",\n",
       "\"mapping\":{\n",
       "\"yintercept\":\"yintercept\"\n",
       "},\n",
       "\"data_meta\":{\n",
       "},\n",
       "\"color\":\"#e0218a\",\n",
       "\"linetype\":2.0,\n",
       "\"size\":1.0,\n",
       "\"data\":{\n",
       "\"yintercept\":[0.0,0.0,0.0,0.0]\n",
       "}\n",
       "},{\n",
       "\"geom\":\"point\",\n",
       "\"data\":{\n",
       "\"city\":[\"Kyoto\",\"London\",\"Munich\",\"Oslo\",\"Seattle\"],\n",
       "\"geometry\":[\"{\\\"type\\\": \\\"Point\\\", \\\"coordinates\\\": [135.755607113242, 35.0210405141115]}\",\"{\\\"type\\\": \\\"Point\\\", \\\"coordinates\\\": [-0.144055305103075, 51.4893338084221]}\",\"{\\\"type\\\": \\\"Point\\\", \\\"coordinates\\\": [-98.8321342270712, 48.6698875576258]}\",\"{\\\"type\\\": \\\"Point\\\", \\\"coordinates\\\": [10.775728858116, 59.9723978340626]}\",\"{\\\"type\\\": \\\"Point\\\", \\\"coordinates\\\": [-122.313062421052, 47.6189685612917]}\"]\n",
       "},\n",
       "\"mapping\":{\n",
       "\"color\":\"city\"\n",
       "},\n",
       "\"show_legend\":true,\n",
       "\"tooltips\":{\n",
       "\"formats\":[],\n",
       "\"title\":\"@city\"\n",
       "},\n",
       "\"data_meta\":{\n",
       "\"series_annotations\":[{\n",
       "\"type\":\"str\",\n",
       "\"column\":\"city\"\n",
       "},{\n",
       "\"type\":\"str\",\n",
       "\"column\":\"found name\"\n",
       "},{\n",
       "\"type\":\"unknown(pandas:unknown-array)\",\n",
       "\"column\":\"geometry\"\n",
       "}],\n",
       "\"geodataframe\":{\n",
       "\"geometry\":\"geometry\"\n",
       "}\n",
       "},\n",
       "\"size\":5.0\n",
       "}],\n",
       "\"metainfo_list\":[]\n",
       "};\n",
       "           var plotContainer = document.getElementById(\"AZs2KZ\");\n",
       "           window.letsPlotCall(function() {{\n",
       "               LetsPlot.buildPlotFromProcessedSpecs(plotSpec, -1, -1, plotContainer);\n",
       "           }});\n",
       "       })();\n",
       "   </script>"
      ],
      "text/plain": [
       "<lets_plot.plot.core.PlotSpec at 0x7f1c168bb010>"
      ]
     },
     "execution_count": 9,
     "metadata": {},
     "output_type": "execute_result"
    }
   ],
   "source": [
    "data = pd.read_csv('../data/mean_raininess_per_city.csv')\n",
    "\n",
    "centroids = geocode_cities(data[\"city\"]).get_centroids()\n",
    "\n",
    "p = ggplot() + ggsize(800, 500)\n",
    "\n",
    "lats = [0 * y for y in range(4)]\n",
    "\n",
    "plot = (\n",
    "    p + \n",
    "    geom_livemap(zoom=2) +  \n",
    "    geom_hline(aes(yintercept=lats), color='#e0218a', linetype=2, size=1) +  \n",
    "    geom_point(aes(color='city'), \n",
    "               data=centroids,  \n",
    "               size=5,  \n",
    "               show_legend=True,  \n",
    "               tooltips=layer_tooltips().title(\"@city\"))  \n",
    ")\n",
    "\n",
    "plot"
   ]
  },
  {
   "cell_type": "code",
   "execution_count": null,
   "metadata": {},
   "outputs": [],
   "source": [
    "data = pd.read_csv('/files/ds105a-2024-w06-summative-deyavuz/data/mean_raininess_per_city.csv')\n",
    "\n",
    "countries_data = gpd.read_file('/files/ds105a-2024-w06-summative-deyavuz/data/world_cities.csv')\n",
    "\n",
    "selected_countries = ['US', 'GB', 'JP', 'NO', 'DE']\n",
    "countries_data_filtered = countries_data[countries_data['country'].isin(selected_countries)]\n",
    "\n",
    "centroids = geocode_cities(data[\"city\"]).get_centroids()\n",
    "\n",
    "p = ggplot() + ggsize(800, 500)\n",
    "\n",
    "lats = [0 * y for y in range(4)]\n",
    "\n",
    "plot = (\n",
    "    p + \n",
    "    geom_livemap(zoom=2) +  \n",
    "     geom_polygon(aes(fill='country', group='country'),  # Map your fill variable\n",
    "                 data=countries_data_filtered,\n",
    "                 alpha=0.5,   # Adjust transparency\n",
    "                 color='black') +  # Country borders\n",
    "    geom_hline(aes(yintercept=lats), color='#e0218a', linetype=2, size=1) +  \n",
    "    geom_point(aes(color='city'), \n",
    "               data=centroids,  \n",
    "               size=5,  \n",
    "               show_legend=True,  \n",
    "               tooltips=layer_tooltips().title(\"@city\"))  \n",
    ")\n",
    "\n",
    "ggsave(plot, filename='cities_map.html', path='/files/ds105a-2024-w06-summative-deyavuz/figures', w=8, h=5, unit='in', dpi=300)"
   ]
  },
  {
   "cell_type": "code",
   "execution_count": null,
   "metadata": {},
   "outputs": [],
   "source": [
    "with open('/files/ds105a-2024-w06-summative-deyavuz/figures/cities_map.html', 'w') as f:\n",
    "    f.write(plot.to_html())  \n",
    "\n",
    "HTML(filename='/files/ds105a-2024-w06-summative-deyavuz/figures/cities_map.html') "
   ]
  },
  {
   "cell_type": "markdown",
   "metadata": {},
   "source": [
    "[Interactive Map](https://github.com/lse-ds105/ds105a-2024-w06-summative-deyavuz/blob/main/figures/cities_map.html)"
   ]
  },
  {
   "cell_type": "code",
   "execution_count": 10,
   "metadata": {},
   "outputs": [
    {
     "data": {
      "text/html": [
       "   <div id=\"r7ZZyy\"></div>\n",
       "   <script type=\"text/javascript\" data-lets-plot-script=\"plot\">\n",
       "       (function() {\n",
       "           var plotSpec={\n",
       "\"mapping\":{\n",
       "},\n",
       "\"data_meta\":{\n",
       "},\n",
       "\"ggsize\":{\n",
       "\"width\":800.0,\n",
       "\"height\":500.0\n",
       "},\n",
       "\"kind\":\"plot\",\n",
       "\"scales\":[],\n",
       "\"layers\":[{\n",
       "\"geom\":\"livemap\",\n",
       "\"mapping\":{\n",
       "},\n",
       "\"data_meta\":{\n",
       "},\n",
       "\"zoom\":2.0,\n",
       "\"tiles\":{\n",
       "\"kind\":\"vector_lets_plot\",\n",
       "\"url\":\"wss://tiles.datalore.jetbrains.com\",\n",
       "\"theme\":\"color\",\n",
       "\"attribution\":\"<a href=\\\"https://lets-plot.org\\\">© Lets-Plot</a>, map data: <a href=\\\"https://www.openstreetmap.org/copyright\\\">© OpenStreetMap contributors</a>.\"\n",
       "},\n",
       "\"geocoding\":{\n",
       "\"url\":\"https://geo2.datalore.jetbrains.com/map_data/geocoding\"\n",
       "},\n",
       "\"data\":{\n",
       "}\n",
       "},{\n",
       "\"geom\":\"hline\",\n",
       "\"mapping\":{\n",
       "\"yintercept\":\"yintercept\"\n",
       "},\n",
       "\"data_meta\":{\n",
       "},\n",
       "\"color\":\"#e0218a\",\n",
       "\"linetype\":2.0,\n",
       "\"size\":1.0,\n",
       "\"data\":{\n",
       "\"yintercept\":[0.0,0.0,0.0,0.0]\n",
       "}\n",
       "},{\n",
       "\"geom\":\"point\",\n",
       "\"data\":{\n",
       "\"city\":[\"Kyoto\",\"London\",\"Munich\",\"Oslo\",\"Seattle\"],\n",
       "\"geometry\":[\"{\\\"type\\\": \\\"Point\\\", \\\"coordinates\\\": [135.755607113242, 35.0210405141115]}\",\"{\\\"type\\\": \\\"Point\\\", \\\"coordinates\\\": [-0.144055305103075, 51.4893338084221]}\",\"{\\\"type\\\": \\\"Point\\\", \\\"coordinates\\\": [-98.8321342270712, 48.6698875576258]}\",\"{\\\"type\\\": \\\"Point\\\", \\\"coordinates\\\": [10.775728858116, 59.9723978340626]}\",\"{\\\"type\\\": \\\"Point\\\", \\\"coordinates\\\": [-122.313062421052, 47.6189685612917]}\"]\n",
       "},\n",
       "\"mapping\":{\n",
       "\"color\":\"city\"\n",
       "},\n",
       "\"show_legend\":true,\n",
       "\"tooltips\":{\n",
       "\"formats\":[],\n",
       "\"title\":\"@city\"\n",
       "},\n",
       "\"data_meta\":{\n",
       "\"series_annotations\":[{\n",
       "\"type\":\"str\",\n",
       "\"column\":\"city\"\n",
       "},{\n",
       "\"type\":\"str\",\n",
       "\"column\":\"found name\"\n",
       "},{\n",
       "\"type\":\"unknown(pandas:unknown-array)\",\n",
       "\"column\":\"geometry\"\n",
       "}],\n",
       "\"geodataframe\":{\n",
       "\"geometry\":\"geometry\"\n",
       "}\n",
       "},\n",
       "\"size\":5.0\n",
       "}],\n",
       "\"metainfo_list\":[]\n",
       "};\n",
       "           var plotContainer = document.getElementById(\"r7ZZyy\");\n",
       "           window.letsPlotCall(function() {{\n",
       "               LetsPlot.buildPlotFromProcessedSpecs(plotSpec, -1, -1, plotContainer);\n",
       "           }});\n",
       "       })();\n",
       "   </script>"
      ],
      "text/plain": [
       "<lets_plot.plot.core.PlotSpec at 0x7f1c14a990d0>"
      ]
     },
     "execution_count": 10,
     "metadata": {},
     "output_type": "execute_result"
    }
   ],
   "source": [
    "data = pd.read_csv('/files/ds105a-2024-w06-summative-deyavuz/data/mean_raininess_per_city.csv')\n",
    "\n",
    "centroids = geocode_cities(data[\"city\"]).get_centroids()\n",
    "\n",
    "p = ggplot() + ggsize(800, 500)\n",
    "\n",
    "lats = [0 * y for y in range(4)]\n",
    "\n",
    "plot = (\n",
    "    p + \n",
    "    geom_livemap(zoom=2) +  \n",
    "    geom_hline(aes(yintercept=lats), color='#e0218a', linetype=2, size=1) +  \n",
    "    geom_point(aes(color='city'), \n",
    "               data=centroids,  \n",
    "               size=5,  \n",
    "               show_legend=True,  \n",
    "               tooltips=layer_tooltips().title(\"@city\"))  \n",
    ")\n",
    "\n",
    "plot"
   ]
  }
 ],
 "metadata": {
  "kernelspec": {
   "display_name": "base",
   "language": "python",
   "name": "python3"
  },
  "language_info": {
   "codemirror_mode": {
    "name": "ipython",
    "version": 3
   },
   "file_extension": ".py",
   "mimetype": "text/x-python",
   "name": "python",
   "nbconvert_exporter": "python",
   "pygments_lexer": "ipython3",
   "version": "3.11.8"
  }
 },
 "nbformat": 4,
 "nbformat_minor": 2
}
