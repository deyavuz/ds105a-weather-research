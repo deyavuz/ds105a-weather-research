{
 "cells": [
  {
   "cell_type": "markdown",
   "metadata": {},
   "source": [
    "## 🌍<b> NB01 - City Selection </b>"
   ]
  },
  {
   "cell_type": "markdown",
   "metadata": {},
   "source": [
    "## <center> Selection Criteria </center>\n",
    "\n",
    "\n",
    "| What | Why and How |\n",
    "| :--: | :--: |\n",
    "| In the Northern Hemisphere | to somewhat standardize climate in my chosen time period (i.e., the seasons would relatively be the same in my chosen cities) |\n",
    "| Have a reputation for being rainy | this will be decided upon intuitively/through general searches on infamous rainy movie scenes (e.g., \"It rains nine months a year in Seattle\", Sleepless in Seattle) |\n",
    "| 5 cities in total | to have a big enough sample size to be able to comprehensively compare between cities, yet not have the number of cities be overwhelming |\n",
    "| One of the cities is London | it is the focus of my research! |"
   ]
  },
  {
   "cell_type": "markdown",
   "metadata": {},
   "source": [
    "#### Based on my criteria, these are the cities I have chosen: \n",
    "\n",
    "1) London, UK 🇬🇧\n",
    "2) Oslo, Norway 🇳🇴\n",
    "3) Seattle, USA 🇺🇸\n",
    "4) Munich, Germany 🇩🇪\n",
    "5) Kyoto, Japan 🇯🇵\n",
    "\n",
    "#### The movies that prominently feature rain in these cities respectively are:\n",
    "1) Notting Hill/Bridget Jones' Diary/Four Weddings and a Funeral 📔💐\n",
    "2) Oslo, August 31st (<u> NOTE: </u> Mostly no rain in the movie but it rains a lot in Oslo/Norway, which is why it's on the list!) 🚲🗓\n",
    "3) Sleepless in Seattle ☎️📻\n",
    "4) Suspiria 💃🩸\n",
    "5) Rashomon ⚔️💧"
   ]
  },
  {
   "cell_type": "code",
   "execution_count": 1,
   "metadata": {},
   "outputs": [
    {
     "data": {
      "text/html": [
       "\n",
       "            <div id=\"cuXBKh\"></div>\n",
       "            <script type=\"text/javascript\" data-lets-plot-script=\"library\">\n",
       "                if(!window.letsPlotCallQueue) {\n",
       "                    window.letsPlotCallQueue = [];\n",
       "                }; \n",
       "                window.letsPlotCall = function(f) {\n",
       "                    window.letsPlotCallQueue.push(f);\n",
       "                };\n",
       "                (function() {\n",
       "                    var script = document.createElement(\"script\");\n",
       "                    script.type = \"text/javascript\";\n",
       "                    script.src = \"https://cdn.jsdelivr.net/gh/JetBrains/lets-plot@v4.4.1/js-package/distr/lets-plot.min.js\";\n",
       "                    script.onload = function() {\n",
       "                        window.letsPlotCall = function(f) {f();};\n",
       "                        window.letsPlotCallQueue.forEach(function(f) {f();});\n",
       "                        window.letsPlotCallQueue = [];\n",
       "                        \n",
       "                    };\n",
       "                    script.onerror = function(event) {\n",
       "                        window.letsPlotCall = function(f) {};    // noop\n",
       "                        window.letsPlotCallQueue = [];\n",
       "                        var div = document.createElement(\"div\");\n",
       "                        div.style.color = 'darkred';\n",
       "                        div.textContent = 'Error loading Lets-Plot JS';\n",
       "                        document.getElementById(\"cuXBKh\").appendChild(div);\n",
       "                    };\n",
       "                    var e = document.getElementById(\"cuXBKh\");\n",
       "                    e.appendChild(script);\n",
       "                })()\n",
       "            </script>\n",
       "            "
      ]
     },
     "metadata": {},
     "output_type": "display_data"
    },
    {
     "name": "stdout",
     "output_type": "stream",
     "text": [
      "The geodata is provided by © OpenStreetMap contributors and is made available here under the Open Database License (ODbL).\n"
     ]
    },
    {
     "data": {
      "text/html": [
       "\n",
       "            <div id=\"rZIQDB\"></div>\n",
       "            <script type=\"text/javascript\" data-lets-plot-script=\"library\">\n",
       "                if(!window.letsPlotCallQueue) {\n",
       "                    window.letsPlotCallQueue = [];\n",
       "                }; \n",
       "                window.letsPlotCall = function(f) {\n",
       "                    window.letsPlotCallQueue.push(f);\n",
       "                };\n",
       "                (function() {\n",
       "                    var script = document.createElement(\"script\");\n",
       "                    script.type = \"text/javascript\";\n",
       "                    script.src = \"https://cdn.jsdelivr.net/gh/JetBrains/lets-plot@v4.4.1/js-package/distr/lets-plot.min.js\";\n",
       "                    script.onload = function() {\n",
       "                        window.letsPlotCall = function(f) {f();};\n",
       "                        window.letsPlotCallQueue.forEach(function(f) {f();});\n",
       "                        window.letsPlotCallQueue = [];\n",
       "                        \n",
       "                    };\n",
       "                    script.onerror = function(event) {\n",
       "                        window.letsPlotCall = function(f) {};    // noop\n",
       "                        window.letsPlotCallQueue = [];\n",
       "                        var div = document.createElement(\"div\");\n",
       "                        div.style.color = 'darkred';\n",
       "                        div.textContent = 'Error loading Lets-Plot JS';\n",
       "                        document.getElementById(\"rZIQDB\").appendChild(div);\n",
       "                    };\n",
       "                    var e = document.getElementById(\"rZIQDB\");\n",
       "                    e.appendChild(script);\n",
       "                })()\n",
       "            </script>\n",
       "            "
      ]
     },
     "metadata": {},
     "output_type": "display_data"
    }
   ],
   "source": [
    "## I'm importing the packages that I'll be using throughout this assignment\n",
    "import pandas as pd\n",
    "import os\n",
    "import json\n",
    "import requests\n",
    "import numpy as np\n",
    "\n",
    "from lets_plot import *\n",
    "LetsPlot.setup_html()\n",
    "\n",
    "#!pip install geopandas\n",
    "\n",
    "import geopandas as gpd\n",
    "from lets_plot.geo_data import *\n",
    "\n",
    "from lets_plot import *\n",
    "LetsPlot.setup_html()\n",
    "\n",
    "from functions import *\n",
    "\n",
    "#!pip install geodatasets\n",
    "import geodatasets\n",
    "\n",
    "from IPython.display import *\n",
    "from shapely.geometry import Point"
   ]
  },
  {
   "cell_type": "markdown",
   "metadata": {},
   "source": [
    "I have created and imported the function ```print_location_lat_lon``` to print out the output from ```get_lat_lon```, so I have imported that and will be using it to efficiently get the latitude and longitudes for all five of my cities!"
   ]
  },
  {
   "cell_type": "code",
   "execution_count": 2,
   "metadata": {},
   "outputs": [
    {
     "name": "stdout",
     "output_type": "stream",
     "text": [
      "The latitude and longitude of GB, London is (51.50853, -0.12574)\n"
     ]
    }
   ],
   "source": [
    "print_location_lat_lon('GB', 'London')"
   ]
  },
  {
   "cell_type": "code",
   "execution_count": 19,
   "metadata": {},
   "outputs": [
    {
     "name": "stdout",
     "output_type": "stream",
     "text": [
      "The latitude and longitude of NO, Oslo is (59.91273, 10.74609)\n"
     ]
    }
   ],
   "source": [
    "print_location_lat_lon('NO', 'Oslo')"
   ]
  },
  {
   "cell_type": "code",
   "execution_count": 20,
   "metadata": {},
   "outputs": [
    {
     "name": "stdout",
     "output_type": "stream",
     "text": [
      "The latitude and longitude of US, Seattle is (47.60621, -122.33207)\n"
     ]
    }
   ],
   "source": [
    "print_location_lat_lon('US', 'Seattle')"
   ]
  },
  {
   "cell_type": "code",
   "execution_count": 21,
   "metadata": {},
   "outputs": [
    {
     "name": "stdout",
     "output_type": "stream",
     "text": [
      "The latitude and longitude of DE, Munich is (48.13743, 11.57549)\n"
     ]
    }
   ],
   "source": [
    "print_location_lat_lon('DE', 'Munich')"
   ]
  },
  {
   "cell_type": "code",
   "execution_count": 22,
   "metadata": {},
   "outputs": [
    {
     "name": "stdout",
     "output_type": "stream",
     "text": [
      "The latitude and longitude of JP, Kyoto is (35.02107, 135.75385)\n"
     ]
    }
   ],
   "source": [
    "print_location_lat_lon('JP', 'Kyoto')"
   ]
  },
  {
   "cell_type": "markdown",
   "metadata": {},
   "source": [
    "I am creating a CSV dataframe to hold city data between January 01, 2021 and January 01, 2024. I am doing this to achieve a neater working environment but also to limit my API calls, which has a daily cap. It's more convenient to be working with data in a local environment."
   ]
  },
  {
   "cell_type": "code",
   "execution_count": 3,
   "metadata": {},
   "outputs": [],
   "source": [
    "## Creating a list with my chosen country codes and cities\n",
    "cities = [\n",
    "    (\"GB\", \"London\"),\n",
    "    (\"JP\", \"Kyoto\"),\n",
    "    (\"DE\", \"Munich\"),\n",
    "    (\"US\", \"Seattle\"),\n",
    "    (\"NO\", \"Oslo\")\n",
    "]\n",
    "\n",
    "## Defining start and end dates\n",
    "start_date = '2021-01-01'\n",
    "end_date = '2024-01-01'\n",
    "\n",
    "## Creating an empty list to hold the data\n",
    "all_city_data = []\n",
    "\n",
    "## Creating loop for calling country codes, city names, times and rain sum data and storing it in the JSON format\n",
    "for country_code, city_name in cities:\n",
    "    json_data = get_historical_data(country_code, city_name, start_date, end_date)\n",
    "    \n",
    "    city_data = {\n",
    "        \"country\": country_code,\n",
    "        \"city\": city_name,\n",
    "        \"date\": json_data['daily']['time'],\n",
    "        \"rain_sum\": json_data['daily']['rain_sum']\n",
    "    }\n",
    "    \n",
    "    city_df = pd.DataFrame(city_data)\n",
    "    all_city_data.append(city_df)\n",
    "\n",
    "## Combining city rain sum data into a dataframe\n",
    "final_df = pd.concat(all_city_data, ignore_index=True)\n",
    "## Saving dataframe into the data file as CSV\n",
    "final_df.to_csv('../data/historical_city_rain_data.csv', index=False)"
   ]
  },
  {
   "cell_type": "markdown",
   "metadata": {},
   "source": [
    "### Plotting the selected cities"
   ]
  },
  {
   "cell_type": "code",
   "execution_count": 4,
   "metadata": {},
   "outputs": [
    {
     "data": {
      "text/html": [
       "<div>\n",
       "<style scoped>\n",
       "    .dataframe tbody tr th:only-of-type {\n",
       "        vertical-align: middle;\n",
       "    }\n",
       "\n",
       "    .dataframe tbody tr th {\n",
       "        vertical-align: top;\n",
       "    }\n",
       "\n",
       "    .dataframe thead th {\n",
       "        text-align: right;\n",
       "    }\n",
       "</style>\n",
       "<table border=\"1\" class=\"dataframe\">\n",
       "  <thead>\n",
       "    <tr style=\"text-align: right;\">\n",
       "      <th></th>\n",
       "      <th>id</th>\n",
       "      <th>city</th>\n",
       "      <th>found name</th>\n",
       "      <th>country</th>\n",
       "      <th>centroid</th>\n",
       "      <th>position</th>\n",
       "      <th>limit</th>\n",
       "    </tr>\n",
       "  </thead>\n",
       "  <tbody>\n",
       "    <tr>\n",
       "      <th>0</th>\n",
       "      <td>1700534808</td>\n",
       "      <td>munich</td>\n",
       "      <td>Munich</td>\n",
       "      <td>DE</td>\n",
       "      <td>[11.5258078608938, 48.1545735150576]</td>\n",
       "      <td>[11.3607765734196, 48.0616249144077, 11.722908...</td>\n",
       "      <td>[11.3607765734196, 48.0616249144077, 11.722908...</td>\n",
       "    </tr>\n",
       "    <tr>\n",
       "      <th>1</th>\n",
       "      <td>29546940</td>\n",
       "      <td>seattle</td>\n",
       "      <td>Seattle</td>\n",
       "      <td>USA</td>\n",
       "      <td>[-122.313062421052, 47.6189685612917]</td>\n",
       "      <td>[-122.436020672321, 47.4955514073372, -122.224...</td>\n",
       "      <td>[-122.436020672321, 47.4955514073372, -122.224...</td>\n",
       "    </tr>\n",
       "    <tr>\n",
       "      <th>2</th>\n",
       "      <td>533681139</td>\n",
       "      <td>kyoto</td>\n",
       "      <td>Kyoto</td>\n",
       "      <td>JP</td>\n",
       "      <td>[135.755607113242, 35.0210405141115]</td>\n",
       "      <td>[135.746623724699, 35.0136838853359, 135.76459...</td>\n",
       "      <td>[135.746623724699, 35.0136838853359, 135.76459...</td>\n",
       "    </tr>\n",
       "    <tr>\n",
       "      <th>3</th>\n",
       "      <td>107775</td>\n",
       "      <td>london</td>\n",
       "      <td>London</td>\n",
       "      <td>GB</td>\n",
       "      <td>[-0.144055305103075, 51.4893338084221]</td>\n",
       "      <td>[-0.510374754667282, 51.2867599725723, 0.33401...</td>\n",
       "      <td>[-0.510374754667282, 51.2867599725723, 0.33401...</td>\n",
       "    </tr>\n",
       "    <tr>\n",
       "      <th>4</th>\n",
       "      <td>20981158</td>\n",
       "      <td>oslo</td>\n",
       "      <td>Oslo</td>\n",
       "      <td>NO</td>\n",
       "      <td>[10.775728858116, 59.9723978340626]</td>\n",
       "      <td>[10.4891645908356, 59.8093114793301, 10.951389...</td>\n",
       "      <td>[10.4891645908356, 59.8093114793301, 10.951389...</td>\n",
       "    </tr>\n",
       "  </tbody>\n",
       "</table>\n",
       "</div>"
      ],
      "text/plain": [
       "           id     city found name country  \\\n",
       "0  1700534808   munich     Munich      DE   \n",
       "1    29546940  seattle    Seattle     USA   \n",
       "2   533681139    kyoto      Kyoto      JP   \n",
       "3      107775   london     London      GB   \n",
       "4    20981158     oslo       Oslo      NO   \n",
       "\n",
       "                                 centroid  \\\n",
       "0    [11.5258078608938, 48.1545735150576]   \n",
       "1   [-122.313062421052, 47.6189685612917]   \n",
       "2    [135.755607113242, 35.0210405141115]   \n",
       "3  [-0.144055305103075, 51.4893338084221]   \n",
       "4     [10.775728858116, 59.9723978340626]   \n",
       "\n",
       "                                            position  \\\n",
       "0  [11.3607765734196, 48.0616249144077, 11.722908...   \n",
       "1  [-122.436020672321, 47.4955514073372, -122.224...   \n",
       "2  [135.746623724699, 35.0136838853359, 135.76459...   \n",
       "3  [-0.510374754667282, 51.2867599725723, 0.33401...   \n",
       "4  [10.4891645908356, 59.8093114793301, 10.951389...   \n",
       "\n",
       "                                               limit  \n",
       "0  [11.3607765734196, 48.0616249144077, 11.722908...  \n",
       "1  [-122.436020672321, 47.4955514073372, -122.224...  \n",
       "2  [135.746623724699, 35.0136838853359, 135.76459...  \n",
       "3  [-0.510374754667282, 51.2867599725723, 0.33401...  \n",
       "4  [10.4891645908356, 59.8093114793301, 10.951389...  "
      ]
     },
     "execution_count": 4,
     "metadata": {},
     "output_type": "execute_result"
    }
   ],
   "source": [
    "## Obtaining city geocodes/information\n",
    "## This is necessary to ensure the right points are being plotted, as I previously encountered an issue with Munich, where it was being plotted in the US instead of Germany\n",
    "geocode_cities(['munich', 'seattle', 'kyoto', 'london', 'oslo'])\\\n",
    "    .countries(['DE', 'USA', 'JP', 'GB', 'NO'])\\\n",
    "    .get_geocodes()"
   ]
  },
  {
   "cell_type": "code",
   "execution_count": 63,
   "metadata": {},
   "outputs": [
    {
     "data": {
      "text/html": [
       "<div>\n",
       "<style scoped>\n",
       "    .dataframe tbody tr th:only-of-type {\n",
       "        vertical-align: middle;\n",
       "    }\n",
       "\n",
       "    .dataframe tbody tr th {\n",
       "        vertical-align: top;\n",
       "    }\n",
       "\n",
       "    .dataframe thead th {\n",
       "        text-align: right;\n",
       "    }\n",
       "</style>\n",
       "<table border=\"1\" class=\"dataframe\">\n",
       "  <thead>\n",
       "    <tr style=\"text-align: right;\">\n",
       "      <th></th>\n",
       "      <th>city</th>\n",
       "      <th>found name</th>\n",
       "      <th>geometry</th>\n",
       "    </tr>\n",
       "  </thead>\n",
       "  <tbody>\n",
       "    <tr>\n",
       "      <th>0</th>\n",
       "      <td>Munich</td>\n",
       "      <td>Munich</td>\n",
       "      <td>POINT (11.5258 48.15457)</td>\n",
       "    </tr>\n",
       "    <tr>\n",
       "      <th>1</th>\n",
       "      <td>London</td>\n",
       "      <td>London</td>\n",
       "      <td>POINT (-0.14406 51.48933)</td>\n",
       "    </tr>\n",
       "    <tr>\n",
       "      <th>2</th>\n",
       "      <td>Kyoto</td>\n",
       "      <td>Kyoto</td>\n",
       "      <td>POINT (135.75561 35.02104)</td>\n",
       "    </tr>\n",
       "    <tr>\n",
       "      <th>3</th>\n",
       "      <td>Oslo</td>\n",
       "      <td>Oslo</td>\n",
       "      <td>POINT (10.77573 59.9724)</td>\n",
       "    </tr>\n",
       "    <tr>\n",
       "      <th>4</th>\n",
       "      <td>Seattle</td>\n",
       "      <td>Seattle</td>\n",
       "      <td>POINT (-122.31306 47.61897)</td>\n",
       "    </tr>\n",
       "  </tbody>\n",
       "</table>\n",
       "</div>"
      ],
      "text/plain": [
       "      city found name                     geometry\n",
       "0   Munich     Munich     POINT (11.5258 48.15457)\n",
       "1   London     London    POINT (-0.14406 51.48933)\n",
       "2    Kyoto      Kyoto   POINT (135.75561 35.02104)\n",
       "3     Oslo       Oslo     POINT (10.77573 59.9724)\n",
       "4  Seattle    Seattle  POINT (-122.31306 47.61897)"
      ]
     },
     "execution_count": 63,
     "metadata": {},
     "output_type": "execute_result"
    }
   ],
   "source": [
    "## Creating dataframe centroids and changing Munich's longitude and latitude data to the one obtained from the above code\n",
    "centroids = geocode_cities(data[\"city\"]).get_centroids()\n",
    "\n",
    "correct_point = Point(11.52580, 48.15457)\n",
    "\n",
    "centroids.loc[centroids['city'] == 'Munich', 'geometry'] = correct_point\n",
    "\n",
    "centroids.to_csv('../data/centroid_data.csv', index=False)\n",
    "\n",
    "centroids\n"
   ]
  },
  {
   "cell_type": "markdown",
   "metadata": {},
   "source": [
    "### Figure 1. \n",
    "#### <i> Interactive map of selected cities </i>"
   ]
  },
  {
   "cell_type": "code",
   "execution_count": 65,
   "metadata": {},
   "outputs": [
    {
     "data": {
      "text/html": [
       "   <div id=\"oxgSEi\"></div>\n",
       "   <script type=\"text/javascript\" data-lets-plot-script=\"plot\">\n",
       "       (function() {\n",
       "           var plotSpec={\n",
       "\"mapping\":{\n",
       "},\n",
       "\"data_meta\":{\n",
       "},\n",
       "\"ggsize\":{\n",
       "\"width\":800.0,\n",
       "\"height\":500.0\n",
       "},\n",
       "\"kind\":\"plot\",\n",
       "\"scales\":[],\n",
       "\"layers\":[{\n",
       "\"geom\":\"livemap\",\n",
       "\"mapping\":{\n",
       "},\n",
       "\"data_meta\":{\n",
       "},\n",
       "\"zoom\":2.0,\n",
       "\"tiles\":{\n",
       "\"kind\":\"vector_lets_plot\",\n",
       "\"url\":\"wss://tiles.datalore.jetbrains.com\",\n",
       "\"theme\":\"color\",\n",
       "\"attribution\":\"<a href=\\\"https://lets-plot.org\\\">© Lets-Plot</a>, map data: <a href=\\\"https://www.openstreetmap.org/copyright\\\">© OpenStreetMap contributors</a>.\"\n",
       "},\n",
       "\"geocoding\":{\n",
       "\"url\":\"https://geo2.datalore.jetbrains.com/map_data/geocoding\"\n",
       "},\n",
       "\"data\":{\n",
       "}\n",
       "},{\n",
       "\"geom\":\"hline\",\n",
       "\"mapping\":{\n",
       "\"yintercept\":\"yintercept\"\n",
       "},\n",
       "\"data_meta\":{\n",
       "},\n",
       "\"color\":\"#e0218a\",\n",
       "\"linetype\":2.0,\n",
       "\"size\":1.0,\n",
       "\"data\":{\n",
       "\"yintercept\":[0.0,0.0,0.0,0.0]\n",
       "}\n",
       "},{\n",
       "\"geom\":\"point\",\n",
       "\"data\":{\n",
       "\"city\":[\"Munich\",\"London\",\"Kyoto\",\"Oslo\",\"Seattle\"],\n",
       "\"geometry\":[\"{\\\"type\\\": \\\"Point\\\", \\\"coordinates\\\": [11.5258, 48.15457]}\",\"{\\\"type\\\": \\\"Point\\\", \\\"coordinates\\\": [-0.144055305103075, 51.4893338084221]}\",\"{\\\"type\\\": \\\"Point\\\", \\\"coordinates\\\": [135.755607113242, 35.0210405141115]}\",\"{\\\"type\\\": \\\"Point\\\", \\\"coordinates\\\": [10.775728858116, 59.9723978340626]}\",\"{\\\"type\\\": \\\"Point\\\", \\\"coordinates\\\": [-122.313062421052, 47.6189685612917]}\"]\n",
       "},\n",
       "\"mapping\":{\n",
       "\"color\":\"city\"\n",
       "},\n",
       "\"show_legend\":true,\n",
       "\"tooltips\":{\n",
       "\"formats\":[],\n",
       "\"title\":\"@city\"\n",
       "},\n",
       "\"data_meta\":{\n",
       "\"series_annotations\":[{\n",
       "\"type\":\"str\",\n",
       "\"column\":\"city\"\n",
       "},{\n",
       "\"type\":\"str\",\n",
       "\"column\":\"found name\"\n",
       "},{\n",
       "\"type\":\"unknown(pandas:unknown-array)\",\n",
       "\"column\":\"geometry\"\n",
       "}],\n",
       "\"geodataframe\":{\n",
       "\"geometry\":\"geometry\"\n",
       "}\n",
       "},\n",
       "\"size\":5.0\n",
       "}],\n",
       "\"metainfo_list\":[]\n",
       "};\n",
       "           var plotContainer = document.getElementById(\"oxgSEi\");\n",
       "           window.letsPlotCall(function() {{\n",
       "               LetsPlot.buildPlotFromProcessedSpecs(plotSpec, -1, -1, plotContainer);\n",
       "           }});\n",
       "       })();\n",
       "   </script>"
      ],
      "text/plain": [
       "<lets_plot.plot.core.PlotSpec at 0x7f1b7814c450>"
      ]
     },
     "execution_count": 65,
     "metadata": {},
     "output_type": "execute_result"
    }
   ],
   "source": [
    "## Creating an interactive map, where selected cities are visualized as different coloured points\n",
    "centroids = geocode_cities(centroids[\"city\"]).get_centroids()\n",
    "\n",
    "centroids.loc[centroids['city'] == 'Munich', 'geometry'] = Point(11.5258, 48.15457)\n",
    "\n",
    "p = ggplot() + ggsize(800, 500)\n",
    "\n",
    "lats = [0 * y for y in range(4)]\n",
    "\n",
    "plot = (\n",
    "    p + \n",
    "    geom_livemap(zoom=2) +  \n",
    "    geom_hline(aes(yintercept=lats), color='#e0218a', linetype=2, size=1) +  \n",
    "    geom_point(aes(color='city'), \n",
    "               data=centroids,  \n",
    "               size=5,  \n",
    "               show_legend=True,  \n",
    "               tooltips=layer_tooltips().title(\"@city\"))  \n",
    ")\n",
    "\n",
    "plot"
   ]
  }
 ],
 "metadata": {
  "kernelspec": {
   "display_name": "base",
   "language": "python",
   "name": "python3"
  },
  "language_info": {
   "codemirror_mode": {
    "name": "ipython",
    "version": 3
   },
   "file_extension": ".py",
   "mimetype": "text/x-python",
   "name": "python",
   "nbconvert_exporter": "python",
   "pygments_lexer": "ipython3",
   "version": "3.11.8"
  }
 },
 "nbformat": 4,
 "nbformat_minor": 2
}
