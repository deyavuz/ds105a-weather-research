{
 "cells": [
  {
   "cell_type": "markdown",
   "metadata": {},
   "source": [
    "## <b> NB03 - Rankings </b>"
   ]
  },
  {
   "cell_type": "markdown",
   "metadata": {},
   "source": [
    "#### Now that I have decided on my cities and gotten their raininess data, I will analyse which is the rainiest. \n",
    "\n",
    "#### I will do this by:\n",
    "1) Ranking the cities from 1-5 based on their raininess every day between 2021-01-01 and 2024-01-01\n",
    "2) Rank the cities on how many times they have ranked number 1 in the raininess charts\n",
    "3) See which city is the rainiest of them all"
   ]
  },
  {
   "cell_type": "code",
   "execution_count": 40,
   "metadata": {},
   "outputs": [
    {
     "data": {
      "text/html": [
       "\n",
       "            <div id=\"730qYt\"></div>\n",
       "            <script type=\"text/javascript\" data-lets-plot-script=\"library\">\n",
       "                if(!window.letsPlotCallQueue) {\n",
       "                    window.letsPlotCallQueue = [];\n",
       "                }; \n",
       "                window.letsPlotCall = function(f) {\n",
       "                    window.letsPlotCallQueue.push(f);\n",
       "                };\n",
       "                (function() {\n",
       "                    var script = document.createElement(\"script\");\n",
       "                    script.type = \"text/javascript\";\n",
       "                    script.src = \"https://cdn.jsdelivr.net/gh/JetBrains/lets-plot@v4.4.1/js-package/distr/lets-plot.min.js\";\n",
       "                    script.onload = function() {\n",
       "                        window.letsPlotCall = function(f) {f();};\n",
       "                        window.letsPlotCallQueue.forEach(function(f) {f();});\n",
       "                        window.letsPlotCallQueue = [];\n",
       "                        \n",
       "                    };\n",
       "                    script.onerror = function(event) {\n",
       "                        window.letsPlotCall = function(f) {};    // noop\n",
       "                        window.letsPlotCallQueue = [];\n",
       "                        var div = document.createElement(\"div\");\n",
       "                        div.style.color = 'darkred';\n",
       "                        div.textContent = 'Error loading Lets-Plot JS';\n",
       "                        document.getElementById(\"730qYt\").appendChild(div);\n",
       "                    };\n",
       "                    var e = document.getElementById(\"730qYt\");\n",
       "                    e.appendChild(script);\n",
       "                })()\n",
       "            </script>\n",
       "            "
      ]
     },
     "metadata": {},
     "output_type": "display_data"
    }
   ],
   "source": [
    "import pandas as pd\n",
    "import os\n",
    "import json\n",
    "import requests\n",
    "import numpy as np\n",
    "\n",
    "from functions import *\n",
    "\n",
    "from lets_plot import *\n",
    "LetsPlot.setup_html()\n",
    "\n",
    "from lets_plot.mapping import *"
   ]
  },
  {
   "cell_type": "code",
   "execution_count": 3,
   "metadata": {},
   "outputs": [
    {
     "name": "stdout",
     "output_type": "stream",
     "text": [
      "     country     city        date  raininess  raininess_rank\n",
      "3288      US  Seattle  2021-01-01       12.5             1.0\n",
      "0         GB   London  2021-01-01        0.4             2.0\n",
      "4384      NO     Oslo  2021-01-01        0.1             3.0\n",
      "1096      JP    Kyoto  2021-01-01        0.0             4.5\n",
      "2192      DE   Munich  2021-01-01        0.0             4.5\n",
      "...      ...      ...         ...        ...             ...\n",
      "1095      GB   London  2024-01-01       10.5             1.0\n",
      "2191      JP    Kyoto  2024-01-01        2.9             2.0\n",
      "3287      DE   Munich  2024-01-01        0.2             3.0\n",
      "4383      US  Seattle  2024-01-01        0.0             4.5\n",
      "5479      NO     Oslo  2024-01-01        0.0             4.5\n",
      "\n",
      "[5480 rows x 5 columns]\n"
     ]
    }
   ],
   "source": [
    "df = pd.read_csv('/files/ds105a-2024-w06-summative-deyavuz/data/historical_city_rain_data.csv')\n",
    "\n",
    "df['raininess_rank'] = df.groupby('date')['raininess'].rank(ascending=False)\n",
    "\n",
    "df = df.sort_values(['date', 'raininess_rank'])\n",
    "\n",
    "print(df)"
   ]
  },
  {
   "cell_type": "code",
   "execution_count": null,
   "metadata": {},
   "outputs": [],
   "source": []
  },
  {
   "cell_type": "code",
   "execution_count": 4,
   "metadata": {},
   "outputs": [
    {
     "name": "stdout",
     "output_type": "stream",
     "text": [
      "      city  number_of_1_ranks\n",
      "0    Kyoto                283\n",
      "4  Seattle                254\n",
      "2   Munich                204\n",
      "1   London                171\n",
      "3     Oslo                150\n"
     ]
    }
   ],
   "source": [
    "city_rank_counts = df[df['raininess_rank'] == 1].groupby('city').size().reset_index(name='number_of_1_ranks')\n",
    "\n",
    "city_rank_counts = city_rank_counts.sort_values(by='number_of_1_ranks', ascending=False)\n",
    "\n",
    "print(city_rank_counts)"
   ]
  },
  {
   "cell_type": "code",
   "execution_count": 12,
   "metadata": {},
   "outputs": [],
   "source": [
    "city_rank_counts.to_csv('../data/city_rank_counts.csv', index=False)"
   ]
  },
  {
   "cell_type": "code",
   "execution_count": 18,
   "metadata": {},
   "outputs": [
    {
     "data": {
      "text/html": [
       "<div>\n",
       "<style scoped>\n",
       "    .dataframe tbody tr th:only-of-type {\n",
       "        vertical-align: middle;\n",
       "    }\n",
       "\n",
       "    .dataframe tbody tr th {\n",
       "        vertical-align: top;\n",
       "    }\n",
       "\n",
       "    .dataframe thead th {\n",
       "        text-align: right;\n",
       "    }\n",
       "</style>\n",
       "<table border=\"1\" class=\"dataframe\">\n",
       "  <thead>\n",
       "    <tr style=\"text-align: right;\">\n",
       "      <th></th>\n",
       "      <th>city</th>\n",
       "      <th>number_of_1_ranks</th>\n",
       "      <th>explode</th>\n",
       "    </tr>\n",
       "  </thead>\n",
       "  <tbody>\n",
       "    <tr>\n",
       "      <th>0</th>\n",
       "      <td>Kyoto</td>\n",
       "      <td>283</td>\n",
       "      <td>0.0</td>\n",
       "    </tr>\n",
       "    <tr>\n",
       "      <th>1</th>\n",
       "      <td>Seattle</td>\n",
       "      <td>254</td>\n",
       "      <td>0.0</td>\n",
       "    </tr>\n",
       "    <tr>\n",
       "      <th>2</th>\n",
       "      <td>Munich</td>\n",
       "      <td>204</td>\n",
       "      <td>0.0</td>\n",
       "    </tr>\n",
       "    <tr>\n",
       "      <th>3</th>\n",
       "      <td>London</td>\n",
       "      <td>171</td>\n",
       "      <td>0.2</td>\n",
       "    </tr>\n",
       "    <tr>\n",
       "      <th>4</th>\n",
       "      <td>Oslo</td>\n",
       "      <td>150</td>\n",
       "      <td>0.0</td>\n",
       "    </tr>\n",
       "  </tbody>\n",
       "</table>\n",
       "</div>"
      ],
      "text/plain": [
       "      city  number_of_1_ranks  explode\n",
       "0    Kyoto                283      0.0\n",
       "1  Seattle                254      0.0\n",
       "2   Munich                204      0.0\n",
       "3   London                171      0.2\n",
       "4     Oslo                150      0.0"
      ]
     },
     "execution_count": 18,
     "metadata": {},
     "output_type": "execute_result"
    }
   ],
   "source": [
    "df = pd.read_csv('../data/city_rank_counts.csv')\n",
    "df['explode'] = [0.2 if c == 'London' else 0.0 for c in df['city']]\n",
    "df"
   ]
  },
  {
   "cell_type": "code",
   "execution_count": 65,
   "metadata": {},
   "outputs": [
    {
     "data": {
      "text/html": [
       "   <div id=\"cpP8GA\"></div>\n",
       "   <script type=\"text/javascript\" data-lets-plot-script=\"plot\">\n",
       "       (function() {\n",
       "           var plotSpec={\n",
       "\"data\":{\n",
       "},\n",
       "\"mapping\":{\n",
       "},\n",
       "\"data_meta\":{\n",
       "\"series_annotations\":[{\n",
       "\"type\":\"str\",\n",
       "\"column\":\"city\"\n",
       "},{\n",
       "\"type\":\"int\",\n",
       "\"column\":\"number_of_1_ranks\"\n",
       "},{\n",
       "\"type\":\"float\",\n",
       "\"column\":\"explode\"\n",
       "}]\n",
       "},\n",
       "\"ggsize\":{\n",
       "\"width\":500.0,\n",
       "\"height\":400.0\n",
       "},\n",
       "\"theme\":{\n",
       "\"name\":\"classic\",\n",
       "\"line\":\"blank\",\n",
       "\"axis\":\"blank\",\n",
       "\"legend_position\":\"none\"\n",
       "},\n",
       "\"kind\":\"plot\",\n",
       "\"scales\":[{\n",
       "\"aesthetic\":\"fill\",\n",
       "\"low\":\"#e0218a\",\n",
       "\"high\":\"light_pink\",\n",
       "\"scale_mapper_kind\":\"color_gradient\"\n",
       "}],\n",
       "\"layers\":[{\n",
       "\"geom\":\"pie\",\n",
       "\"mapping\":{\n",
       "\"fill\":\"city\",\n",
       "\"weight\":\"number_of_1_ranks\",\n",
       "\"explode\":\"explode\"\n",
       "},\n",
       "\"data_meta\":{\n",
       "\"mapping_annotations\":[{\n",
       "\"parameters\":{\n",
       "\"label\":\"city\",\n",
       "\"order_by\":\"number_of_1_ranks\"\n",
       "},\n",
       "\"aes\":\"fill\",\n",
       "\"annotation\":\"as_discrete\"\n",
       "}]\n",
       "},\n",
       "\"labels\":{\n",
       "\"formats\":[],\n",
       "\"lines\":[\"@city\"],\n",
       "\"annotation_size\":14.0\n",
       "},\n",
       "\"size\":25.0,\n",
       "\"data\":{\n",
       "\"..x..\":[0.0,0.0,0.0,0.0,0.0],\n",
       "\"..y..\":[0.0,0.0,0.0,0.0,0.0],\n",
       "\"..count..\":[283.0,254.0,204.0,171.0,150.0],\n",
       "\"explode\":[0.0,0.0,0.0,0.2,0.0],\n",
       "\"city\":[\"Kyoto\",\"Seattle\",\"Munich\",\"London\",\"Oslo\"],\n",
       "\"number_of_1_ranks\":[283.0,254.0,204.0,171.0,150.0]\n",
       "}\n",
       "}],\n",
       "\"metainfo_list\":[]\n",
       "};\n",
       "           var plotContainer = document.getElementById(\"cpP8GA\");\n",
       "           window.letsPlotCall(function() {{\n",
       "               LetsPlot.buildPlotFromProcessedSpecs(plotSpec, -1, -1, plotContainer);\n",
       "           }});\n",
       "       })();\n",
       "   </script>"
      ],
      "text/plain": [
       "<lets_plot.plot.core.PlotSpec at 0x7fbb79c1bf50>"
      ]
     },
     "execution_count": 65,
     "metadata": {},
     "output_type": "execute_result"
    }
   ],
   "source": [
    "ggplot(df) + \\\n",
    "    geom_pie(aes(fill=as_discrete('city', order_by='number_of_1_ranks'), weight='number_of_1_ranks', explode='explode'),\n",
    "             size=25,\n",
    "             labels=layer_labels().line('@city').size(14)) + \\\n",
    "    ggsize(500, 400) + \\\n",
    "    scale_fill_gradient(low='#e0218a', high='light_pink') + \\\n",
    "    theme_void() + \\\n",
    "    theme(legend_position='none')"
   ]
  },
  {
   "cell_type": "markdown",
   "metadata": {},
   "source": [
    "Based on this, we can conclude that London is <b> NOT </b> the rainiest city of them all - and potentially, not as rainy as the movies make it out to be, as it ranked 4th most rainy city out of 5 movie-featured rainy cities. "
   ]
  }
 ],
 "metadata": {
  "kernelspec": {
   "display_name": "base",
   "language": "python",
   "name": "python3"
  },
  "language_info": {
   "codemirror_mode": {
    "name": "ipython",
    "version": 3
   },
   "file_extension": ".py",
   "mimetype": "text/x-python",
   "name": "python",
   "nbconvert_exporter": "python",
   "pygments_lexer": "ipython3",
   "version": "3.11.8"
  }
 },
 "nbformat": 4,
 "nbformat_minor": 2
}
