{
 "cells": [
  {
   "cell_type": "markdown",
   "metadata": {},
   "source": [
    "## <b> NB03 - Rankings </b>"
   ]
  },
  {
   "cell_type": "markdown",
   "metadata": {},
   "source": [
    "#### Now that I have decided on my cities and gotten their raininess data, I will analyse which is the rainiest. \n",
    "\n",
    "#### I will do this by:\n",
    "1) Ranking the cities from 1-5 based on their raininess every day between 2021-10-10 and 2023-10-10\n",
    "2) Rank the cities on how many times they have ranked number 1 in the raininess charts\n",
    "3) See which city is the rainiest of them all"
   ]
  },
  {
   "cell_type": "code",
   "execution_count": null,
   "metadata": {},
   "outputs": [],
   "source": [
    "import pandas as pd\n",
    "import os\n",
    "import json\n",
    "import requests\n",
    "import numpy as np\n",
    "\n",
    "from functions import *\n",
    "\n",
    "from lets_plot import *\n",
    "LetsPlot.setup_html()"
   ]
  },
  {
   "cell_type": "code",
   "execution_count": null,
   "metadata": {},
   "outputs": [],
   "source": [
    "# Convert the 'date' column to a datetime object for easier manipulation\n",
    "all_rain_sum['date'] = pd.to_datetime(all_rain_sum['date'])\n",
    "\n",
    "# Sort values by 'date' and 'rain_sum' (descending for ranking)\n",
    "all_rain_sum = all_rain_sum.sort_values(['date', 'rain_sum'], ascending=[True, False])\n",
    "\n",
    "# Rank cities within each date based on rain_sum\n",
    "all_rain_sum['daily_rank'] = all_rain_sum.groupby('date')['rain_sum'].rank(method='first', ascending=False)\n",
    "\n",
    "# Optional: Sort by date and rank for a cleaner view\n",
    "all_rain_sum = all_rain_sum.sort_values(['date', 'daily_rank'])\n",
    "\n",
    "print(all_rain_sum)"
   ]
  }
 ],
 "metadata": {
  "language_info": {
   "name": "python"
  }
 },
 "nbformat": 4,
 "nbformat_minor": 2
}
