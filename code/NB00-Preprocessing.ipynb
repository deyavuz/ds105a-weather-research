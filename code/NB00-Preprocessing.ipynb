{
 "cells": [
  {
   "cell_type": "code",
   "execution_count": 9,
   "metadata": {},
   "outputs": [
    {
     "name": "stdout",
     "output_type": "stream",
     "text": [
      "/files/ds105a-2024-w06-summative-deyavuz/data\n"
     ]
    }
   ],
   "source": [
    "## Setting the working directory as data, as I want to create the dataframes I will be using throughout this assignment\n",
    "cd /files/ds105a-2024-w06-summative-deyavuz/data"
   ]
  },
  {
   "cell_type": "code",
   "execution_count": 10,
   "metadata": {},
   "outputs": [
    {
     "data": {
      "text/html": [
       "\n",
       "            <div id=\"ZTQRhY\"></div>\n",
       "            <script type=\"text/javascript\" data-lets-plot-script=\"library\">\n",
       "                if(!window.letsPlotCallQueue) {\n",
       "                    window.letsPlotCallQueue = [];\n",
       "                }; \n",
       "                window.letsPlotCall = function(f) {\n",
       "                    window.letsPlotCallQueue.push(f);\n",
       "                };\n",
       "                (function() {\n",
       "                    var script = document.createElement(\"script\");\n",
       "                    script.type = \"text/javascript\";\n",
       "                    script.src = \"https://cdn.jsdelivr.net/gh/JetBrains/lets-plot@v4.4.1/js-package/distr/lets-plot.min.js\";\n",
       "                    script.onload = function() {\n",
       "                        window.letsPlotCall = function(f) {f();};\n",
       "                        window.letsPlotCallQueue.forEach(function(f) {f();});\n",
       "                        window.letsPlotCallQueue = [];\n",
       "                        \n",
       "                    };\n",
       "                    script.onerror = function(event) {\n",
       "                        window.letsPlotCall = function(f) {};    // noop\n",
       "                        window.letsPlotCallQueue = [];\n",
       "                        var div = document.createElement(\"div\");\n",
       "                        div.style.color = 'darkred';\n",
       "                        div.textContent = 'Error loading Lets-Plot JS';\n",
       "                        document.getElementById(\"ZTQRhY\").appendChild(div);\n",
       "                    };\n",
       "                    var e = document.getElementById(\"ZTQRhY\");\n",
       "                    e.appendChild(script);\n",
       "                })()\n",
       "            </script>\n",
       "            "
      ]
     },
     "metadata": {},
     "output_type": "display_data"
    }
   ],
   "source": [
    "## I'm importing the packages that I'll be using throughout this assignment\n",
    "import pandas as pd\n",
    "import os\n",
    "import json\n",
    "import requests\n",
    "import numpy as np\n",
    "import pandas as pd\n",
    "\n",
    "from lets_plot import *\n",
    "LetsPlot.setup_html()\n"
   ]
  },
  {
   "cell_type": "code",
   "execution_count": 11,
   "metadata": {},
   "outputs": [
    {
     "name": "stdout",
     "output_type": "stream",
     "text": [
      "https://historical-forecast-api.open-meteo.com/v1/forecast?latitude=52.52&longitude=13.41&start_date=2021-03-01&end_date=2024-10-29&hourly=rain,showers,cloud_cover&timezone=Europe%2FLondon\n"
     ]
    },
    {
     "data": {
      "text/plain": [
       "<Response [200]>"
      ]
     },
     "execution_count": 11,
     "metadata": {},
     "output_type": "execute_result"
    }
   ],
   "source": [
    "## I am getting the API URL and printing it to see if I have made any mistakes\n",
    "london_url = \"https://historical-forecast-api.open-meteo.com/v1/forecast?latitude=52.52&longitude=13.41&start_date=2021-03-01&end_date=2024-10-29&hourly=rain,showers,cloud_cover&timezone=Europe%2FLondon\"\n",
    "\n",
    "print(london_url)\n",
    "\n",
    "response = requests.get(london_url)\n",
    "\n",
    "response.json()\n",
    "\n",
    "london_data = response.json()\n",
    "\n",
    "response"
   ]
  },
  {
   "cell_type": "code",
   "execution_count": 12,
   "metadata": {},
   "outputs": [],
   "source": [
    "## Saved the historical London temperatures as a json file\n",
    "with open(\"london_temperatures.json\", \"w\") as file: \n",
    "    json.dump(london_data, file)"
   ]
  },
  {
   "cell_type": "code",
   "execution_count": 19,
   "metadata": {},
   "outputs": [],
   "source": [
    "## Converted the json file into a csv for convenience and standardization\n",
    "with open('london_temperatures.json') as inputfile:\n",
    "    df = pd.read_json(inputfile)\n",
    "\n",
    "df.to_csv('london_temperatures.csv', index=False)"
   ]
  },
  {
   "cell_type": "code",
   "execution_count": 18,
   "metadata": {},
   "outputs": [
    {
     "data": {
      "text/html": [
       "<div>\n",
       "<style scoped>\n",
       "    .dataframe tbody tr th:only-of-type {\n",
       "        vertical-align: middle;\n",
       "    }\n",
       "\n",
       "    .dataframe tbody tr th {\n",
       "        vertical-align: top;\n",
       "    }\n",
       "\n",
       "    .dataframe thead th {\n",
       "        text-align: right;\n",
       "    }\n",
       "</style>\n",
       "<table border=\"1\" class=\"dataframe\">\n",
       "  <thead>\n",
       "    <tr style=\"text-align: right;\">\n",
       "      <th></th>\n",
       "      <th>latitude</th>\n",
       "      <th>longitude</th>\n",
       "      <th>generationtime_ms</th>\n",
       "      <th>utc_offset_seconds</th>\n",
       "      <th>timezone</th>\n",
       "      <th>timezone_abbreviation</th>\n",
       "      <th>elevation</th>\n",
       "      <th>hourly_units</th>\n",
       "      <th>hourly</th>\n",
       "    </tr>\n",
       "  </thead>\n",
       "  <tbody>\n",
       "    <tr>\n",
       "      <th>0</th>\n",
       "      <td>52.52</td>\n",
       "      <td>13.419998</td>\n",
       "      <td>11.35993</td>\n",
       "      <td>0</td>\n",
       "      <td>Europe/London</td>\n",
       "      <td>GMT</td>\n",
       "      <td>38</td>\n",
       "      <td>iso8601</td>\n",
       "      <td>['2021-03-01T00:00', '2021-03-01T01:00', '2021...</td>\n",
       "    </tr>\n",
       "    <tr>\n",
       "      <th>1</th>\n",
       "      <td>52.52</td>\n",
       "      <td>13.419998</td>\n",
       "      <td>11.35993</td>\n",
       "      <td>0</td>\n",
       "      <td>Europe/London</td>\n",
       "      <td>GMT</td>\n",
       "      <td>38</td>\n",
       "      <td>mm</td>\n",
       "      <td>[None, None, None, None, None, None, None, Non...</td>\n",
       "    </tr>\n",
       "    <tr>\n",
       "      <th>2</th>\n",
       "      <td>52.52</td>\n",
       "      <td>13.419998</td>\n",
       "      <td>11.35993</td>\n",
       "      <td>0</td>\n",
       "      <td>Europe/London</td>\n",
       "      <td>GMT</td>\n",
       "      <td>38</td>\n",
       "      <td>mm</td>\n",
       "      <td>[None, None, None, None, None, None, None, Non...</td>\n",
       "    </tr>\n",
       "    <tr>\n",
       "      <th>3</th>\n",
       "      <td>52.52</td>\n",
       "      <td>13.419998</td>\n",
       "      <td>11.35993</td>\n",
       "      <td>0</td>\n",
       "      <td>Europe/London</td>\n",
       "      <td>GMT</td>\n",
       "      <td>38</td>\n",
       "      <td>%</td>\n",
       "      <td>[None, None, None, None, None, None, None, Non...</td>\n",
       "    </tr>\n",
       "  </tbody>\n",
       "</table>\n",
       "</div>"
      ],
      "text/plain": [
       "   latitude  longitude  generationtime_ms  utc_offset_seconds       timezone  \\\n",
       "0     52.52  13.419998           11.35993                   0  Europe/London   \n",
       "1     52.52  13.419998           11.35993                   0  Europe/London   \n",
       "2     52.52  13.419998           11.35993                   0  Europe/London   \n",
       "3     52.52  13.419998           11.35993                   0  Europe/London   \n",
       "\n",
       "  timezone_abbreviation  elevation hourly_units  \\\n",
       "0                   GMT         38      iso8601   \n",
       "1                   GMT         38           mm   \n",
       "2                   GMT         38           mm   \n",
       "3                   GMT         38            %   \n",
       "\n",
       "                                              hourly  \n",
       "0  ['2021-03-01T00:00', '2021-03-01T01:00', '2021...  \n",
       "1  [None, None, None, None, None, None, None, Non...  \n",
       "2  [None, None, None, None, None, None, None, Non...  \n",
       "3  [None, None, None, None, None, None, None, Non...  "
      ]
     },
     "execution_count": 18,
     "metadata": {},
     "output_type": "execute_result"
    }
   ],
   "source": [
    "## Attemped to use pandas to format the dataset\n",
    "pd.read_csv(\"london_temperatures.csv\")"
   ]
  }
 ],
 "metadata": {
  "kernelspec": {
   "display_name": "base",
   "language": "python",
   "name": "python3"
  },
  "language_info": {
   "codemirror_mode": {
    "name": "ipython",
    "version": 3
   },
   "file_extension": ".py",
   "mimetype": "text/x-python",
   "name": "python",
   "nbconvert_exporter": "python",
   "pygments_lexer": "ipython3",
   "version": "3.11.8"
  }
 },
 "nbformat": 4,
 "nbformat_minor": 2
}
