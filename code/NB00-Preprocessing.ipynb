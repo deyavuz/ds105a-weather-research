{
 "cells": [
  {
   "cell_type": "markdown",
   "metadata": {},
   "source": [
    "## 📝<b> NB00 - Preprocessing </b>"
   ]
  },
  {
   "cell_type": "markdown",
   "metadata": {},
   "source": [
    "In this Notebook, I will be running some tests to ensure my functions are importing and running correctly, while also saving my sample dataset as a JSON dataframe."
   ]
  },
  {
   "cell_type": "code",
   "execution_count": 1,
   "metadata": {},
   "outputs": [
    {
     "data": {
      "text/html": [
       "\n",
       "            <div id=\"zJMwmP\"></div>\n",
       "            <script type=\"text/javascript\" data-lets-plot-script=\"library\">\n",
       "                if(!window.letsPlotCallQueue) {\n",
       "                    window.letsPlotCallQueue = [];\n",
       "                }; \n",
       "                window.letsPlotCall = function(f) {\n",
       "                    window.letsPlotCallQueue.push(f);\n",
       "                };\n",
       "                (function() {\n",
       "                    var script = document.createElement(\"script\");\n",
       "                    script.type = \"text/javascript\";\n",
       "                    script.src = \"https://cdn.jsdelivr.net/gh/JetBrains/lets-plot@v4.4.1/js-package/distr/lets-plot.min.js\";\n",
       "                    script.onload = function() {\n",
       "                        window.letsPlotCall = function(f) {f();};\n",
       "                        window.letsPlotCallQueue.forEach(function(f) {f();});\n",
       "                        window.letsPlotCallQueue = [];\n",
       "                        \n",
       "                    };\n",
       "                    script.onerror = function(event) {\n",
       "                        window.letsPlotCall = function(f) {};    // noop\n",
       "                        window.letsPlotCallQueue = [];\n",
       "                        var div = document.createElement(\"div\");\n",
       "                        div.style.color = 'darkred';\n",
       "                        div.textContent = 'Error loading Lets-Plot JS';\n",
       "                        document.getElementById(\"zJMwmP\").appendChild(div);\n",
       "                    };\n",
       "                    var e = document.getElementById(\"zJMwmP\");\n",
       "                    e.appendChild(script);\n",
       "                })()\n",
       "            </script>\n",
       "            "
      ]
     },
     "metadata": {},
     "output_type": "display_data"
    }
   ],
   "source": [
    "## I'm importing the packages that I'll be using throughout this assignment\n",
    "import pandas as pd\n",
    "import os\n",
    "import json\n",
    "import requests\n",
    "import numpy as np\n",
    "\n",
    "from functions import *\n",
    "\n",
    "from lets_plot import *\n",
    "LetsPlot.setup_html()\n"
   ]
  },
  {
   "cell_type": "code",
   "execution_count": null,
   "metadata": {},
   "outputs": [],
   "source": [
    "## Creating a sample historical data variable using the get_historical_data function, London data, and selected dates\n",
    "sample_historical_data = get_historical_data('GB', 'London', '2021-01-01', '2024-01-01')"
   ]
  },
  {
   "cell_type": "code",
   "execution_count": null,
   "metadata": {},
   "outputs": [],
   "source": [
    "## Printing out the structure of sample_historical_data to inspect it - IF NEEDED. Currently saving all this as comments to limit the size of the output\n",
    "\n",
    "## print(\"Top-level keys in the response:\", sample_historical_data.keys())\n",
    "\n",
    "## Checking if 'daily' key exists \n",
    "## if 'daily' in sample_historical_data:\n",
    "    ## print(f\"The 'daily' key exists with sub-keys: {sample_historical_data['daily'].keys()}\")\n",
    "## else:\n",
    "    ## print(\"The 'daily' key is missing in the response.\")"
   ]
  },
  {
   "cell_type": "code",
   "execution_count": null,
   "metadata": {},
   "outputs": [
    {
     "name": "stdout",
     "output_type": "stream",
     "text": [
      "The function returned an object of type: <class 'dict'>\n",
      "This dictionary has the following keys: dict_keys(['latitude', 'longitude', 'generationtime_ms', 'utc_offset_seconds', 'timezone', 'timezone_abbreviation', 'elevation', 'daily_units', 'daily'])\n",
      "The information I want is under the following keys:\n",
      "  sample_historical_data['daily']['time'] \t\t\t- Sample: ['2021-01-01', '2021-01-02', '2021-01-03']\n",
      "  sample_historical_data['daily']['rain_sum'] \t- Sample: [0.4, 0.0, 0.6]\n"
     ]
    }
   ],
   "source": [
    "print(f\"The function returned an object of type: {type(sample_historical_data)}\")\n",
    "print(f\"This dictionary has the following keys: {sample_historical_data.keys()}\")\n",
    "print(f\"The information I want is under the following keys:\")\n",
    "print(f\"  sample_historical_data['daily']['time'] \\t\\t\\t- Sample: {sample_historical_data['daily']['time'][0:3]}\")\n",
    "print(f\"  sample_historical_data['daily']['rain_sum'] \\t- Sample: {sample_historical_data['daily']['rain_sum'][0:3]}\")"
   ]
  },
  {
   "cell_type": "code",
   "execution_count": null,
   "metadata": {},
   "outputs": [],
   "source": [
    "## Defining the selected country and city variables as GB and London for the test sample\n",
    "selected_country = 'GB'\n",
    "selected_city    = 'London'"
   ]
  },
  {
   "cell_type": "code",
   "execution_count": null,
   "metadata": {},
   "outputs": [
    {
     "data": {
      "text/plain": [
       "(51.50853, -0.12574)"
      ]
     },
     "execution_count": 10,
     "metadata": {},
     "output_type": "execute_result"
    }
   ],
   "source": [
    "## Test-running the function\n",
    "get_lat_lon(selected_country, selected_city)"
   ]
  },
  {
   "cell_type": "code",
   "execution_count": null,
   "metadata": {},
   "outputs": [
    {
     "name": "stdout",
     "output_type": "stream",
     "text": [
      "The latitude and longitude of GB, London is (51.50853, -0.12574)\n"
     ]
    }
   ],
   "source": [
    "## To make this easier, I am creating a function that will allow me to put in the country and city names and print the lat/lon\n",
    "print_location_lat_lon('GB', 'London')"
   ]
  },
  {
   "cell_type": "code",
   "execution_count": null,
   "metadata": {},
   "outputs": [],
   "source": [
    "## Defining lat-lon variables with London's latitude and longitude\n",
    "latitude = 51.50853\n",
    "longitude = -0.12574"
   ]
  },
  {
   "cell_type": "code",
   "execution_count": null,
   "metadata": {},
   "outputs": [
    {
     "data": {
      "text/plain": [
       "'https://archive-api.open-meteo.com/v1/archive?latitude=51.50853&longitude=-0.12574&start_date=2021-01-01&end_date=2024-01-01&daily=rain_sum&timezone=auto'"
      ]
     },
     "execution_count": 13,
     "metadata": {},
     "output_type": "execute_result"
    }
   ],
   "source": [
    "## Testing the build_url function with London data and saving it as a url variable\n",
    "url = build_url(latitude, longitude, '2021-01-01', '2024-01-01')\n",
    "url"
   ]
  },
  {
   "cell_type": "code",
   "execution_count": null,
   "metadata": {},
   "outputs": [],
   "source": [
    "## Retrieving weather data for London and storing it in the JSON-structured variable json_data\n",
    "json_data = get_historical_data(selected_country, selected_city, '2021-01-01', '2024-01-01') "
   ]
  },
  {
   "cell_type": "code",
   "execution_count": null,
   "metadata": {},
   "outputs": [
    {
     "data": {
      "text/plain": [
       "True"
      ]
     },
     "execution_count": 15,
     "metadata": {},
     "output_type": "execute_result"
    }
   ],
   "source": [
    "## Retrieving dates and rain sum for each day\n",
    "dates    = json_data['daily']['time']\n",
    "rain_sum = json_data['daily']['rain_sum']\n",
    "\n",
    "## Checking if the length of dates is equal to the length of rain sum data (it should be, if I called the data correctly)\n",
    "len(dates) == len(rain_sum) "
   ]
  },
  {
   "cell_type": "code",
   "execution_count": null,
   "metadata": {},
   "outputs": [],
   "source": [
    "## Creating final_data dictionary and saving previous work in it\n",
    "final_data = {\n",
    "    \"country\"  : selected_country,\n",
    "    \"city\"     : selected_city,\n",
    "    \"date\"     : json_data['daily']['time'],\n",
    "    \"rain_sum\" : json_data['daily']['rain_sum'],\n",
    "}\n",
    "## Saving it as a JSON file in the data folder\n",
    "with open('../data/daily_rain.json', 'w') as file:\n",
    "    json.dump(final_data, file)"
   ]
  },
  {
   "cell_type": "code",
   "execution_count": null,
   "metadata": {},
   "outputs": [
    {
     "data": {
      "text/plain": [
       "dict_keys(['country', 'city', 'date', 'rain_sum'])"
      ]
     },
     "execution_count": 17,
     "metadata": {},
     "output_type": "execute_result"
    }
   ],
   "source": [
    "## Opening and reading the JSON file\n",
    "with open('../data/daily_rain.json', 'r') as file:\n",
    "    data = json.load(file)\n",
    "## Getting the keys for the dataframe (primarily did this due to several API-related errors while working)\n",
    "data.keys()"
   ]
  },
  {
   "cell_type": "code",
   "execution_count": null,
   "metadata": {},
   "outputs": [
    {
     "data": {
      "text/html": [
       "<div>\n",
       "<style scoped>\n",
       "    .dataframe tbody tr th:only-of-type {\n",
       "        vertical-align: middle;\n",
       "    }\n",
       "\n",
       "    .dataframe tbody tr th {\n",
       "        vertical-align: top;\n",
       "    }\n",
       "\n",
       "    .dataframe thead th {\n",
       "        text-align: right;\n",
       "    }\n",
       "</style>\n",
       "<table border=\"1\" class=\"dataframe\">\n",
       "  <thead>\n",
       "    <tr style=\"text-align: right;\">\n",
       "      <th></th>\n",
       "      <th>country</th>\n",
       "      <th>city</th>\n",
       "      <th>date</th>\n",
       "      <th>rain_sum</th>\n",
       "    </tr>\n",
       "  </thead>\n",
       "  <tbody>\n",
       "    <tr>\n",
       "      <th>0</th>\n",
       "      <td>GB</td>\n",
       "      <td>London</td>\n",
       "      <td>2021-01-01</td>\n",
       "      <td>0.4</td>\n",
       "    </tr>\n",
       "    <tr>\n",
       "      <th>1</th>\n",
       "      <td>GB</td>\n",
       "      <td>London</td>\n",
       "      <td>2021-01-02</td>\n",
       "      <td>0.0</td>\n",
       "    </tr>\n",
       "    <tr>\n",
       "      <th>2</th>\n",
       "      <td>GB</td>\n",
       "      <td>London</td>\n",
       "      <td>2021-01-03</td>\n",
       "      <td>0.6</td>\n",
       "    </tr>\n",
       "    <tr>\n",
       "      <th>3</th>\n",
       "      <td>GB</td>\n",
       "      <td>London</td>\n",
       "      <td>2021-01-04</td>\n",
       "      <td>2.3</td>\n",
       "    </tr>\n",
       "    <tr>\n",
       "      <th>4</th>\n",
       "      <td>GB</td>\n",
       "      <td>London</td>\n",
       "      <td>2021-01-05</td>\n",
       "      <td>2.1</td>\n",
       "    </tr>\n",
       "  </tbody>\n",
       "</table>\n",
       "</div>"
      ],
      "text/plain": [
       "  country    city        date  rain_sum\n",
       "0      GB  London  2021-01-01       0.4\n",
       "1      GB  London  2021-01-02       0.0\n",
       "2      GB  London  2021-01-03       0.6\n",
       "3      GB  London  2021-01-04       2.3\n",
       "4      GB  London  2021-01-05       2.1"
      ]
     },
     "execution_count": 18,
     "metadata": {},
     "output_type": "execute_result"
    }
   ],
   "source": [
    "## Convering data into pandas table and saving under df variable\n",
    "df = pd.DataFrame(data)\n",
    "## Calling top 5 variables of the table\n",
    "df.head()"
   ]
  },
  {
   "cell_type": "code",
   "execution_count": null,
   "metadata": {},
   "outputs": [
    {
     "data": {
      "text/html": [
       "<div>\n",
       "<style scoped>\n",
       "    .dataframe tbody tr th:only-of-type {\n",
       "        vertical-align: middle;\n",
       "    }\n",
       "\n",
       "    .dataframe tbody tr th {\n",
       "        vertical-align: top;\n",
       "    }\n",
       "\n",
       "    .dataframe thead th {\n",
       "        text-align: right;\n",
       "    }\n",
       "</style>\n",
       "<table border=\"1\" class=\"dataframe\">\n",
       "  <thead>\n",
       "    <tr style=\"text-align: right;\">\n",
       "      <th></th>\n",
       "      <th>country</th>\n",
       "      <th>city</th>\n",
       "      <th>date</th>\n",
       "      <th>rain_sum</th>\n",
       "    </tr>\n",
       "  </thead>\n",
       "  <tbody>\n",
       "    <tr>\n",
       "      <th>1091</th>\n",
       "      <td>GB</td>\n",
       "      <td>London</td>\n",
       "      <td>2023-12-28</td>\n",
       "      <td>0.4</td>\n",
       "    </tr>\n",
       "    <tr>\n",
       "      <th>1092</th>\n",
       "      <td>GB</td>\n",
       "      <td>London</td>\n",
       "      <td>2023-12-29</td>\n",
       "      <td>1.5</td>\n",
       "    </tr>\n",
       "    <tr>\n",
       "      <th>1093</th>\n",
       "      <td>GB</td>\n",
       "      <td>London</td>\n",
       "      <td>2023-12-30</td>\n",
       "      <td>3.6</td>\n",
       "    </tr>\n",
       "    <tr>\n",
       "      <th>1094</th>\n",
       "      <td>GB</td>\n",
       "      <td>London</td>\n",
       "      <td>2023-12-31</td>\n",
       "      <td>7.6</td>\n",
       "    </tr>\n",
       "    <tr>\n",
       "      <th>1095</th>\n",
       "      <td>GB</td>\n",
       "      <td>London</td>\n",
       "      <td>2024-01-01</td>\n",
       "      <td>10.5</td>\n",
       "    </tr>\n",
       "  </tbody>\n",
       "</table>\n",
       "</div>"
      ],
      "text/plain": [
       "     country    city        date  rain_sum\n",
       "1091      GB  London  2023-12-28       0.4\n",
       "1092      GB  London  2023-12-29       1.5\n",
       "1093      GB  London  2023-12-30       3.6\n",
       "1094      GB  London  2023-12-31       7.6\n",
       "1095      GB  London  2024-01-01      10.5"
      ]
     },
     "execution_count": 19,
     "metadata": {},
     "output_type": "execute_result"
    }
   ],
   "source": [
    "## Calling last 5 rows of the dataframe\n",
    "df.tail()"
   ]
  },
  {
   "cell_type": "code",
   "execution_count": null,
   "metadata": {},
   "outputs": [
    {
     "data": {
      "text/plain": [
       "<Axes: xlabel='date'>"
      ]
     },
     "execution_count": 20,
     "metadata": {},
     "output_type": "execute_result"
    },
    {
     "data": {
      "image/png": "[encoded data removed]",
      "text/plain": [
       "<Figure size 1200x400 with 1 Axes>"
      ]
     },
     "metadata": {},
     "output_type": "display_data"
    }
   ],
   "source": [
    "## Plotting London data to see if there are any visible anomalies\n",
    "df.plot(x='date', y='rain_sum', figsize=(12, 4))"
   ]
  },
  {
   "cell_type": "markdown",
   "metadata": {},
   "source": [
    "Click here to navigate to the next section, [NB01 - City Selection](code/NB01-City-Selection.ipynb)"
   ]
  }
 ],
 "metadata": {
  "kernelspec": {
   "display_name": "base",
   "language": "python",
   "name": "python3"
  },
  "language_info": {
   "codemirror_mode": {
    "name": "ipython",
    "version": 3
   },
   "file_extension": ".py",
   "mimetype": "text/x-python",
   "name": "python",
   "nbconvert_exporter": "python",
   "pygments_lexer": "ipython3",
   "version": "3.11.8"
  }
 },
 "nbformat": 4,
 "nbformat_minor": 2
}
