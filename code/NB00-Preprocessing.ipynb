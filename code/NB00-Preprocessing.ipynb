{
 "cells": [
  {
   "cell_type": "code",
   "execution_count": 1,
   "metadata": {},
   "outputs": [
    {
     "data": {
      "text/html": [
       "\n",
       "            <div id=\"6GgQt4\"></div>\n",
       "            <script type=\"text/javascript\" data-lets-plot-script=\"library\">\n",
       "                if(!window.letsPlotCallQueue) {\n",
       "                    window.letsPlotCallQueue = [];\n",
       "                }; \n",
       "                window.letsPlotCall = function(f) {\n",
       "                    window.letsPlotCallQueue.push(f);\n",
       "                };\n",
       "                (function() {\n",
       "                    var script = document.createElement(\"script\");\n",
       "                    script.type = \"text/javascript\";\n",
       "                    script.src = \"https://cdn.jsdelivr.net/gh/JetBrains/lets-plot@v4.4.1/js-package/distr/lets-plot.min.js\";\n",
       "                    script.onload = function() {\n",
       "                        window.letsPlotCall = function(f) {f();};\n",
       "                        window.letsPlotCallQueue.forEach(function(f) {f();});\n",
       "                        window.letsPlotCallQueue = [];\n",
       "                        \n",
       "                    };\n",
       "                    script.onerror = function(event) {\n",
       "                        window.letsPlotCall = function(f) {};    // noop\n",
       "                        window.letsPlotCallQueue = [];\n",
       "                        var div = document.createElement(\"div\");\n",
       "                        div.style.color = 'darkred';\n",
       "                        div.textContent = 'Error loading Lets-Plot JS';\n",
       "                        document.getElementById(\"6GgQt4\").appendChild(div);\n",
       "                    };\n",
       "                    var e = document.getElementById(\"6GgQt4\");\n",
       "                    e.appendChild(script);\n",
       "                })()\n",
       "            </script>\n",
       "            "
      ]
     },
     "metadata": {},
     "output_type": "display_data"
    }
   ],
   "source": [
    "## I'm importing the packages that I'll be using throughout this assignment\n",
    "import pandas as pd\n",
    "import os\n",
    "import json\n",
    "import requests\n",
    "import numpy as np\n",
    "import pandas as pd\n",
    "\n",
    "from functions import *\n",
    "\n",
    "from lets_plot import *\n",
    "LetsPlot.setup_html()\n"
   ]
  },
  {
   "cell_type": "code",
   "execution_count": 2,
   "metadata": {},
   "outputs": [],
   "source": [
    "sample_historical_data = get_historical_data('GB', 'London', '2021-10-10', '2023-10-10')"
   ]
  },
  {
   "cell_type": "code",
   "execution_count": 3,
   "metadata": {},
   "outputs": [
    {
     "name": "stdout",
     "output_type": "stream",
     "text": [
      "Top-level keys in the response: dict_keys(['latitude', 'longitude', 'generationtime_ms', 'utc_offset_seconds', 'timezone', 'timezone_abbreviation', 'elevation', 'daily_units', 'daily'])\n",
      "The 'daily' key exists with sub-keys: dict_keys(['time', 'rain_sum', 'showers_sum'])\n"
     ]
    }
   ],
   "source": [
    "# Print out the structure of sample_historical_data to inspect it\n",
    "print(\"Top-level keys in the response:\", sample_historical_data.keys())\n",
    "\n",
    "# Check if 'daily' key exists\n",
    "if 'daily' in sample_historical_data:\n",
    "    print(f\"The 'daily' key exists with sub-keys: {sample_historical_data['daily'].keys()}\")\n",
    "else:\n",
    "    print(\"The 'daily' key is missing in the response.\")\n"
   ]
  },
  {
   "cell_type": "code",
   "execution_count": 4,
   "metadata": {},
   "outputs": [
    {
     "name": "stdout",
     "output_type": "stream",
     "text": [
      "The function returned an object of type: <class 'dict'>\n",
      "This dictionary has the following keys: dict_keys(['latitude', 'longitude', 'generationtime_ms', 'utc_offset_seconds', 'timezone', 'timezone_abbreviation', 'elevation', 'daily_units', 'daily'])\n",
      "The information I want is under the following keys:\n",
      "  sample_historical_data['daily']['time'] \t\t\t- Sample: ['2021-10-10', '2021-10-11', '2021-10-12']\n",
      "  sample_historical_data['daily']['rain_sum'] \t- Sample: [0.0, 0.0, 0.0]\n",
      "  sample_historical_data['daily']['showers_sum'] \t- Sample: [0.0, 0.0, 0.0]\n"
     ]
    }
   ],
   "source": [
    "\n",
    "print(f\"The function returned an object of type: {type(sample_historical_data)}\")\n",
    "print(f\"This dictionary has the following keys: {sample_historical_data.keys()}\")\n",
    "print(f\"The information I want is under the following keys:\")\n",
    "print(f\"  sample_historical_data['daily']['time'] \\t\\t\\t- Sample: {sample_historical_data['daily']['time'][0:3]}\")\n",
    "print(f\"  sample_historical_data['daily']['rain_sum'] \\t- Sample: {sample_historical_data['daily']['rain_sum'][0:3]}\")\n",
    "print(f\"  sample_historical_data['daily']['showers_sum'] \\t- Sample: {sample_historical_data['daily']['showers_sum'][0:3]}\")"
   ]
  },
  {
   "cell_type": "code",
   "execution_count": 5,
   "metadata": {},
   "outputs": [],
   "source": [
    "selected_country = 'GB'\n",
    "selected_city    = 'London'"
   ]
  },
  {
   "cell_type": "code",
   "execution_count": 6,
   "metadata": {},
   "outputs": [],
   "source": [
    "latitude, longitude = get_lat_lon(selected_country, selected_city)"
   ]
  },
  {
   "cell_type": "code",
   "execution_count": 7,
   "metadata": {},
   "outputs": [
    {
     "name": "stdout",
     "output_type": "stream",
     "text": [
      "The latitude & longitude of London (GB) are: (51.50853, -0.12574)\n"
     ]
    }
   ],
   "source": [
    "print(f\"The latitude & longitude of {selected_city} ({selected_country}) are: ({latitude}, {longitude})\")"
   ]
  },
  {
   "cell_type": "code",
   "execution_count": 8,
   "metadata": {},
   "outputs": [
    {
     "data": {
      "text/plain": [
       "'https://historical-forecast-api.open-meteo.com/v1/forecast?latitude=51.50853&longitude=-0.12574&start_date=2021-10-10&end_date=2023-10-30&daily=rain_sum,showers_sum&timezone=auto'"
      ]
     },
     "execution_count": 8,
     "metadata": {},
     "output_type": "execute_result"
    }
   ],
   "source": [
    "url = build_url(latitude, longitude, '2021-10-10', '2023-10-30')\n",
    "url"
   ]
  },
  {
   "cell_type": "code",
   "execution_count": 9,
   "metadata": {},
   "outputs": [],
   "source": [
    "json_data = get_historical_data(selected_country, selected_city, '2021-10-10', '2023-10-10') "
   ]
  },
  {
   "cell_type": "code",
   "execution_count": 10,
   "metadata": {},
   "outputs": [
    {
     "data": {
      "text/plain": [
       "True"
      ]
     },
     "execution_count": 10,
     "metadata": {},
     "output_type": "execute_result"
    }
   ],
   "source": [
    "dates    = json_data['daily']['time']\n",
    "rain_sum = json_data['daily']['rain_sum']\n",
    "showers_sum = json_data['daily']['showers_sum']\n",
    "\n",
    "len(dates) == len(rain_sum) == len(showers_sum) == 731"
   ]
  },
  {
   "cell_type": "code",
   "execution_count": 11,
   "metadata": {},
   "outputs": [],
   "source": [
    "json_data = get_historical_data(selected_country, selected_city, '2021-10-10', '2023-10-10') \n",
    "\n",
    "final_data = {\n",
    "    \"country\"  : selected_country,\n",
    "    \"city\"     : selected_city,\n",
    "    \"date\"     : json_data['daily']['time'],\n",
    "    \"rain_sum\" : json_data['daily']['rain_sum'],\n",
    "    \"showers_sum\" : json_data['daily']['showers_sum']\n",
    "}\n",
    "\n",
    "with open('../data/daily_rain.json', 'w') as file:\n",
    "    json.dump(final_data, file)"
   ]
  },
  {
   "cell_type": "code",
   "execution_count": 12,
   "metadata": {},
   "outputs": [
    {
     "data": {
      "text/plain": [
       "dict_keys(['country', 'city', 'date', 'rain_sum', 'showers_sum'])"
      ]
     },
     "execution_count": 12,
     "metadata": {},
     "output_type": "execute_result"
    }
   ],
   "source": [
    "with open('../data/daily_rain.json', 'r') as file:\n",
    "    data = json.load(file)\n",
    "\n",
    "data.keys()"
   ]
  },
  {
   "cell_type": "code",
   "execution_count": 13,
   "metadata": {},
   "outputs": [
    {
     "data": {
      "text/html": [
       "<div>\n",
       "<style scoped>\n",
       "    .dataframe tbody tr th:only-of-type {\n",
       "        vertical-align: middle;\n",
       "    }\n",
       "\n",
       "    .dataframe tbody tr th {\n",
       "        vertical-align: top;\n",
       "    }\n",
       "\n",
       "    .dataframe thead th {\n",
       "        text-align: right;\n",
       "    }\n",
       "</style>\n",
       "<table border=\"1\" class=\"dataframe\">\n",
       "  <thead>\n",
       "    <tr style=\"text-align: right;\">\n",
       "      <th></th>\n",
       "      <th>country</th>\n",
       "      <th>city</th>\n",
       "      <th>date</th>\n",
       "      <th>rain_sum</th>\n",
       "      <th>showers_sum</th>\n",
       "    </tr>\n",
       "  </thead>\n",
       "  <tbody>\n",
       "    <tr>\n",
       "      <th>0</th>\n",
       "      <td>GB</td>\n",
       "      <td>London</td>\n",
       "      <td>2021-10-10</td>\n",
       "      <td>0.0</td>\n",
       "      <td>0.0</td>\n",
       "    </tr>\n",
       "    <tr>\n",
       "      <th>1</th>\n",
       "      <td>GB</td>\n",
       "      <td>London</td>\n",
       "      <td>2021-10-11</td>\n",
       "      <td>0.0</td>\n",
       "      <td>0.0</td>\n",
       "    </tr>\n",
       "    <tr>\n",
       "      <th>2</th>\n",
       "      <td>GB</td>\n",
       "      <td>London</td>\n",
       "      <td>2021-10-12</td>\n",
       "      <td>0.0</td>\n",
       "      <td>0.0</td>\n",
       "    </tr>\n",
       "    <tr>\n",
       "      <th>3</th>\n",
       "      <td>GB</td>\n",
       "      <td>London</td>\n",
       "      <td>2021-10-13</td>\n",
       "      <td>0.0</td>\n",
       "      <td>0.0</td>\n",
       "    </tr>\n",
       "    <tr>\n",
       "      <th>4</th>\n",
       "      <td>GB</td>\n",
       "      <td>London</td>\n",
       "      <td>2021-10-14</td>\n",
       "      <td>0.0</td>\n",
       "      <td>0.0</td>\n",
       "    </tr>\n",
       "  </tbody>\n",
       "</table>\n",
       "</div>"
      ],
      "text/plain": [
       "  country    city        date  rain_sum  showers_sum\n",
       "0      GB  London  2021-10-10       0.0          0.0\n",
       "1      GB  London  2021-10-11       0.0          0.0\n",
       "2      GB  London  2021-10-12       0.0          0.0\n",
       "3      GB  London  2021-10-13       0.0          0.0\n",
       "4      GB  London  2021-10-14       0.0          0.0"
      ]
     },
     "execution_count": 13,
     "metadata": {},
     "output_type": "execute_result"
    }
   ],
   "source": [
    "df = pd.DataFrame(data)\n",
    "\n",
    "df.head()"
   ]
  },
  {
   "cell_type": "code",
   "execution_count": 14,
   "metadata": {},
   "outputs": [
    {
     "data": {
      "text/html": [
       "<div>\n",
       "<style scoped>\n",
       "    .dataframe tbody tr th:only-of-type {\n",
       "        vertical-align: middle;\n",
       "    }\n",
       "\n",
       "    .dataframe tbody tr th {\n",
       "        vertical-align: top;\n",
       "    }\n",
       "\n",
       "    .dataframe thead th {\n",
       "        text-align: right;\n",
       "    }\n",
       "</style>\n",
       "<table border=\"1\" class=\"dataframe\">\n",
       "  <thead>\n",
       "    <tr style=\"text-align: right;\">\n",
       "      <th></th>\n",
       "      <th>country</th>\n",
       "      <th>city</th>\n",
       "      <th>date</th>\n",
       "      <th>rain_sum</th>\n",
       "      <th>showers_sum</th>\n",
       "    </tr>\n",
       "  </thead>\n",
       "  <tbody>\n",
       "    <tr>\n",
       "      <th>726</th>\n",
       "      <td>GB</td>\n",
       "      <td>London</td>\n",
       "      <td>2023-10-06</td>\n",
       "      <td>0.0</td>\n",
       "      <td>0.0</td>\n",
       "    </tr>\n",
       "    <tr>\n",
       "      <th>727</th>\n",
       "      <td>GB</td>\n",
       "      <td>London</td>\n",
       "      <td>2023-10-07</td>\n",
       "      <td>0.0</td>\n",
       "      <td>0.2</td>\n",
       "    </tr>\n",
       "    <tr>\n",
       "      <th>728</th>\n",
       "      <td>GB</td>\n",
       "      <td>London</td>\n",
       "      <td>2023-10-08</td>\n",
       "      <td>0.0</td>\n",
       "      <td>0.0</td>\n",
       "    </tr>\n",
       "    <tr>\n",
       "      <th>729</th>\n",
       "      <td>GB</td>\n",
       "      <td>London</td>\n",
       "      <td>2023-10-09</td>\n",
       "      <td>0.0</td>\n",
       "      <td>0.0</td>\n",
       "    </tr>\n",
       "    <tr>\n",
       "      <th>730</th>\n",
       "      <td>GB</td>\n",
       "      <td>London</td>\n",
       "      <td>2023-10-10</td>\n",
       "      <td>0.0</td>\n",
       "      <td>0.0</td>\n",
       "    </tr>\n",
       "  </tbody>\n",
       "</table>\n",
       "</div>"
      ],
      "text/plain": [
       "    country    city        date  rain_sum  showers_sum\n",
       "726      GB  London  2023-10-06       0.0          0.0\n",
       "727      GB  London  2023-10-07       0.0          0.2\n",
       "728      GB  London  2023-10-08       0.0          0.0\n",
       "729      GB  London  2023-10-09       0.0          0.0\n",
       "730      GB  London  2023-10-10       0.0          0.0"
      ]
     },
     "execution_count": 14,
     "metadata": {},
     "output_type": "execute_result"
    }
   ],
   "source": [
    "df.tail()"
   ]
  },
  {
   "cell_type": "code",
   "execution_count": 15,
   "metadata": {},
   "outputs": [
    {
     "data": {
      "text/plain": [
       "<Axes: xlabel='date'>"
      ]
     },
     "execution_count": 15,
     "metadata": {},
     "output_type": "execute_result"
    },
    {
     "data": {
      "image/png": "[encoded data removed]",
      "text/plain": [
       "<Figure size 1200x400 with 1 Axes>"
      ]
     },
     "metadata": {},
     "output_type": "display_data"
    }
   ],
   "source": [
    "df.plot(x='date', y=['rain_sum', 'showers_sum'], figsize=(12, 4))"
   ]
  },
  {
   "cell_type": "code",
   "execution_count": 16,
   "metadata": {},
   "outputs": [
    {
     "name": "stdout",
     "output_type": "stream",
     "text": [
      "The maximum sum of rain last year was: 35.7\n",
      "The maximum sum of showers last year was: 8.6\n"
     ]
    }
   ],
   "source": [
    "print(f\"The maximum sum of rain last year was: {df['rain_sum'].max()}\")\n",
    "print(f\"The maximum sum of showers last year was: {df['showers_sum'].max()}\")"
   ]
  },
  {
   "cell_type": "code",
   "execution_count": 17,
   "metadata": {},
   "outputs": [
    {
     "name": "stdout",
     "output_type": "stream",
     "text": [
      "    country    city       date  raininess\n",
      "0        GB  London 2021-10-10        0.0\n",
      "1        GB  London 2021-10-11        0.0\n",
      "2        GB  London 2021-10-12        0.0\n",
      "3        GB  London 2021-10-13        0.0\n",
      "4        GB  London 2021-10-14        0.0\n",
      "..      ...     ...        ...        ...\n",
      "726      GB  London 2023-10-06        0.0\n",
      "727      GB  London 2023-10-07        0.1\n",
      "728      GB  London 2023-10-08        0.0\n",
      "729      GB  London 2023-10-09        0.0\n",
      "730      GB  London 2023-10-10        0.0\n",
      "\n",
      "[731 rows x 4 columns]\n"
     ]
    }
   ],
   "source": [
    "daily_rain = pd.read_json('../data/daily_rain.json')\n",
    "\n",
    "daily_rain['raininess'] = daily_rain[['rain_sum','showers_sum']].mean(axis=1)\n",
    "\n",
    "daily_rain.drop(columns=['rain_sum', 'showers_sum'], inplace=True)\n",
    "\n",
    "csv_file_path = '/files/ds105a-2024-w06-summative-deyavuz/data/london_rain.csv'\n",
    "\n",
    "daily_rain.to_csv(csv_file_path, index=False)\n",
    "\n",
    "print(daily_rain)"
   ]
  }
 ],
 "metadata": {
  "kernelspec": {
   "display_name": "base",
   "language": "python",
   "name": "python3"
  },
  "language_info": {
   "codemirror_mode": {
    "name": "ipython",
    "version": 3
   },
   "file_extension": ".py",
   "mimetype": "text/x-python",
   "name": "python",
   "nbconvert_exporter": "python",
   "pygments_lexer": "ipython3",
   "version": "3.11.8"
  }
 },
 "nbformat": 4,
 "nbformat_minor": 2
}
