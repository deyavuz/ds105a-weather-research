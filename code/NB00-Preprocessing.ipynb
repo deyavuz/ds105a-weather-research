{
 "cells": [
  {
   "cell_type": "code",
   "execution_count": 102,
   "metadata": {},
   "outputs": [
    {
     "data": {
      "text/html": [
       "\n",
       "            <div id=\"A98a4k\"></div>\n",
       "            <script type=\"text/javascript\" data-lets-plot-script=\"library\">\n",
       "                if(!window.letsPlotCallQueue) {\n",
       "                    window.letsPlotCallQueue = [];\n",
       "                }; \n",
       "                window.letsPlotCall = function(f) {\n",
       "                    window.letsPlotCallQueue.push(f);\n",
       "                };\n",
       "                (function() {\n",
       "                    var script = document.createElement(\"script\");\n",
       "                    script.type = \"text/javascript\";\n",
       "                    script.src = \"https://cdn.jsdelivr.net/gh/JetBrains/lets-plot@v4.4.1/js-package/distr/lets-plot.min.js\";\n",
       "                    script.onload = function() {\n",
       "                        window.letsPlotCall = function(f) {f();};\n",
       "                        window.letsPlotCallQueue.forEach(function(f) {f();});\n",
       "                        window.letsPlotCallQueue = [];\n",
       "                        \n",
       "                    };\n",
       "                    script.onerror = function(event) {\n",
       "                        window.letsPlotCall = function(f) {};    // noop\n",
       "                        window.letsPlotCallQueue = [];\n",
       "                        var div = document.createElement(\"div\");\n",
       "                        div.style.color = 'darkred';\n",
       "                        div.textContent = 'Error loading Lets-Plot JS';\n",
       "                        document.getElementById(\"A98a4k\").appendChild(div);\n",
       "                    };\n",
       "                    var e = document.getElementById(\"A98a4k\");\n",
       "                    e.appendChild(script);\n",
       "                })()\n",
       "            </script>\n",
       "            "
      ]
     },
     "metadata": {},
     "output_type": "display_data"
    }
   ],
   "source": [
    "## I'm importing the packages that I'll be using throughout this assignment\n",
    "import pandas as pd\n",
    "import os\n",
    "import json\n",
    "import requests\n",
    "import numpy as np\n",
    "import pandas as pd\n",
    "\n",
    "from lets_plot import *\n",
    "LetsPlot.setup_html()\n"
   ]
  },
  {
   "cell_type": "code",
   "execution_count": 103,
   "metadata": {},
   "outputs": [
    {
     "name": "stdout",
     "output_type": "stream",
     "text": [
      "4874.56s - pydevd: Sending message related to process being replaced timed-out after 5 seconds\n"
     ]
    }
   ],
   "source": [
    "## Setting the working directory as data, as I want to create the dataframes I will be using throughout this assignment\n",
    "!cd /files/ds105a-2024-w06-summative-deyavuz/data"
   ]
  },
  {
   "cell_type": "markdown",
   "metadata": {},
   "source": [
    "## I am getting the API URL and printing it to see if I have made any mistakes\n",
    "london_url = \"https://historical-forecast-api.open-meteo.com/v1/forecast?latitude=52.52&longitude=13.41&start_date=2021-03-01&end_date=2024-10-29&hourly=rain,showers&timezone=Europe%2FLondon\"\n",
    "\n",
    "print(london_url)\n",
    "\n",
    "response = requests.get(london_url)\n",
    "\n",
    "london_data = response.json()\n",
    "london_temp = london_data['hourly']['rain']\n",
    "print(london_temp)"
   ]
  },
  {
   "cell_type": "markdown",
   "metadata": {},
   "source": [
    "## Saved the historical London temperatures as a json file\n",
    "with open(\"london_temperatures.json\", \"w\") as file: \n",
    "    json.dump(london_data, file)"
   ]
  },
  {
   "cell_type": "markdown",
   "metadata": {},
   "source": [
    "## Converted the json file into a csv for convenience and standardization\n",
    "with open('london_temperatures.json') as inputfile:\n",
    "    df = pd.read_json(inputfile)\n",
    "\n",
    "df.to_csv('london_temperatures.csv', index=False)"
   ]
  },
  {
   "cell_type": "markdown",
   "metadata": {},
   "source": [
    "## Attemped to use pandas to format the dataset\n",
    "pd.read_csv(\"london_temperatures.csv\")\n"
   ]
  },
  {
   "cell_type": "markdown",
   "metadata": {},
   "source": [
    "## code to combine temp 1 2 and 3\n",
    "with open(DATA_FILENAME, mode='w', encoding='utf-8') as feedsjson:\n",
    "        entry = {}\n",
    "        entry['name'] = args.name\n",
    "        entry['url'] = args.url\n",
    "        json.dump(entry, feedsjson)"
   ]
  },
  {
   "cell_type": "code",
   "execution_count": 104,
   "metadata": {},
   "outputs": [],
   "source": [
    "def get_lat_lon(country_code, city):\n",
    "    \n",
    "    filepath = '../data/world_cities.csv'\n",
    "    world_cities = pd.read_csv(filepath)\n",
    "\n",
    "    city_data = world_cities[(world_cities['country'] == country_code) & \n",
    "                             (world_cities['name'] == city)]\n",
    "    \n",
    "    city_data = city_data.to_dict('records')\n",
    "    \n",
    "    if len(city_data) == 0:\n",
    "        raise ValueError(f\"No records found for {city}, {country_code} in {filepath}\")\n",
    "\n",
    "    latitude = city_data[0]['lat']\n",
    "    longitude = city_data[0]['lng']\n",
    "\n",
    "    return latitude, longitude"
   ]
  },
  {
   "cell_type": "code",
   "execution_count": 105,
   "metadata": {},
   "outputs": [],
   "source": [
    "def build_url(latitude: float, longitude: float, start_date:str , end_date: str):\n",
    "    base_historical_url = \"https://historical-forecast-api.open-meteo.com/v1/forecast?\"\n",
    "    params_lat_long     = \"latitude=\" + str(latitude) + \"&longitude=\"  + str(longitude)\n",
    "    params_date         = \"&start_date=\" + start_date + \"&end_date=\" + end_date\n",
    "\n",
    "    params_others       = \"&daily=rain_sum,showers_sum&timezone=auto\"\n",
    "\n",
    "    final_url = base_historical_url + params_lat_long + params_date + params_others\n",
    "\n",
    "    return final_url"
   ]
  },
  {
   "cell_type": "code",
   "execution_count": 106,
   "metadata": {},
   "outputs": [],
   "source": [
    "def get_historical_data(country_code, city_name, start_date, end_date):\n",
    "\n",
    "    latitude, longitude = get_lat_lon(country_code, city_name)\n",
    "\n",
    "    url = build_url(latitude, longitude, start_date, end_date)\n",
    "\n",
    "    response = requests.get(url)\n",
    "\n",
    "    historical_data = response.json()\n",
    "    return historical_data"
   ]
  },
  {
   "cell_type": "code",
   "execution_count": 107,
   "metadata": {},
   "outputs": [],
   "source": [
    "sample_historical_data = get_historical_data('GB', 'London', '2021-10-10', '2023-10-10')"
   ]
  },
  {
   "cell_type": "code",
   "execution_count": 108,
   "metadata": {},
   "outputs": [
    {
     "name": "stdout",
     "output_type": "stream",
     "text": [
      "Top-level keys in the response: dict_keys(['latitude', 'longitude', 'generationtime_ms', 'utc_offset_seconds', 'timezone', 'timezone_abbreviation', 'elevation', 'daily_units', 'daily'])\n",
      "The 'daily' key exists with sub-keys: dict_keys(['time', 'rain_sum', 'showers_sum'])\n"
     ]
    }
   ],
   "source": [
    "# Print out the structure of sample_historical_data to inspect it\n",
    "print(\"Top-level keys in the response:\", sample_historical_data.keys())\n",
    "\n",
    "# Check if 'daily' key exists\n",
    "if 'daily' in sample_historical_data:\n",
    "    print(f\"The 'daily' key exists with sub-keys: {sample_historical_data['daily'].keys()}\")\n",
    "else:\n",
    "    print(\"The 'daily' key is missing in the response.\")\n"
   ]
  },
  {
   "cell_type": "code",
   "execution_count": 109,
   "metadata": {},
   "outputs": [
    {
     "name": "stdout",
     "output_type": "stream",
     "text": [
      "The function returned an object of type: <class 'dict'>\n",
      "This dictionary has the following keys: dict_keys(['latitude', 'longitude', 'generationtime_ms', 'utc_offset_seconds', 'timezone', 'timezone_abbreviation', 'elevation', 'daily_units', 'daily'])\n",
      "The information I want is under the following keys:\n",
      "  sample_historical_data['daily']['time'] \t\t\t- Sample: ['2021-10-10', '2021-10-11', '2021-10-12']\n",
      "  sample_historical_data['daily']['rain_sum'] \t- Sample: [0.0, 0.0, 0.0]\n",
      "  sample_historical_data['daily']['showers_sum'] \t- Sample: [0.0, 0.0, 0.0]\n"
     ]
    }
   ],
   "source": [
    "\n",
    "print(f\"The function returned an object of type: {type(sample_historical_data)}\")\n",
    "print(f\"This dictionary has the following keys: {sample_historical_data.keys()}\")\n",
    "print(f\"The information I want is under the following keys:\")\n",
    "print(f\"  sample_historical_data['daily']['time'] \\t\\t\\t- Sample: {sample_historical_data['daily']['time'][0:3]}\")\n",
    "print(f\"  sample_historical_data['daily']['rain_sum'] \\t- Sample: {sample_historical_data['daily']['rain_sum'][0:3]}\")\n",
    "print(f\"  sample_historical_data['daily']['showers_sum'] \\t- Sample: {sample_historical_data['daily']['showers_sum'][0:3]}\")"
   ]
  },
  {
   "cell_type": "code",
   "execution_count": 110,
   "metadata": {},
   "outputs": [],
   "source": [
    "selected_country = 'GB'\n",
    "selected_city    = 'London'"
   ]
  },
  {
   "cell_type": "code",
   "execution_count": 111,
   "metadata": {},
   "outputs": [],
   "source": [
    "latitude, longitude = get_lat_lon(selected_country, selected_city)"
   ]
  },
  {
   "cell_type": "code",
   "execution_count": 112,
   "metadata": {},
   "outputs": [
    {
     "name": "stdout",
     "output_type": "stream",
     "text": [
      "The latitude & longitude of London (GB) are: (51.50853, -0.12574)\n"
     ]
    }
   ],
   "source": [
    "print(f\"The latitude & longitude of {selected_city} ({selected_country}) are: ({latitude}, {longitude})\")"
   ]
  },
  {
   "cell_type": "code",
   "execution_count": 113,
   "metadata": {},
   "outputs": [
    {
     "data": {
      "text/plain": [
       "'https://historical-forecast-api.open-meteo.com/v1/forecast?latitude=51.50853&longitude=-0.12574&start_date=2021-10-10&end_date=2023-10-30&daily=rain_sum,showers_sum&timezone=auto'"
      ]
     },
     "execution_count": 113,
     "metadata": {},
     "output_type": "execute_result"
    }
   ],
   "source": [
    "url = build_url(latitude, longitude, '2021-10-10', '2023-10-30')\n",
    "url"
   ]
  },
  {
   "cell_type": "code",
   "execution_count": 117,
   "metadata": {},
   "outputs": [],
   "source": [
    "json_data = get_historical_data(selected_country, selected_city, '2021-10-10', '2023-10-10') "
   ]
  },
  {
   "cell_type": "code",
   "execution_count": 124,
   "metadata": {},
   "outputs": [
    {
     "data": {
      "text/plain": [
       "True"
      ]
     },
     "execution_count": 124,
     "metadata": {},
     "output_type": "execute_result"
    }
   ],
   "source": [
    "dates    = json_data['daily']['time']\n",
    "rain_sum = json_data['daily']['rain_sum']\n",
    "showers_sum = json_data['daily']['showers_sum']\n",
    "\n",
    "len(dates) == len(rain_sum) == len(showers_sum) == 731"
   ]
  },
  {
   "cell_type": "code",
   "execution_count": 125,
   "metadata": {},
   "outputs": [],
   "source": [
    "json_data = get_historical_data(selected_country, selected_city, '2021-10-10', '2023-10-10') \n",
    "\n",
    "final_data = {\n",
    "    \"country\"  : selected_country,\n",
    "    \"city\"     : selected_city,\n",
    "    \"date\"     : json_data['daily']['time'],\n",
    "    \"rain_sum\" : json_data['daily']['rain_sum'],\n",
    "    \"showers_sum\" : json_data['daily']['showers_sum']\n",
    "}\n",
    "\n",
    "with open('../data/daily_temp.json', 'w') as file:\n",
    "    json.dump(final_data, file)"
   ]
  },
  {
   "cell_type": "code",
   "execution_count": 126,
   "metadata": {},
   "outputs": [
    {
     "data": {
      "text/plain": [
       "dict_keys(['country', 'city', 'date', 'rain_sum', 'showers_sum'])"
      ]
     },
     "execution_count": 126,
     "metadata": {},
     "output_type": "execute_result"
    }
   ],
   "source": [
    "with open('../data/daily_temp.json', 'r') as file:\n",
    "    data = json.load(file)\n",
    "\n",
    "data.keys()"
   ]
  },
  {
   "cell_type": "code",
   "execution_count": 129,
   "metadata": {},
   "outputs": [
    {
     "data": {
      "text/html": [
       "<div>\n",
       "<style scoped>\n",
       "    .dataframe tbody tr th:only-of-type {\n",
       "        vertical-align: middle;\n",
       "    }\n",
       "\n",
       "    .dataframe tbody tr th {\n",
       "        vertical-align: top;\n",
       "    }\n",
       "\n",
       "    .dataframe thead th {\n",
       "        text-align: right;\n",
       "    }\n",
       "</style>\n",
       "<table border=\"1\" class=\"dataframe\">\n",
       "  <thead>\n",
       "    <tr style=\"text-align: right;\">\n",
       "      <th></th>\n",
       "      <th>country</th>\n",
       "      <th>city</th>\n",
       "      <th>date</th>\n",
       "      <th>rain_sum</th>\n",
       "      <th>showers_sum</th>\n",
       "    </tr>\n",
       "  </thead>\n",
       "  <tbody>\n",
       "    <tr>\n",
       "      <th>0</th>\n",
       "      <td>GB</td>\n",
       "      <td>London</td>\n",
       "      <td>2021-10-10</td>\n",
       "      <td>0.0</td>\n",
       "      <td>0.0</td>\n",
       "    </tr>\n",
       "    <tr>\n",
       "      <th>1</th>\n",
       "      <td>GB</td>\n",
       "      <td>London</td>\n",
       "      <td>2021-10-11</td>\n",
       "      <td>0.0</td>\n",
       "      <td>0.0</td>\n",
       "    </tr>\n",
       "    <tr>\n",
       "      <th>2</th>\n",
       "      <td>GB</td>\n",
       "      <td>London</td>\n",
       "      <td>2021-10-12</td>\n",
       "      <td>0.0</td>\n",
       "      <td>0.0</td>\n",
       "    </tr>\n",
       "    <tr>\n",
       "      <th>3</th>\n",
       "      <td>GB</td>\n",
       "      <td>London</td>\n",
       "      <td>2021-10-13</td>\n",
       "      <td>0.0</td>\n",
       "      <td>0.0</td>\n",
       "    </tr>\n",
       "    <tr>\n",
       "      <th>4</th>\n",
       "      <td>GB</td>\n",
       "      <td>London</td>\n",
       "      <td>2021-10-14</td>\n",
       "      <td>0.0</td>\n",
       "      <td>0.0</td>\n",
       "    </tr>\n",
       "  </tbody>\n",
       "</table>\n",
       "</div>"
      ],
      "text/plain": [
       "  country    city        date  rain_sum  showers_sum\n",
       "0      GB  London  2021-10-10       0.0          0.0\n",
       "1      GB  London  2021-10-11       0.0          0.0\n",
       "2      GB  London  2021-10-12       0.0          0.0\n",
       "3      GB  London  2021-10-13       0.0          0.0\n",
       "4      GB  London  2021-10-14       0.0          0.0"
      ]
     },
     "execution_count": 129,
     "metadata": {},
     "output_type": "execute_result"
    }
   ],
   "source": [
    "df = pd.DataFrame(data)\n",
    "\n",
    "# How does the data look like?\n",
    "df.head()"
   ]
  }
 ],
 "metadata": {
  "kernelspec": {
   "display_name": "base",
   "language": "python",
   "name": "python3"
  },
  "language_info": {
   "codemirror_mode": {
    "name": "ipython",
    "version": 3
   },
   "file_extension": ".py",
   "mimetype": "text/x-python",
   "name": "python",
   "nbconvert_exporter": "python",
   "pygments_lexer": "ipython3",
   "version": "3.11.8"
  }
 },
 "nbformat": 4,
 "nbformat_minor": 2
}
