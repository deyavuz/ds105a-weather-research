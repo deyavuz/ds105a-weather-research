{
 "cells": [
  {
   "cell_type": "markdown",
   "metadata": {},
   "source": [
    "## <b> NB01 - Raininess Index </b>"
   ]
  },
  {
   "cell_type": "markdown",
   "metadata": {},
   "source": [
    "My Raininiess Index (RI) will be composed of two variables:\n",
    "1) Rain\n",
    "2) Showers\n",
    "\n",
    "These will help me in making deductions regarding my two hypotheses:\n",
    "\n",
    "<b> H0: </b>  London is no different than any other generally-rainy city\n",
    "\n",
    "<b> H1: </b> London is as rainy as the movies make it out to be\n",
    "\n",
    "However, I have a third hypothesis:\n",
    "\n",
    "<b> H2: </b> London is not rainy but cloudy, which gives it a rainy reputation\n",
    "\n",
    "Of course, H2 cannot be directly proven due to the many, many extraneous factors that go into making a statement like that. This is why I'm leaving \"cloud cover\" separate from my RI but still using it to make comparisons.\n",
    "\n",
    "My personal theory is that the gloomy, cloudy weather might be playing a role in the rainy reputation of London, which is why I still chose to use cloud cover as a variable and included it in my hypothesis.\n",
    "\n",
    "Finally, I'll be combinging the \"rain\" and \"showers\" variables into a general \"raininess\" variable, as the API only has a combined variable  for rain, showers and snow called \"precipitation\" and I want to leave snow out of the equation, especially some of the cities I have chosen are more prone to snow than London (e.g., Oslo, Norway)."
   ]
  }
 ],
 "metadata": {
  "language_info": {
   "name": "python"
  }
 },
 "nbformat": 4,
 "nbformat_minor": 2
}
